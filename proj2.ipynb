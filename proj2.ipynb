{
 "cells": [
  {
   "cell_type": "code",
   "execution_count": 1,
   "metadata": {
    "deletable": false,
    "editable": false
   },
   "outputs": [],
   "source": [
    "# Initialize Otter\n",
    "import otter\n",
    "grader = otter.Notebook()"
   ]
  },
  {
   "cell_type": "markdown",
   "metadata": {},
   "source": [
    "# Project 2: Spam/Ham Classification\n",
    "## Feature Engineering, Logistic Regression, Cross Validation\n",
    "## Due Date: Monday 11/30, 11:59 PM PST\n",
    "\n",
    "**Collaboration Policy**\n",
    "\n",
    "Data science is a collaborative activity. While you may talk with others about\n",
    "the project, we ask that you **write your solutions individually**. If you do\n",
    "discuss the assignments with others please **include their names** at the top\n",
    "of your notebook."
   ]
  },
  {
   "cell_type": "markdown",
   "metadata": {},
   "source": [
    "**Collaborators**: *list collaborators here*"
   ]
  },
  {
   "cell_type": "markdown",
   "metadata": {
    "nbgrader": {
     "grade": false,
     "grade_id": "proj2",
     "locked": true,
     "schema_version": 2,
     "solution": false
    }
   },
   "source": [
    "## This Assignment\n",
    "In this project, you will use what you've learned in class to create a classifier that can distinguish spam (junk or commercial or bulk) emails from ham (non-spam) emails. In addition to providing some skeleton code to fill in, we will evaluate your work based on your model's accuracy and your written responses in this notebook.\n",
    "\n",
    "After this project, you should feel comfortable with the following:\n",
    "\n",
    "- Feature engineering with text data\n",
    "- Using `sklearn` libraries to process data and fit models\n",
    "- Validating the performance of your model and minimizing overfitting\n",
    "- Generating and analyzing precision-recall curves\n",
    "\n",
    "## Warning\n",
    "This is a **real world** dataset– the emails you are trying to classify are actual spam and legitimate emails. As a result, some of the spam emails may be in poor taste or be considered inappropriate. We think the benefit of working with realistic data outweighs these innapropriate emails, and wanted to give a warning at the beginning of the project so that you are made aware."
   ]
  },
  {
   "cell_type": "markdown",
   "metadata": {},
   "source": [
    "## Disclaimer about `sns.distplot()`\n",
    "\n",
    "This project was designed for a slightly older version of seaborn, which does not support the new `displot` method taught in Lecture 9. Instead, in this project will occasionally call `distplot` (with a `t`). As you may have noticed in several of the previous assignments, use of the `distplot` function triggers a deprecation warning to notify the user that they should replace all deprecated functions with the updated version. Generally, warnings should not be suppressed but we will do so in this assignment to avoid cluttering.\n",
    "\n",
    "See the seaborn documentation on [distributions](https://seaborn.pydata.org/tutorial/distributions.html) and [functions](https://seaborn.pydata.org/tutorial/function_overview.html) for more details."
   ]
  },
  {
   "cell_type": "code",
   "execution_count": 2,
   "metadata": {},
   "outputs": [],
   "source": [
    "# Run this cell to suppress all FutureWarnings\n",
    "import warnings\n",
    "warnings.filterwarnings(\"ignore\", category=FutureWarning)"
   ]
  },
  {
   "cell_type": "markdown",
   "metadata": {},
   "source": [
    "## Score Breakdown\n",
    "Question | Points\n",
    "--- | ---\n",
    "1a | 1\n",
    "1b | 1\n",
    "1c | 2\n",
    "2 | 3\n",
    "3a | 2\n",
    "3b | 2\n",
    "4 | 2\n",
    "5 | 2\n",
    "6a | 1\n",
    "6b | 1\n",
    "6c | 2\n",
    "6d | 2\n",
    "6e | 1\n",
    "6f | 3\n",
    "7 | 6\n",
    "8 | 6\n",
    "9 | 3\n",
    "10 | 15\n",
    "Total | 55"
   ]
  },
  {
   "cell_type": "markdown",
   "metadata": {
    "nbgrader": {
     "grade": false,
     "grade_id": "p1",
     "locked": true,
     "schema_version": 2,
     "solution": false
    }
   },
   "source": [
    "# Part I - Initial Analysis"
   ]
  },
  {
   "cell_type": "code",
   "execution_count": 3,
   "metadata": {
    "ExecuteTime": {
     "end_time": "2019-04-03T20:17:41.341673Z",
     "start_time": "2019-04-03T20:17:41.330307Z"
    },
    "nbgrader": {
     "grade": false,
     "grade_id": "imports",
     "locked": true,
     "schema_version": 2,
     "solution": false
    }
   },
   "outputs": [],
   "source": [
    "import numpy as np\n",
    "import pandas as pd\n",
    "\n",
    "import matplotlib.pyplot as plt\n",
    "%matplotlib inline\n",
    "\n",
    "import seaborn as sns\n",
    "sns.set(style = \"whitegrid\", \n",
    "        color_codes = True,\n",
    "        font_scale = 1.5)"
   ]
  },
  {
   "cell_type": "markdown",
   "metadata": {
    "nbgrader": {
     "grade": false,
     "grade_id": "loading",
     "locked": true,
     "schema_version": 2,
     "solution": false
    }
   },
   "source": [
    "### Loading in the Data\n",
    "\n",
    "In email classification, our goal is to classify emails as spam or not spam (referred to as \"ham\") using features generated from the text in the email. \n",
    "\n",
    "The dataset consists of email messages and their labels (0 for ham, 1 for spam). Your labeled training dataset contains 8348 labeled examples, and the unlabeled test set contains 1000 unlabeled examples.\n",
    "\n",
    "Run the following cells to load in the data into DataFrames.\n",
    "\n",
    "The `train` DataFrame contains labeled data that you will use to train your model. It contains four columns:\n",
    "\n",
    "1. `id`: An identifier for the training example\n",
    "1. `subject`: The subject of the email\n",
    "1. `email`: The text of the email\n",
    "1. `spam`: 1 if the email is spam, 0 if the email is ham (not spam)\n",
    "\n",
    "The `test` DataFrame contains 1000 unlabeled emails. You will predict labels for these emails and submit your predictions to the autograder for evaluation."
   ]
  },
  {
   "cell_type": "code",
   "execution_count": 4,
   "metadata": {
    "ExecuteTime": {
     "end_time": "2019-04-03T20:17:42.181245Z",
     "start_time": "2019-04-03T20:17:41.343927Z"
    },
    "nbgrader": {
     "grade": false,
     "grade_id": "fetch-data",
     "locked": true,
     "schema_version": 2,
     "solution": false
    }
   },
   "outputs": [
    {
     "name": "stdout",
     "output_type": "stream",
     "text": [
      "Using version already downloaded: Mon Nov 16 21:37:50 2020\n",
      "MD5 hash of file: 0380c4cf72746622947b9ca5db9b8be8\n",
      "Using version already downloaded: Mon Nov 16 21:37:53 2020\n",
      "MD5 hash of file: a2e7abd8c7d9abf6e6fafc1d1f9ee6bf\n"
     ]
    },
    {
     "data": {
      "text/html": [
       "<div>\n",
       "<style scoped>\n",
       "    .dataframe tbody tr th:only-of-type {\n",
       "        vertical-align: middle;\n",
       "    }\n",
       "\n",
       "    .dataframe tbody tr th {\n",
       "        vertical-align: top;\n",
       "    }\n",
       "\n",
       "    .dataframe thead th {\n",
       "        text-align: right;\n",
       "    }\n",
       "</style>\n",
       "<table border=\"1\" class=\"dataframe\">\n",
       "  <thead>\n",
       "    <tr style=\"text-align: right;\">\n",
       "      <th></th>\n",
       "      <th>id</th>\n",
       "      <th>subject</th>\n",
       "      <th>email</th>\n",
       "      <th>spam</th>\n",
       "    </tr>\n",
       "  </thead>\n",
       "  <tbody>\n",
       "    <tr>\n",
       "      <th>0</th>\n",
       "      <td>0</td>\n",
       "      <td>Subject: A&amp;L Daily to be auctioned in bankrupt...</td>\n",
       "      <td>url: http://boingboing.net/#85534171\\n date: n...</td>\n",
       "      <td>0</td>\n",
       "    </tr>\n",
       "    <tr>\n",
       "      <th>1</th>\n",
       "      <td>1</td>\n",
       "      <td>Subject: Wired: \"Stronger ties between ISPs an...</td>\n",
       "      <td>url: http://scriptingnews.userland.com/backiss...</td>\n",
       "      <td>0</td>\n",
       "    </tr>\n",
       "    <tr>\n",
       "      <th>2</th>\n",
       "      <td>2</td>\n",
       "      <td>Subject: It's just too small                  ...</td>\n",
       "      <td>&lt;html&gt;\\n &lt;head&gt;\\n &lt;/head&gt;\\n &lt;body&gt;\\n &lt;font siz...</td>\n",
       "      <td>1</td>\n",
       "    </tr>\n",
       "    <tr>\n",
       "      <th>3</th>\n",
       "      <td>3</td>\n",
       "      <td>Subject: liberal defnitions\\n</td>\n",
       "      <td>depends on how much over spending vs. how much...</td>\n",
       "      <td>0</td>\n",
       "    </tr>\n",
       "    <tr>\n",
       "      <th>4</th>\n",
       "      <td>4</td>\n",
       "      <td>Subject: RE: [ILUG] Newbie seeks advice - Suse...</td>\n",
       "      <td>hehe sorry but if you hit caps lock twice the ...</td>\n",
       "      <td>0</td>\n",
       "    </tr>\n",
       "  </tbody>\n",
       "</table>\n",
       "</div>"
      ],
      "text/plain": [
       "   id                                            subject  \\\n",
       "0   0  Subject: A&L Daily to be auctioned in bankrupt...   \n",
       "1   1  Subject: Wired: \"Stronger ties between ISPs an...   \n",
       "2   2  Subject: It's just too small                  ...   \n",
       "3   3                      Subject: liberal defnitions\\n   \n",
       "4   4  Subject: RE: [ILUG] Newbie seeks advice - Suse...   \n",
       "\n",
       "                                               email  spam  \n",
       "0  url: http://boingboing.net/#85534171\\n date: n...     0  \n",
       "1  url: http://scriptingnews.userland.com/backiss...     0  \n",
       "2  <html>\\n <head>\\n </head>\\n <body>\\n <font siz...     1  \n",
       "3  depends on how much over spending vs. how much...     0  \n",
       "4  hehe sorry but if you hit caps lock twice the ...     0  "
      ]
     },
     "execution_count": 4,
     "metadata": {},
     "output_type": "execute_result"
    }
   ],
   "source": [
    "from utils import fetch_and_cache_gdrive\n",
    "fetch_and_cache_gdrive('1SCASpLZFKCp2zek-toR3xeKX3DZnBSyp', 'train.csv')\n",
    "fetch_and_cache_gdrive('1ZDFo9OTF96B5GP2Nzn8P8-AL7CTQXmC0', 'test.csv')\n",
    "\n",
    "original_training_data = pd.read_csv('data/train.csv')\n",
    "test = pd.read_csv('data/test.csv')\n",
    "\n",
    "# Convert the emails to lower case as a first step to processing the text\n",
    "original_training_data['email'] = original_training_data['email'].str.lower()\n",
    "test['email'] = test['email'].str.lower()\n",
    "\n",
    "original_training_data.head()"
   ]
  },
  {
   "cell_type": "markdown",
   "metadata": {
    "deletable": false,
    "editable": false,
    "nbgrader": {
     "grade": false,
     "grade_id": "cell-34476156ed73b800",
     "locked": true,
     "schema_version": 2,
     "solution": false
    }
   },
   "source": [
    "### Question 1a\n",
    "First, let's check if our data contains any missing values. Fill in the cell below to print the number of NaN values in each column. If there are NaN values, replace them with appropriate filler values (i.e., NaN values in the `subject` or `email` columns should be replaced with empty strings). Print the number of NaN values in each column after this modification to verify that there are no NaN values left.\n",
    "\n",
    "Note that while there are no NaN values in the `spam` column, we should be careful when replacing NaN labels. Doing so without consideration may introduce significant bias into our model when fitting.\n",
    "\n",
    "*The provided test checks that there are no missing values in your dataset.*\n",
    "\n",
    "<!--\n",
    "BEGIN QUESTION\n",
    "name: q1a\n",
    "points: 1\n",
    "-->"
   ]
  },
  {
   "cell_type": "code",
   "execution_count": 5,
   "metadata": {
    "ExecuteTime": {
     "end_time": "2019-04-03T20:17:42.203231Z",
     "start_time": "2019-04-03T20:17:42.185104Z"
    },
    "nbgrader": {
     "grade": false,
     "grade_id": "cell-b1fb39d9b651ca1b",
     "locked": false,
     "schema_version": 2,
     "solution": true
    }
   },
   "outputs": [],
   "source": [
    "original_training_data['subject'][original_training_data['subject'].isna()]\n",
    "original_training_data.fillna('',inplace=True)"
   ]
  },
  {
   "cell_type": "code",
   "execution_count": 6,
   "metadata": {
    "deletable": false,
    "editable": false
   },
   "outputs": [
    {
     "data": {
      "text/html": [
       "\n",
       "    \n",
       "    \n",
       "        <p>All tests passed!</p>\n",
       "    \n",
       "    "
      ],
      "text/plain": [
       "\n",
       "    All tests passed!\n",
       "    "
      ]
     },
     "execution_count": 6,
     "metadata": {},
     "output_type": "execute_result"
    }
   ],
   "source": [
    "grader.check(\"q1a\")"
   ]
  },
  {
   "cell_type": "markdown",
   "metadata": {
    "deletable": false,
    "editable": false,
    "nbgrader": {
     "grade": false,
     "grade_id": "q1",
     "locked": true,
     "schema_version": 2,
     "solution": false
    }
   },
   "source": [
    "### Question 1b\n",
    "\n",
    "In the cell below, print the text of the `email` field for the first ham and the first spam email in the original training set.\n",
    "\n",
    "*The provided tests just ensure that you have assigned `first_ham` and `first_spam` to rows in the data, but only the hidden tests check that you selected the correct observations.*\n",
    "\n",
    "<!--\n",
    "BEGIN QUESTION\n",
    "name: q1b\n",
    "points: 1\n",
    "-->"
   ]
  },
  {
   "cell_type": "code",
   "execution_count": 7,
   "metadata": {},
   "outputs": [
    {
     "data": {
      "text/plain": [
       "'<html>\\n <head>\\n </head>\\n <body>\\n <font size=3d\"4\"><b> a man endowed with a 7-8\" hammer is simply<br>\\n  better equipped than a man with a 5-6\"hammer. <br>\\n <br>would you rather have<br>more than enough to get the job done or fall =\\n short. it\\'s totally up<br>to you. our methods are guaranteed to increase y=\\n our size by 1-3\"<br> <a href=3d\"http://209.163.187.47/cgi-bin/index.php?10=\\n 004\">come in here and see how</a>\\n </body>\\n </html>\\n \\n \\n \\n'"
      ]
     },
     "execution_count": 7,
     "metadata": {},
     "output_type": "execute_result"
    }
   ],
   "source": [
    "original_training_data[original_training_data['spam']==1].iloc[0,2]\n"
   ]
  },
  {
   "cell_type": "code",
   "execution_count": 8,
   "metadata": {
    "ExecuteTime": {
     "end_time": "2019-04-03T20:17:42.247245Z",
     "start_time": "2019-04-03T20:17:42.228451Z"
    },
    "nbgrader": {
     "grade": false,
     "grade_id": "q1-answer",
     "locked": false,
     "schema_version": 2,
     "solution": true
    }
   },
   "outputs": [
    {
     "name": "stdout",
     "output_type": "stream",
     "text": [
      "url: http://boingboing.net/#85534171\n",
      " date: not supplied\n",
      " \n",
      " arts and letters daily, a wonderful and dense blog, has folded up its tent due \n",
      " to the bankruptcy of its parent company. a&l daily will be auctioned off by the \n",
      " receivers. link[1] discuss[2] (_thanks, misha!_)\n",
      " \n",
      " [1] http://www.aldaily.com/\n",
      " [2] http://www.quicktopic.com/boing/h/zlfterjnd6jf\n",
      " \n",
      " \n",
      "\n",
      "<html>\n",
      " <head>\n",
      " </head>\n",
      " <body>\n",
      " <font size=3d\"4\"><b> a man endowed with a 7-8\" hammer is simply<br>\n",
      "  better equipped than a man with a 5-6\"hammer. <br>\n",
      " <br>would you rather have<br>more than enough to get the job done or fall =\n",
      " short. it's totally up<br>to you. our methods are guaranteed to increase y=\n",
      " our size by 1-3\"<br> <a href=3d\"http://209.163.187.47/cgi-bin/index.php?10=\n",
      " 004\">come in here and see how</a>\n",
      " </body>\n",
      " </html>\n",
      " \n",
      " \n",
      " \n",
      "\n"
     ]
    }
   ],
   "source": [
    "first_ham = original_training_data[original_training_data['spam']==0].iloc[0,2]\n",
    "first_spam = original_training_data[original_training_data['spam']==1].iloc[0,2]\n",
    "print(first_ham)\n",
    "print(first_spam)"
   ]
  },
  {
   "cell_type": "code",
   "execution_count": 9,
   "metadata": {
    "deletable": false,
    "editable": false,
    "scrolled": true
   },
   "outputs": [
    {
     "data": {
      "text/html": [
       "\n",
       "    \n",
       "    \n",
       "        <p>All tests passed!</p>\n",
       "    \n",
       "    "
      ],
      "text/plain": [
       "\n",
       "    All tests passed!\n",
       "    "
      ]
     },
     "execution_count": 9,
     "metadata": {},
     "output_type": "execute_result"
    }
   ],
   "source": [
    "grader.check(\"q1b\")"
   ]
  },
  {
   "cell_type": "markdown",
   "metadata": {
    "deletable": false,
    "editable": false
   },
   "source": [
    "<!-- BEGIN QUESTION -->\n",
    "\n",
    "### Question 1c\n",
    "\n",
    "Discuss one thing you notice that is different between the two emails that might relate to the identification of spam.\n",
    "\n",
    "<!--\n",
    "BEGIN QUESTION\n",
    "name: q1c\n",
    "manual: True\n",
    "points: 2\n",
    "-->"
   ]
  },
  {
   "cell_type": "markdown",
   "metadata": {},
   "source": [
    "Ham has useful information and more organized, while spam is almost unreadable."
   ]
  },
  {
   "cell_type": "markdown",
   "metadata": {
    "nbgrader": {
     "grade": false,
     "grade_id": "cell-78513403ef52a957",
     "locked": true,
     "schema_version": 2,
     "solution": false
    }
   },
   "source": [
    "<!-- END QUESTION -->\n",
    "\n",
    "\n",
    "\n",
    "## Training Validation Split\n",
    "The training data we downloaded is all the data we have available for both training models and **validating** the models that we train.  We therefore need to split the training data into separate training and validation datsets.  You will need this **validation data** to assess the performance of your classifier once you are finished training. Note that we set the seed (random_state) to 42. This will produce a pseudo-random sequence of random numbers that is the same for every student. **Do not modify this in the following questions, as our tests depend on this random seed.**"
   ]
  },
  {
   "cell_type": "code",
   "execution_count": 10,
   "metadata": {
    "ExecuteTime": {
     "end_time": "2019-04-03T20:17:42.317970Z",
     "start_time": "2019-04-03T20:17:42.294532Z"
    },
    "nbgrader": {
     "grade": false,
     "grade_id": "cell-873194ed3e686dfb",
     "locked": true,
     "schema_version": 2,
     "solution": false
    }
   },
   "outputs": [],
   "source": [
    "# This creates a 90/10 train-validation split on our labeled data\n",
    "\n",
    "from sklearn.model_selection import train_test_split\n",
    "\n",
    "train, val = train_test_split(original_training_data, test_size=0.1, random_state=42)"
   ]
  },
  {
   "cell_type": "markdown",
   "metadata": {
    "nbgrader": {
     "grade": false,
     "grade_id": "feat-eng",
     "locked": true,
     "schema_version": 2,
     "solution": false
    }
   },
   "source": [
    "# Basic Feature Engineering\n",
    "\n",
    "We would like to take the text of an email and predict whether the email is ham or spam. This is a *classification* problem, so we can use logistic regression to train a classifier. Recall that to train an logistic regression model we need a numeric feature matrix $X$ and a vector of corresponding binary labels $y$.  Unfortunately, our data are text, not numbers. To address this, we can create numeric features derived from the email text and use those features for logistic regression.\n",
    "\n",
    "Each row of $X$ is an email. Each column of $X$ contains one feature for all the emails. We'll guide you through creating a simple feature, and you'll create more interesting ones as you try to increase the accuracy of your model."
   ]
  },
  {
   "cell_type": "markdown",
   "metadata": {
    "deletable": false,
    "editable": false,
    "nbgrader": {
     "grade": false,
     "grade_id": "q2",
     "locked": true,
     "schema_version": 2,
     "solution": false
    }
   },
   "source": [
    "### Question 2\n",
    "\n",
    "Create a function called `words_in_texts` that takes in a list of `words` and a pandas Series of email `texts`. It should output a 2-dimensional NumPy array containing one row for each email text. The row should contain either a 0 or a 1 for each word in the list: 0 if the word doesn't appear in the text and 1 if the word does. For example:\n",
    "\n",
    "```\n",
    ">>> words_in_texts(['hello', 'bye', 'world'], \n",
    "                   pd.Series(['hello', 'hello worldhello']))\n",
    "\n",
    "array([[1, 0, 0],\n",
    "       [1, 0, 1]])\n",
    "```\n",
    "\n",
    "*The provided tests make sure that your function works correctly, so that you can use it for future questions.*\n",
    "\n",
    "<!--\n",
    "BEGIN QUESTION\n",
    "name: q2\n",
    "points: 3\n",
    "-->"
   ]
  },
  {
   "cell_type": "code",
   "execution_count": 11,
   "metadata": {
    "ExecuteTime": {
     "end_time": "2019-04-03T20:17:42.337281Z",
     "start_time": "2019-04-03T20:17:42.320567Z"
    },
    "nbgrader": {
     "grade": false,
     "grade_id": "q2-answer",
     "locked": false,
     "schema_version": 2,
     "solution": true
    },
    "tags": [
     "student"
    ]
   },
   "outputs": [],
   "source": [
    "def words_in_texts(words, texts):\n",
    "    '''\n",
    "    Args:\n",
    "        words (list): words to find\n",
    "        texts (Series): strings to search in\n",
    "    \n",
    "    Returns:\n",
    "        NumPy array of 0s and 1s with shape (n, p) where n is the\n",
    "        number of texts and p is the number of words.\n",
    "    '''\n",
    "    indicator_array=[0]*len(texts)\n",
    "    for j,text in enumerate(texts):\n",
    "        temp=[]\n",
    "        for i,word in enumerate(words):\n",
    "            temp += [1 if word in text else 0]\n",
    "        indicator_array[j]=temp\n",
    "    return np.array(indicator_array)"
   ]
  },
  {
   "cell_type": "code",
   "execution_count": 12,
   "metadata": {
    "deletable": false,
    "editable": false
   },
   "outputs": [
    {
     "data": {
      "text/html": [
       "\n",
       "    \n",
       "    \n",
       "        <p>All tests passed!</p>\n",
       "    \n",
       "    "
      ],
      "text/plain": [
       "\n",
       "    All tests passed!\n",
       "    "
      ]
     },
     "execution_count": 12,
     "metadata": {},
     "output_type": "execute_result"
    }
   ],
   "source": [
    "grader.check(\"q2\")"
   ]
  },
  {
   "cell_type": "markdown",
   "metadata": {
    "nbgrader": {
     "grade": false,
     "grade_id": "eda",
     "locked": true,
     "schema_version": 2,
     "solution": false
    }
   },
   "source": [
    "# Basic EDA\n",
    "\n",
    "We need to identify some features that allow us to distinguish spam emails from ham emails. One idea is to compare the distribution of a single feature in spam emails to the distribution of the same feature in ham emails. If the feature is itself a binary indicator, such as whether a certain word occurs in the text, this amounts to comparing the proportion of spam emails with the word to the proportion of ham emails with the word.\n"
   ]
  },
  {
   "cell_type": "markdown",
   "metadata": {
    "nbgrader": {
     "grade": false,
     "grade_id": "q3a",
     "locked": true,
     "schema_version": 2,
     "solution": false
    }
   },
   "source": [
    "The following plot (which was created using `sns.barplot`) compares the proportion of emails in each class containing a particular set of words. \n",
    "\n",
    "![training conditional proportions](images/training_conditional_proportions.png)\n",
    "\n",
    "You can use DataFrame's `.melt` method to \"unpivot\" a DataFrame. See the following code cell for an example."
   ]
  },
  {
   "cell_type": "code",
   "execution_count": 13,
   "metadata": {
    "ExecuteTime": {
     "end_time": "2019-04-03T20:17:42.428419Z",
     "start_time": "2019-04-03T20:17:42.386697Z"
    }
   },
   "outputs": [
    {
     "data": {
      "text/markdown": [
       "> Our Original DataFrame has a `type` column and some columns corresponding to words. You can think of each row as a sentence, and the value of 1 or 0 indicates the number of occurences of the word in this sentence."
      ],
      "text/plain": [
       "<IPython.core.display.Markdown object>"
      ]
     },
     "metadata": {},
     "output_type": "display_data"
    },
    {
     "data": {
      "text/html": [
       "<div>\n",
       "<style scoped>\n",
       "    .dataframe tbody tr th:only-of-type {\n",
       "        vertical-align: middle;\n",
       "    }\n",
       "\n",
       "    .dataframe tbody tr th {\n",
       "        vertical-align: top;\n",
       "    }\n",
       "\n",
       "    .dataframe thead th {\n",
       "        text-align: right;\n",
       "    }\n",
       "</style>\n",
       "<table border=\"1\" class=\"dataframe\">\n",
       "  <thead>\n",
       "    <tr style=\"text-align: right;\">\n",
       "      <th></th>\n",
       "      <th>word_1</th>\n",
       "      <th>word_2</th>\n",
       "      <th>type</th>\n",
       "    </tr>\n",
       "  </thead>\n",
       "  <tbody>\n",
       "    <tr>\n",
       "      <th>0</th>\n",
       "      <td>1</td>\n",
       "      <td>0</td>\n",
       "      <td>spam</td>\n",
       "    </tr>\n",
       "    <tr>\n",
       "      <th>1</th>\n",
       "      <td>0</td>\n",
       "      <td>1</td>\n",
       "      <td>ham</td>\n",
       "    </tr>\n",
       "    <tr>\n",
       "      <th>2</th>\n",
       "      <td>1</td>\n",
       "      <td>0</td>\n",
       "      <td>ham</td>\n",
       "    </tr>\n",
       "    <tr>\n",
       "      <th>3</th>\n",
       "      <td>0</td>\n",
       "      <td>1</td>\n",
       "      <td>ham</td>\n",
       "    </tr>\n",
       "  </tbody>\n",
       "</table>\n",
       "</div>"
      ],
      "text/plain": [
       "   word_1  word_2  type\n",
       "0       1       0  spam\n",
       "1       0       1   ham\n",
       "2       1       0   ham\n",
       "3       0       1   ham"
      ]
     },
     "metadata": {},
     "output_type": "display_data"
    },
    {
     "data": {
      "text/markdown": [
       "> `melt` will turn columns into entries in a variable column. Notice how `word_1` and `word_2` become entries in `variable`; their values are stored in the value column."
      ],
      "text/plain": [
       "<IPython.core.display.Markdown object>"
      ]
     },
     "metadata": {},
     "output_type": "display_data"
    },
    {
     "data": {
      "text/html": [
       "<div>\n",
       "<style scoped>\n",
       "    .dataframe tbody tr th:only-of-type {\n",
       "        vertical-align: middle;\n",
       "    }\n",
       "\n",
       "    .dataframe tbody tr th {\n",
       "        vertical-align: top;\n",
       "    }\n",
       "\n",
       "    .dataframe thead th {\n",
       "        text-align: right;\n",
       "    }\n",
       "</style>\n",
       "<table border=\"1\" class=\"dataframe\">\n",
       "  <thead>\n",
       "    <tr style=\"text-align: right;\">\n",
       "      <th></th>\n",
       "      <th>type</th>\n",
       "      <th>variable</th>\n",
       "      <th>value</th>\n",
       "    </tr>\n",
       "  </thead>\n",
       "  <tbody>\n",
       "    <tr>\n",
       "      <th>0</th>\n",
       "      <td>spam</td>\n",
       "      <td>word_1</td>\n",
       "      <td>1</td>\n",
       "    </tr>\n",
       "    <tr>\n",
       "      <th>1</th>\n",
       "      <td>ham</td>\n",
       "      <td>word_1</td>\n",
       "      <td>0</td>\n",
       "    </tr>\n",
       "    <tr>\n",
       "      <th>2</th>\n",
       "      <td>ham</td>\n",
       "      <td>word_1</td>\n",
       "      <td>1</td>\n",
       "    </tr>\n",
       "    <tr>\n",
       "      <th>3</th>\n",
       "      <td>ham</td>\n",
       "      <td>word_1</td>\n",
       "      <td>0</td>\n",
       "    </tr>\n",
       "    <tr>\n",
       "      <th>4</th>\n",
       "      <td>spam</td>\n",
       "      <td>word_2</td>\n",
       "      <td>0</td>\n",
       "    </tr>\n",
       "    <tr>\n",
       "      <th>5</th>\n",
       "      <td>ham</td>\n",
       "      <td>word_2</td>\n",
       "      <td>1</td>\n",
       "    </tr>\n",
       "    <tr>\n",
       "      <th>6</th>\n",
       "      <td>ham</td>\n",
       "      <td>word_2</td>\n",
       "      <td>0</td>\n",
       "    </tr>\n",
       "    <tr>\n",
       "      <th>7</th>\n",
       "      <td>ham</td>\n",
       "      <td>word_2</td>\n",
       "      <td>1</td>\n",
       "    </tr>\n",
       "  </tbody>\n",
       "</table>\n",
       "</div>"
      ],
      "text/plain": [
       "   type variable  value\n",
       "0  spam   word_1      1\n",
       "1   ham   word_1      0\n",
       "2   ham   word_1      1\n",
       "3   ham   word_1      0\n",
       "4  spam   word_2      0\n",
       "5   ham   word_2      1\n",
       "6   ham   word_2      0\n",
       "7   ham   word_2      1"
      ]
     },
     "metadata": {},
     "output_type": "display_data"
    }
   ],
   "source": [
    "from IPython.display import display, Markdown\n",
    "df = pd.DataFrame({\n",
    "    'word_1': [1, 0, 1, 0],\n",
    "    'word_2': [0, 1, 0, 1],\n",
    "    'type': ['spam', 'ham', 'ham', 'ham']\n",
    "})\n",
    "display(Markdown(\"> Our Original DataFrame has a `type` column and some columns corresponding to words. You can think of each row as a sentence, and the value of 1 or 0 indicates the number of occurences of the word in this sentence.\"))\n",
    "display(df);\n",
    "display(Markdown(\"> `melt` will turn columns into entries in a variable column. Notice how `word_1` and `word_2` become entries in `variable`; their values are stored in the value column.\"))\n",
    "display(df.melt(\"type\"))"
   ]
  },
  {
   "cell_type": "markdown",
   "metadata": {
    "deletable": false,
    "editable": false
   },
   "source": [
    "<!-- BEGIN QUESTION -->\n",
    "\n",
    "### Question 3a\n",
    "\n",
    "Create a bar chart like the one above comparing the proportion of spam and ham emails containing certain words. Choose a set of words that are different from the ones above, but also have different proportions for the two classes. Make sure to only consider emails from `train`.\n",
    "\n",
    "<!--\n",
    "BEGIN QUESTION\n",
    "name: q3a\n",
    "manual: True\n",
    "format: image\n",
    "points: 2\n",
    "-->"
   ]
  },
  {
   "cell_type": "code",
   "execution_count": 14,
   "metadata": {},
   "outputs": [
    {
     "data": {
      "text/plain": [
       "5247    --===_secatt_000_1fuklemuttfusq\\n content-type...\n",
       "354     ###################################\\n \\n   fre...\n",
       "6449    <table width=\"600\" border=\"20\" align=\"center\" ...\n",
       "5338    <html>\\n <head>\\n </head>\\n <body>\\n <center>\\...\n",
       "5366    <html>\\n <head>\\n </head>\\n <center>\\n <h1>\\n ...\n",
       "2692    i saw your email on a website i visited yester...\n",
       "8316    <html>\\n <body>\\n <p align=\"center\"><b><font s...\n",
       "7851    dear opportunities seekers:\\n \\n i thought you...\n",
       "7054    this is a multi-part message in mime format.\\n...\n",
       "5948    <html><body onload=\"window.open('http://202.10...\n",
       "4953    from: col. michael bundu. \\n democratic republ...\n",
       "5960    attn:\\n \\n i am bulawa mulete jr. the son of m...\n",
       "1426    \\n \\n ----------------------------------------...\n",
       "8239    <html>\\n <head>\\n <title>igtt</title>\\n <meta ...\n",
       "5925    <html><body onload=\"window.open('http://202.10...\n",
       "3739    <html><head><title>creditfix</title> \\n </head...\n",
       "4564    dear sir,  \\n \\n  *·ͨרҵveͷ(veñͷܳ),ҫͺ\\n     ʮ4j...\n",
       "7662    are you tired of spending a fortune on printer...\n",
       "7236    <html>\\n \\n <body>\\n \\n <font size=\"2\" ptsize=...\n",
       "7566    76ad\\n this is a mime message\\n \\n ------=_nex...\n",
       "5141    <html>\\n \\n <head>\\n <meta http-equiv=\"content...\n",
       "6954    \\n increase your revenues  by accepting credit...\n",
       "2374    <html>\\n <head>\\n <title>digital publishing to...\n",
       "6424    dear sir,\\n \\n i am mrs mariam abacha, wife of...\n",
       "185     affordable domain registration for everyone\\n ...\n",
       "4691    <html>\\n <head>\\n </head>\\n <body>\\n <font siz...\n",
       "4755    date: tuesday, july 9, 2002<br><br>\\n <br><!do...\n",
       "308     <html><body><center><a href=http://www.vitafac...\n",
       "5260    this is a multi-part message in mime format.\\n...\n",
       "87      this is a multi-part message in mime format.\\n...\n",
       "6471    ==============================================...\n",
       "6458    pcfet0nuwvbfiehutuwgufvcteldicitly9xm0mvl0rurc...\n",
       "7308    request for urgent business assistance\\n -----...\n",
       "6351    <html>\\n <body>\\n <center>\\n <h3>\\n <font colo...\n",
       "3625    this is a multi-part message in mime format.\\n...\n",
       "8324    <html>\\n <body>\\n <p>67% of women desire a &qu...\n",
       "1244    tired of the bull out there?\\n want to stop lo...\n",
       "1643    get your favorite poker action at http://www.m...\n",
       "5944    ------=_nextpart_000_006c_6b8d6a65.3c3c56f\\n c...\n",
       "3880    this is a multi-part message in mime format.\\n...\n",
       "7486    <!-- saved from url=3d(0022)http://internet.e-...\n",
       "4126    recieve all channels on your satellite system!...\n",
       "1087    <html><head><title>free motorola cell phone wi...\n",
       "3303    \\n this is a multi-part message in mime format...\n",
       "17      <body bgcolor=#ffffff>\\n <div><font face=arial...\n",
       "4786    \\n ready to know?\\n > \\n > confidential\\n > \\n...\n",
       "7884    here it is!!!! zzzz ,\\n \\n <html><body bgcolor...\n",
       "1995    <html>\\n <table width=\"350\" border=\"0\" cellspa...\n",
       "8091    <html>\\n <body bgcolor=3d\"#003300\">\\n <p align...\n",
       "1009    dear ilug@linux.ie \\n \\n life partners are lif...\n",
       "Name: email, dtype: object"
      ]
     },
     "execution_count": 14,
     "metadata": {},
     "output_type": "execute_result"
    }
   ],
   "source": [
    "train[train['spam']==1]['email'].head(50)"
   ]
  },
  {
   "cell_type": "code",
   "execution_count": 15,
   "metadata": {
    "ExecuteTime": {
     "end_time": "2019-04-03T20:17:43.145246Z",
     "start_time": "2019-04-03T20:17:42.430406Z"
    },
    "nbgrader": {
     "grade": true,
     "grade_id": "q3a-answer",
     "locked": false,
     "points": 2,
     "schema_version": 2,
     "solution": true
    }
   },
   "outputs": [
    {
     "data": {
      "image/png": "[encoded data removed]",
      "text/plain": [
       "<Figure size 1440x864 with 1 Axes>"
      ]
     },
     "metadata": {},
     "output_type": "display_data"
    }
   ],
   "source": [
    "train=train.reset_index(drop=True) # We must do this in order to preserve the ordering of emails to labels for words_in_texts\n",
    "list=['limit','sale','membership','big','dollar']\n",
    "# list=['cash', 'bank', 'prescription', 'memo', 'private']\n",
    "train\n",
    "for word in list:\n",
    "    train[word]=train['email'].str.count(word)\n",
    "graph=train[list+['spam']].melt('spam')\n",
    "graph\n",
    "plt.figure(figsize=(20,12))\n",
    "sns.barplot(x='variable',y='value',hue='spam',data=graph,ci=None);"
   ]
  },
  {
   "cell_type": "markdown",
   "metadata": {
    "nbgrader": {
     "grade": false,
     "grade_id": "q3b",
     "locked": true,
     "schema_version": 2,
     "solution": false
    }
   },
   "source": [
    "<!-- END QUESTION -->\n",
    "\n",
    "\n",
    "\n",
    "When the feature is binary, it makes sense to compare its proportions across classes (as in the previous question). Otherwise, if the feature can take on numeric values, we can compare the distributions of these values for different classes. "
   ]
  },
  {
   "cell_type": "markdown",
   "metadata": {
    "deletable": false,
    "editable": false
   },
   "source": [
    "<!-- BEGIN QUESTION -->\n",
    "\n",
    "### Question 3b\n",
    "\n",
    "![training conditional densities](images/training_conditional_densities.png)\n",
    "\n",
    "Create a *class conditional density plot* like the one above (using `sns.distplot`), comparing the distribution of the length of spam emails to the distribution of the length of ham emails in the training set. Set the x-axis limit from 0 to 50000.\n",
    "\n",
    "<!--\n",
    "BEGIN QUESTION\n",
    "name: q3b\n",
    "manual: True\n",
    "format: image\n",
    "points: 2\n",
    "-->"
   ]
  },
  {
   "cell_type": "code",
   "execution_count": 16,
   "metadata": {
    "ExecuteTime": {
     "end_time": "2019-04-03T20:17:43.492661Z",
     "start_time": "2019-04-03T20:17:43.149431Z"
    },
    "nbgrader": {
     "grade": true,
     "grade_id": "q3b-answer",
     "locked": false,
     "points": 2,
     "schema_version": 2,
     "solution": true
    }
   },
   "outputs": [
    {
     "data": {
      "image/png": "[encoded data removed]",
      "text/plain": [
       "<Figure size 432x288 with 1 Axes>"
      ]
     },
     "metadata": {},
     "output_type": "display_data"
    }
   ],
   "source": [
    "train['length']=train['email'].str.len()\n",
    "sns.distplot(train[train['spam']==0]['length'],hist=False)\n",
    "sns.distplot(train[train['spam']==1]['length'],hist=False)\n",
    "plt.xlim(0,50000);\n",
    "plt.savefig('training_conditional_densities.png')"
   ]
  },
  {
   "cell_type": "markdown",
   "metadata": {
    "nbgrader": {
     "grade": false,
     "grade_id": "classification",
     "locked": true,
     "schema_version": 2,
     "solution": false
    }
   },
   "source": [
    "<!-- END QUESTION -->\n",
    "\n",
    "\n",
    "\n",
    "# Basic Classification\n",
    "\n",
    "Notice that the output of `words_in_texts(words, train['email'])` is a numeric matrix containing features for each email. This means we can use it directly to train a classifier!"
   ]
  },
  {
   "cell_type": "markdown",
   "metadata": {
    "deletable": false,
    "editable": false,
    "nbgrader": {
     "grade": false,
     "grade_id": "q4",
     "locked": true,
     "schema_version": 2,
     "solution": false
    }
   },
   "source": [
    "### Question 4\n",
    "\n",
    "We've given you 5 words that might be useful as features to distinguish spam/ham emails. Use these words as well as the `train` DataFrame to create two NumPy arrays: `X_train` and `Y_train`.\n",
    "\n",
    "`X_train` should be a matrix of 0s and 1s created by using your `words_in_texts` function on all the emails in the training set.\n",
    "\n",
    "`Y_train` should be a vector of the correct labels for each email in the training set.\n",
    "\n",
    "*The provided tests check that the dimensions of your feature matrix (X) are correct, and that your features and labels are binary (i.e. consists of only 0's and 1's). It does not check that your function is correct; that was verified in a previous question.*\n",
    "<!--\n",
    "BEGIN QUESTION\n",
    "name: q4\n",
    "points: 2\n",
    "-->"
   ]
  },
  {
   "cell_type": "code",
   "execution_count": 19,
   "metadata": {
    "ExecuteTime": {
     "end_time": "2019-04-03T20:17:43.726012Z",
     "start_time": "2019-04-03T20:17:43.498088Z"
    },
    "nbgrader": {
     "grade": false,
     "grade_id": "q4-answer",
     "locked": false,
     "schema_version": 2,
     "solution": true
    },
    "tags": [
     "student"
    ]
   },
   "outputs": [
    {
     "data": {
      "text/plain": [
       "(7513, 5)"
      ]
     },
     "execution_count": 19,
     "metadata": {},
     "output_type": "execute_result"
    }
   ],
   "source": [
    "some_words = ['drug', 'bank', 'prescription', 'memo', 'private']\n",
    "X_train = words_in_texts(some_words,train['email'])\n",
    "Y_train = train['spam']\n",
    "X_val = words_in_texts(some_words,val['email'])\n",
    "Y_val = val['spam']\n",
    "X_train[:5], Y_train[:5]\n",
    "X_train.shape\n"
   ]
  },
  {
   "cell_type": "code",
   "execution_count": 20,
   "metadata": {
    "deletable": false,
    "editable": false
   },
   "outputs": [
    {
     "data": {
      "text/html": [
       "\n",
       "    \n",
       "    \n",
       "        <p>All tests passed!</p>\n",
       "    \n",
       "    "
      ],
      "text/plain": [
       "\n",
       "    All tests passed!\n",
       "    "
      ]
     },
     "execution_count": 20,
     "metadata": {},
     "output_type": "execute_result"
    }
   ],
   "source": [
    "grader.check(\"q4\")"
   ]
  },
  {
   "cell_type": "markdown",
   "metadata": {
    "deletable": false,
    "editable": false,
    "nbgrader": {
     "grade": false,
     "grade_id": "q5",
     "locked": true,
     "schema_version": 2,
     "solution": false
    }
   },
   "source": [
    "### Question 5\n",
    "\n",
    "Now that we have matrices, we can build a model with `scikit-learn`! Using the [`LogisticRegression`](http://scikit-learn.org/stable/modules/generated/sklearn.linear_model.LogisticRegression.html) classifier, train a logistic regression model using `X_train` and `Y_train`. Then, output the model's training accuracy below. You should get an accuracy of around $0.75$\n",
    "\n",
    "*The provided test checks that you initialized your logistic regression model correctly.*\n",
    "\n",
    "<!--\n",
    "BEGIN QUESTION\n",
    "name: q5\n",
    "points: 2\n",
    "-->"
   ]
  },
  {
   "cell_type": "code",
   "execution_count": 41,
   "metadata": {
    "ExecuteTime": {
     "end_time": "2019-04-03T20:17:44.593918Z",
     "start_time": "2019-04-03T20:17:43.783872Z"
    },
    "nbgrader": {
     "grade": false,
     "grade_id": "q5-answer",
     "locked": false,
     "schema_version": 2,
     "solution": true
    },
    "tags": [
     "student"
    ]
   },
   "outputs": [
    {
     "name": "stdout",
     "output_type": "stream",
     "text": [
      "Training Accuracy:  0.7576201251164648\n"
     ]
    }
   ],
   "source": [
    "from sklearn.linear_model import LogisticRegression\n",
    "model = LogisticRegression(multi_class='ovr').fit(X=X_train,y=Y_train)\n",
    "predict=model.predict(X_train)\n",
    "training_accuracy = model.score(X_train,Y_train)\n",
    "training_accuracy\n",
    "print(\"Training Accuracy: \", training_accuracy)"
   ]
  },
  {
   "cell_type": "code",
   "execution_count": 42,
   "metadata": {
    "deletable": false,
    "editable": false
   },
   "outputs": [
    {
     "data": {
      "text/html": [
       "\n",
       "    \n",
       "    \n",
       "        <p>All tests passed!</p>\n",
       "    \n",
       "    "
      ],
      "text/plain": [
       "\n",
       "    All tests passed!\n",
       "    "
      ]
     },
     "execution_count": 42,
     "metadata": {},
     "output_type": "execute_result"
    }
   ],
   "source": [
    "grader.check(\"q5\")"
   ]
  },
  {
   "cell_type": "markdown",
   "metadata": {},
   "source": [
    "## Evaluating Classifiers"
   ]
  },
  {
   "cell_type": "markdown",
   "metadata": {},
   "source": [
    "That doesn't seem too shabby! But the classifier you made above isn't as good as the accuracy would make you believe. First, we are evaluating accuracy on the training set, which may provide a misleading accuracy measure. Accuracy on the training set doesn't always translate to accuracy in the real world (on the test set). In future parts of this analysis, we will hold out some of our data for model validation and comparison.\n",
    "\n",
    "Presumably, our classifier will be used for **filtering**, i.e. preventing messages labeled `spam` from reaching someone's inbox. There are two kinds of errors we can make:\n",
    "- False positive (FP): a ham email gets flagged as spam and filtered out of the inbox.\n",
    "- False negative (FN): a spam email gets mislabeled as ham and ends up in the inbox.\n",
    "\n",
    "To be clear, we label spam emails as 1 and ham emails as 0. These definitions depend both on the true labels and the predicted labels. False positives and false negatives may be of differing importance, leading us to consider more ways of evaluating a classifier, in addition to overall accuracy:\n",
    "\n",
    "**Precision** measures the proportion $\\frac{\\text{TP}}{\\text{TP} + \\text{FP}}$ of emails flagged as spam that are actually spam.\n",
    "\n",
    "**Recall** measures the proportion $\\frac{\\text{TP}}{\\text{TP} + \\text{FN}}$ of spam emails that were correctly flagged as spam. \n",
    "\n",
    "**False-alarm rate** measures the proportion $\\frac{\\text{FP}}{\\text{FP} + \\text{TN}}$ of ham emails that were incorrectly flagged as spam. \n",
    "\n",
    "The two graphics below may help you understand precision and recall visually:\n",
    "\n",
    "<img src=\"https://upload.wikimedia.org/wikipedia/commons/thumb/2/26/Precisionrecall.svg/700px-Precisionrecall.svg.png\" width=\"500px\">\n",
    "\n",
    "Note that a true positive (TP) is a spam email that is classified as spam, and a true negative (TN) is a ham email that is classified as ham."
   ]
  },
  {
   "cell_type": "markdown",
   "metadata": {
    "deletable": false,
    "editable": false,
    "nbgrader": {
     "grade": false,
     "grade_id": "q6",
     "locked": true,
     "schema_version": 2,
     "solution": false
    }
   },
   "source": [
    "### Question 6a\n",
    "\n",
    "Suppose we have a classifier `zero_predictor` that always predicts 0 (never predicts positive). How many false positives and false negatives would this classifier have if it were evaluated on the training set and its results were compared to `Y_train`? Fill in the variables below (feel free to hard code your answers for this part):\n",
    "\n",
    "*Tests in Question 6 only check that you have assigned appropriate types of values to each response variable, but do not check that your answers are correct.*\n",
    "\n",
    "<!--\n",
    "BEGIN QUESTION\n",
    "name: q6a\n",
    "points: 1\n",
    "-->"
   ]
  },
  {
   "cell_type": "code",
   "execution_count": 32,
   "metadata": {},
   "outputs": [
    {
     "data": {
      "text/plain": [
       "array([0, 0, 0, ..., 0, 0, 0])"
      ]
     },
     "execution_count": 32,
     "metadata": {},
     "output_type": "execute_result"
    }
   ],
   "source": [
    "predict"
   ]
  },
  {
   "cell_type": "code",
   "execution_count": 33,
   "metadata": {
    "ExecuteTime": {
     "end_time": "2019-04-03T20:20:13.853633Z",
     "start_time": "2019-04-03T20:20:13.825724Z"
    },
    "nbgrader": {
     "grade": false,
     "grade_id": "q6a-answer",
     "locked": false,
     "schema_version": 2,
     "solution": true
    }
   },
   "outputs": [
    {
     "data": {
      "text/plain": [
       "(0, 1918)"
      ]
     },
     "execution_count": 33,
     "metadata": {},
     "output_type": "execute_result"
    }
   ],
   "source": [
    "zero_predictor_fp = 0\n",
    "zero_predictor_fn = np.sum(Y_train)\n",
    "zero_predictor_fp, zero_predictor_fn"
   ]
  },
  {
   "cell_type": "code",
   "execution_count": 34,
   "metadata": {
    "deletable": false,
    "editable": false
   },
   "outputs": [
    {
     "data": {
      "text/html": [
       "\n",
       "    \n",
       "    \n",
       "        <p>All tests passed!</p>\n",
       "    \n",
       "    "
      ],
      "text/plain": [
       "\n",
       "    All tests passed!\n",
       "    "
      ]
     },
     "execution_count": 34,
     "metadata": {},
     "output_type": "execute_result"
    }
   ],
   "source": [
    "grader.check(\"q6a\")"
   ]
  },
  {
   "cell_type": "markdown",
   "metadata": {
    "deletable": false,
    "editable": false
   },
   "source": [
    "### Question 6b\n",
    "\n",
    "What is the accuracy and recall of `zero_predictor` (classifies every email as ham) on the training set? Do **NOT** use any `sklearn` functions.\n",
    "\n",
    "<!--\n",
    "BEGIN QUESTION\n",
    "name: q6b\n",
    "points: 1\n",
    "-->"
   ]
  },
  {
   "cell_type": "code",
   "execution_count": 35,
   "metadata": {},
   "outputs": [
    {
     "data": {
      "text/plain": [
       "7513"
      ]
     },
     "execution_count": 35,
     "metadata": {},
     "output_type": "execute_result"
    }
   ],
   "source": [
    "len(Y_train)"
   ]
  },
  {
   "cell_type": "code",
   "execution_count": 36,
   "metadata": {
    "ExecuteTime": {
     "end_time": "2019-04-03T20:23:21.553134Z",
     "start_time": "2019-04-03T20:23:21.548219Z"
    }
   },
   "outputs": [
    {
     "data": {
      "text/plain": [
       "(0.7447091707706642, 0)"
      ]
     },
     "execution_count": 36,
     "metadata": {},
     "output_type": "execute_result"
    }
   ],
   "source": [
    "zero_predictor_acc = (len(Y_train)-np.sum(Y_train))/len(Y_train)\n",
    "zero_predictor_recall = 0\n",
    "zero_predictor_acc, zero_predictor_recall"
   ]
  },
  {
   "cell_type": "code",
   "execution_count": 37,
   "metadata": {
    "deletable": false,
    "editable": false
   },
   "outputs": [
    {
     "data": {
      "text/html": [
       "\n",
       "    \n",
       "    \n",
       "        <p>All tests passed!</p>\n",
       "    \n",
       "    "
      ],
      "text/plain": [
       "\n",
       "    All tests passed!\n",
       "    "
      ]
     },
     "execution_count": 37,
     "metadata": {},
     "output_type": "execute_result"
    }
   ],
   "source": [
    "grader.check(\"q6b\")"
   ]
  },
  {
   "cell_type": "markdown",
   "metadata": {
    "deletable": false,
    "editable": false
   },
   "source": [
    "<!-- BEGIN QUESTION -->\n",
    "\n",
    "### Question 6c\n",
    "\n",
    "Provide brief explanations of the results from 6a and 6b. Why do we observe each of these values (FP, FN, accuracy, recall)?\n",
    "\n",
    "<!--\n",
    "BEGIN QUESTION\n",
    "name: q6c\n",
    "manual: True\n",
    "points: 2\n",
    "-->"
   ]
  },
  {
   "cell_type": "markdown",
   "metadata": {},
   "source": [
    "zero predictor do not have positive so FP=0, at the same time FN=the number of true spam emails because all the spam are ignored as ham. The accuracy 74.47% equals to the portion of spam emails in all and recall is 0. This is expected because zero predictor predict none of spam correctly."
   ]
  },
  {
   "cell_type": "markdown",
   "metadata": {
    "deletable": false,
    "editable": false
   },
   "source": [
    "<!-- END QUESTION -->\n",
    "\n",
    "### Question 6d\n",
    "\n",
    "Compute the precision, recall, and false-alarm rate of the `LogisticRegression` classifier created and trained in Question 5. Do **NOT** use any `sklearn` functions.\n",
    "\n",
    "<!--\n",
    "BEGIN QUESTION\n",
    "name: q6d\n",
    "points: 2\n",
    "-->"
   ]
  },
  {
   "cell_type": "code",
   "execution_count": 38,
   "metadata": {},
   "outputs": [
    {
     "data": {
      "text/plain": [
       "155"
      ]
     },
     "execution_count": 38,
     "metadata": {},
     "output_type": "execute_result"
    }
   ],
   "source": [
    "np.sum((Y_train==0) & (predict==1))\n"
   ]
  },
  {
   "cell_type": "code",
   "execution_count": 39,
   "metadata": {
    "ExecuteTime": {
     "end_time": "2019-04-03T20:37:54.875265Z",
     "start_time": "2019-04-03T20:37:54.720667Z"
    }
   },
   "outputs": [
    {
     "data": {
      "text/plain": [
       "'logistic_predictor_precision: '"
      ]
     },
     "metadata": {},
     "output_type": "display_data"
    },
    {
     "data": {
      "text/plain": [
       "0.9023314429741651"
      ]
     },
     "metadata": {},
     "output_type": "display_data"
    },
    {
     "data": {
      "text/plain": [
       "'logistic_predictor_recall: '"
      ]
     },
     "metadata": {},
     "output_type": "display_data"
    },
    {
     "data": {
      "text/plain": [
       "0.7466110531803962"
      ]
     },
     "metadata": {},
     "output_type": "display_data"
    },
    {
     "data": {
      "text/plain": [
       "'logistic_predictor_far: '"
      ]
     },
     "metadata": {},
     "output_type": "display_data"
    },
    {
     "data": {
      "text/plain": [
       "0.02770330652368186"
      ]
     },
     "metadata": {},
     "output_type": "display_data"
    },
    {
     "data": {
      "text/plain": [
       "'accuracy: '"
      ]
     },
     "metadata": {},
     "output_type": "display_data"
    },
    {
     "data": {
      "text/plain": [
       "0.9146812192200187"
      ]
     },
     "metadata": {},
     "output_type": "display_data"
    }
   ],
   "source": [
    "tp=np.sum(predict&Y_train)\n",
    "fp=np.sum((Y_train==0) & (predict==1))\n",
    "tn = np.sum((Y_train==0) & (predict==0))\n",
    "fn =np.sum((Y_train==1) & (predict==0))\n",
    "accuracy=np.sum((tp+tn)/len(predict))\n",
    "logistic_predictor_precision = tp/np.sum(predict)\n",
    "logistic_predictor_recall = tp/np.sum(Y_train)\n",
    "logistic_predictor_far = fp/(fp+tn)\n",
    "display('logistic_predictor_precision: ',logistic_predictor_precision,'logistic_predictor_recall: ',logistic_predictor_recall,\"logistic_predictor_far: \",logistic_predictor_far)\n",
    "# display(\"tp: \",tp,'fp: ',fp,'tn: ',tn,'fn: ',fn)\n",
    "display('accuracy: ',accuracy)"
   ]
  },
  {
   "cell_type": "code",
   "execution_count": 40,
   "metadata": {
    "deletable": false,
    "editable": false
   },
   "outputs": [
    {
     "data": {
      "text/html": [
       "\n",
       "    \n",
       "    \n",
       "        <p>All tests passed!</p>\n",
       "    \n",
       "    "
      ],
      "text/plain": [
       "\n",
       "    All tests passed!\n",
       "    "
      ]
     },
     "execution_count": 40,
     "metadata": {},
     "output_type": "execute_result"
    }
   ],
   "source": [
    "grader.check(\"q6d\")"
   ]
  },
  {
   "cell_type": "markdown",
   "metadata": {
    "deletable": false,
    "editable": false
   },
   "source": [
    "<!-- BEGIN QUESTION -->\n",
    "\n",
    "### Question 6e\n",
    "\n",
    "Are there more false positives or false negatives when using the logistic regression classifier from Question 5?\n",
    "\n",
    "<!--\n",
    "BEGIN QUESTION\n",
    "name: q6e\n",
    "manual: True\n",
    "points: 1\n",
    "-->"
   ]
  },
  {
   "cell_type": "markdown",
   "metadata": {},
   "source": [
    "More false negative"
   ]
  },
  {
   "cell_type": "markdown",
   "metadata": {
    "deletable": false,
    "editable": false
   },
   "source": [
    "<!-- END QUESTION -->\n",
    "\n",
    "<!-- BEGIN QUESTION -->\n",
    "\n",
    "### Question 6f\n",
    "\n",
    "1. Our logistic regression classifier got 75.76% prediction accuracy (number of correct predictions / total). How does this compare with predicting 0 for every email?\n",
    "1. Given the word features we gave you above, name one reason this classifier is performing poorly. Hint: Think about how prevalent these words are in the email set.\n",
    "1. Which of these two classifiers would you prefer for a spam filter and why? Describe your reasoning and relate it to at least one of the evaluation metrics you have computed so far.\n",
    "\n",
    "<!--\n",
    "BEGIN QUESTION\n",
    "name: q6f\n",
    "manual: True\n",
    "points: 3\n",
    "-->"
   ]
  },
  {
   "cell_type": "markdown",
   "metadata": {},
   "source": [
    "1. It is not much higher than 74.47%. It does not significantly improve accuracy.\n",
    "2. The words we choose only occur in a small amount of spam email, which make it not strong enough to classify all spams.\n",
    "3. Words filter. First, its accuracy can be improved by adding more appropriate features; Second, its recall is 11 percent better than zero predictor."
   ]
  },
  {
   "cell_type": "markdown",
   "metadata": {
    "nbgrader": {
     "grade": false,
     "grade_id": "p2",
     "locked": true,
     "schema_version": 2,
     "solution": false
    }
   },
   "source": [
    "<!-- END QUESTION -->\n",
    "\n",
    "\n",
    "\n",
    "# Part II - Moving Forward\n",
    "\n",
    "With this in mind, it is now your task to make the spam filter more accurate. In order to get full credit on the accuracy part of this assignment, you must get at least **88%** accuracy on the test set. To see your accuracy on the test set, you will use your classifier to predict every email in the `test` DataFrame and upload your predictions to Gradescope.\n",
    "\n",
    "**Gradescope limits you to four submissions per day**. This means you should start early so you have time if needed to refine your model. You will be able to see your accuracy on 70% of the test set when submitting to Gradescope, but we will be evaluating your model on the entire test set so try to score slightly above 88% on gradescope if you can.\n",
    "\n",
    "Here are some ideas for improving your model:\n",
    "\n",
    "1. Finding better features based on the email text. Some example features are:\n",
    "    1. Number of characters in the subject / body\n",
    "    1. Number of words in the subject / body\n",
    "    1. Use of punctuation (e.g., how many '!'s were there?)\n",
    "    1. Number / percentage of capital letters \n",
    "    1. Whether the email is a reply to an earlier email or a forwarded email\n",
    "1. Finding better (and/or more) words to use as features. Which words are the best at distinguishing emails? This requires digging into the email text itself. \n",
    "1. Better data processing. For example, many emails contain HTML as well as text. You can consider extracting out the text from the HTML to help you find better words. Or, you can match HTML tags themselves, or even some combination of the two.\n",
    "1. Model selection. You can adjust parameters of your model (e.g. the regularization parameter) to achieve higher accuracy. Recall that you should use cross-validation to do feature and model selection properly! Otherwise, you will likely overfit to your training data.\n",
    "\n",
    "You may use whatever method you prefer in order to create features, but **you are not allowed to import any external feature extraction libraries**. In addition, **you are only allowed to train logistic regression models**. No random forests, k-nearest-neighbors, neural nets, etc.\n",
    "\n",
    "We have not provided any code to do this, so feel free to create as many cells as you need in order to tackle this task. However, answering questions 7, 8, and 9 should help guide you.\n",
    "\n",
    "---\n",
    "\n",
    "**Note:** *You may want to use your **validation data** to evaluate your model and get a better sense of how it will perform on the test set.* Note, however, that you may overfit to your validation set if you try to optimize your validation accuracy too much.\n",
    "\n",
    "---"
   ]
  },
  {
   "cell_type": "code",
   "execution_count": 21,
   "metadata": {},
   "outputs": [],
   "source": [
    "# train.groupby('spam').mean()['length']\n",
    "import re\n",
    "def pattern_finder (patterns,texts):\n",
    "    indicator_array=[0]*len(texts)\n",
    "    for j,text in enumerate(texts):\n",
    "        temp=[]\n",
    "        for i,pattern in enumerate(patterns):\n",
    "            temp += [np.sqrt(len(re.findall(pattern, text)))]\n",
    "        indicator_array[j]=temp\n",
    "    return np.array(indicator_array)\n",
    "patterns=[r'<html><.*>',r'\\n \\n ',r'<html>\\n ',r'=\"\\d+\" ',r'<\\w+><\\w+>']\n",
    "pattern_feature_train=pattern_finder(patterns,train['email'])\n",
    "pattern_feature_val=pattern_finder(patterns,val['email'])\n",
    "pattern_feature_test=pattern_finder(patterns,test['email'])"
   ]
  },
  {
   "cell_type": "code",
   "execution_count": 22,
   "metadata": {},
   "outputs": [],
   "source": [
    "# extra cell model\n",
    "some_words = ['cash', 'free', 'please','!','reply','sign','dear','sincerely','money','!!','$','please','offer','credit','money','wish','absolute','personal','financial']\n",
    "words_feature_train = words_in_texts(some_words,train['email'])\n",
    "words_feature_val = words_in_texts(some_words,val['email'])\n",
    "words_feature_test = words_in_texts(some_words,test['email'])"
   ]
  },
  {
   "cell_type": "code",
   "execution_count": 23,
   "metadata": {},
   "outputs": [
    {
     "data": {
      "text/plain": [
       "(835, 24)"
      ]
     },
     "execution_count": 23,
     "metadata": {},
     "output_type": "execute_result"
    }
   ],
   "source": [
    "def x_builder(*feature):\n",
    "    return np.hstack(feature)\n",
    "\n",
    "X_trai=x_builder(words_feature_train,pattern_feature_train)\n",
    "X_val=x_builder(words_feature_val,pattern_feature_val)\n",
    "X_test=x_builder(words_feature_test,pattern_feature_test)\n",
    "X_val.shape\n",
    "\n"
   ]
  },
  {
   "cell_type": "code",
   "execution_count": 24,
   "metadata": {},
   "outputs": [
    {
     "name": "stdout",
     "output_type": "stream",
     "text": [
      "Training Accuracy:  0.9146812192200187\n",
      "Testingg Accuracy:  0.9173652694610779\n"
     ]
    }
   ],
   "source": [
    "from sklearn.linear_model import LogisticRegression\n",
    "model = LogisticRegression(multi_class='ovr').fit(X=X_trai,y=Y_train)\n",
    "predict=model.predict(X_trai)\n",
    "test_predictions=model.predict(X_test)\n",
    "training_accuracy = model.score(X_trai,Y_train)\n",
    "testing_accuracy = model.score(X_val,Y_val)\n",
    "training_accuracy\n",
    "print(\"Training Accuracy: \", training_accuracy)\n",
    "print(\"Testingg Accuracy: \", testing_accuracy)"
   ]
  },
  {
   "cell_type": "markdown",
   "metadata": {
    "deletable": false,
    "editable": false,
    "nbgrader": {
     "grade": false,
     "grade_id": "q7",
     "locked": true,
     "schema_version": 2,
     "solution": false
    }
   },
   "source": [
    "<!-- BEGIN QUESTION -->\n",
    "\n",
    "### Question 7: Feature/Model Selection Process\n",
    "\n",
    "In this following cell, describe the process of improving your model. You should use at least 2-3 sentences each to address the follow questions:\n",
    "\n",
    "1. How did you find better features for your model?\n",
    "2. What did you try that worked or didn't work?\n",
    "3. What was surprising in your search for good features?\n",
    "\n",
    "<!--\n",
    "BEGIN QUESTION\n",
    "name: q7\n",
    "manual: True\n",
    "points: 6\n",
    "-->"
   ]
  },
  {
   "cell_type": "markdown",
   "metadata": {},
   "source": [
    "1. I reasoned the purpose of spam emails and write down a potential word list. Then I code to find the difference in the number of word occurace and filter out umimportant words. Also, by observing the email, I find many non-word pattern, I believe patterns such \\<html> are strong indicators of spam. Words occur frenquently with those pattern are likely to be good features.\n",
    "2. Adding more words does increase my accuracy. But many of my words, regardless of the difference in numbers of occurance, do not increase accuracy signigicantly. What works the best are non-word pattern and repeating notations such as exclamation mark.\n",
    "3.  Words such as \"sincerely\" and \"dear\" greatly increased the accuracy. \n"
   ]
  },
  {
   "cell_type": "markdown",
   "metadata": {
    "nbgrader": {
     "grade": false,
     "grade_id": "q8",
     "locked": true,
     "schema_version": 2,
     "solution": false
    }
   },
   "source": [
    "<!-- END QUESTION -->\n",
    "\n",
    "\n",
    "\n",
    "### Question 8: EDA\n",
    "\n",
    "In the cell below, show a visualization that you used to select features for your model. \n",
    "\n",
    "Include:\n",
    "\n",
    "1. A plot showing something meaningful about the data that helped you during feature selection, model selection, or both.\n",
    "2. Two or three sentences describing what you plotted and its implications with respect to your features.\n",
    "\n",
    "Feel free to create as many plots as you want in your process of feature selection, but select only one for the response cell below.\n",
    "\n",
    "**You should not just produce an identical visualization to question 3.** Specifically, don't show us a bar chart of proportions, or a one-dimensional class-conditional density plot. Any other plot is acceptable, **as long as it comes with thoughtful commentary.** Here are some ideas:\n",
    "\n",
    "1. Consider the correlation between multiple features (look up correlation plots and `sns.heatmap`). \n",
    "1. Try to show redundancy in a group of features (e.g. `body` and `html` might co-occur relatively frequently, or you might be able to design a feature that captures all html tags and compare it to these). \n",
    "1. Visualize which words have high or low values for some useful statistic.\n",
    "1. Visually depict whether spam emails tend to be wordier (in some sense) than ham emails."
   ]
  },
  {
   "cell_type": "markdown",
   "metadata": {
    "deletable": false,
    "editable": false
   },
   "source": [
    "<!-- BEGIN QUESTION -->\n",
    "\n",
    "Generate your visualization in the cell below and provide your description in a comment.\n",
    "\n",
    "<!--\n",
    "BEGIN QUESTION\n",
    "name: q8\n",
    "manual: True\n",
    "format: image\n",
    "points: 6\n",
    "-->"
   ]
  },
  {
   "cell_type": "code",
   "execution_count": 25,
   "metadata": {
    "ExecuteTime": {
     "end_time": "2019-04-02T00:27:36.170465Z",
     "start_time": "2019-04-02T00:27:36.167776Z"
    },
    "nbgrader": {
     "grade": true,
     "grade_id": "q8-eda",
     "locked": false,
     "points": 3,
     "schema_version": 2,
     "solution": true
    },
    "tags": [
     "student",
     "written",
     "q_eda1"
    ]
   },
   "outputs": [
    {
     "data": {
      "text/plain": [
       "Text(0.5, 1, 'occurance of words against occurance of non-word patterns')"
      ]
     },
     "execution_count": 25,
     "metadata": {},
     "output_type": "execute_result"
    },
    {
     "data": {
      "image/png": "[encoded data removed]",
      "text/plain": [
       "<Figure size 1440x864 with 2 Axes>"
      ]
     },
     "metadata": {},
     "output_type": "display_data"
    }
   ],
   "source": [
    "# Write your description (2-3 sentences) as a comment here:\n",
    "# \n",
    "# I think non-word pattern is a strong indicator of spam email, so words occur with non-word pattern are more likely to be a good feature. \n",
    "# Based on this I made a heatplot to find good word features for my classifier.\n",
    "\n",
    "# Write the code to generate your visualization here:\n",
    "\n",
    "pattern_selection=[r'<html><.*>',r'\\n \\n ',r'<html>\\n ',r'=\"\\d+\" ',r'<\\w+><\\w+>']\n",
    "word_selection= ['cash', 'free', 'please','!','reply','sign','sincerely','dear','money','!!','$','please','offer','money','wish','credit','financial','personal']\n",
    "\n",
    "words_selected=words_in_texts(word_selection,train[train['spam']==1]['email'])\n",
    "words_selected=pd.DataFrame(words_selected,columns=word_selection)\n",
    "pattern_selected=pattern_finder(pattern_selection,train[train['spam']==1]['email'])\n",
    "pattern_selected=pd.DataFrame(pattern_selected,columns=pattern_selection)\n",
    "pattern_selected=(pattern_selected/pattern_selected).fillna(0)\n",
    "\n",
    "words_selected_0=words_in_texts(word_selection,train[train['spam']==0]['email'])\n",
    "words_selected_0=pd.DataFrame(words_selected_0,columns=word_selection)\n",
    "pattern_selected_0=pattern_finder(pattern_selection,train[train['spam']==0]['email'])\n",
    "pattern_selected_0=pd.DataFrame(pattern_selected_0,columns=pattern_selection)\n",
    "pattern_selected_0=(pattern_selected_0/pattern_selected_0).fillna(0)\n",
    "\n",
    "a=np.abs(words_selected.T@pattern_selected-words_selected_0.T@pattern_selected_0)\n",
    "plt.figure(figsize=(20,12))\n",
    "sns.heatmap(a)\n",
    "\n",
    "plt.title('occurance of words against occurance of non-word patterns')"
   ]
  },
  {
   "cell_type": "markdown",
   "metadata": {
    "deletable": false,
    "editable": false,
    "nbgrader": {
     "grade": false,
     "grade_id": "q9",
     "locked": true,
     "schema_version": 2,
     "solution": false
    }
   },
   "source": [
    "<!-- END QUESTION -->\n",
    "\n",
    "<!-- BEGIN QUESTION -->\n",
    "\n",
    "### Question 9: ROC Curve\n",
    "\n",
    "In most cases we won't be able to get 0 false positives and 0 false negatives, so we have to compromise. For example, in the case of cancer screenings, false negatives are comparatively worse than false positives — a false negative means that a patient might not discover that they have cancer until it's too late, whereas a patient can just receive another screening for a false positive.\n",
    "\n",
    "Recall that logistic regression calculates the probability that an example belongs to a certain class. Then, to classify an example we say that an email is spam if our classifier gives it $\\ge 0.5$ probability of being spam. However, *we can adjust that cutoff*: we can say that an email is spam only if our classifier gives it $\\ge 0.7$ probability of being spam, for example. This is how we can trade off false positives and false negatives.\n",
    "\n",
    "The ROC curve shows this trade off for each possible cutoff probability. In the cell below, plot a ROC curve for your final classifier (the one you use to make predictions for Gradescope) on the training data. Refer to Lecture 19 or [Section 17.7](https://www.textbook.ds100.org/ch/17/classification_sensitivity_specificity.html) of the course text to see how to plot an ROC curve.\n",
    "\n",
    "<!--\n",
    "BEGIN QUESTION\n",
    "name: q9\n",
    "manual: True\n",
    "points: 3\n",
    "-->"
   ]
  },
  {
   "cell_type": "code",
   "execution_count": 26,
   "metadata": {},
   "outputs": [
    {
     "data": {
      "image/png": "[encoded data removed]",
      "text/plain": [
       "<Figure size 432x288 with 1 Axes>"
      ]
     },
     "metadata": {},
     "output_type": "display_data"
    }
   ],
   "source": [
    "from sklearn.metrics import roc_curve\n",
    "model_prob=model.predict_proba(X_trai)[:,1]\n",
    "fp_rate,sensitivity,threshhold=roc_curve(Y_train,model_prob,pos_label=1)\n",
    "# Note that you'll want to use the .predict_proba(...) method for your classifier\n",
    "# instead of .predict(...) so you get probabilities, not classes\n",
    "plt.plot(fp_rate,sensitivity)\n",
    "plt.title('ROC curve for the fincal classifier');\n",
    "plt.xlabel('False Positive Rate');\n",
    "plt.ylabel('Sensitivity');"
   ]
  },
  {
   "cell_type": "markdown",
   "metadata": {
    "deletable": false,
    "editable": false,
    "nbgrader": {
     "grade": false,
     "grade_id": "q10",
     "locked": true,
     "schema_version": 2,
     "solution": false
    }
   },
   "source": [
    "<!-- END QUESTION -->\n",
    "\n",
    "# Question 10: Test Predictions\n",
    "\n",
    "The following code will write your predictions on the test dataset to a CSV file. **You will need to submit this file to the \"Project 2 Test Predictions\" assignment on Gradescope to get credit for this question.**\n",
    "\n",
    "Save your predictions in a 1-dimensional array called `test_predictions`. **Please make sure you've saved your predictions to `test_predictions` as this is how part of your score for this question will be determined.**\n",
    "\n",
    "Remember that if you've performed transformations or featurization on the training data, you must also perform the same transformations on the test data in order to make predictions. For example, if you've created features for the words \"drug\" and \"money\" on the training data, you must also extract the same features in order to use scikit-learn's `.predict(...)` method.\n",
    "\n",
    "**Note: You may submit up to 4 times a day. If you have submitted 4 times on a day, you will need to wait until the next day for more submissions.**\n",
    "\n",
    "Note that this question is graded on an absolute scale based on the accuracy your model achieves on the overall test set, and as such, your score does not depend on your ranking on Gradescope. Your public Gradescope results are based off of your classifier's accuracy on 70% of the test dataset and your score for this question will be based off of your classifier's accuracy on 100% of the test set.\n",
    "\n",
    "*The provided tests check that your predictions are in the correct format, but you must additionally submit to Gradescope to evaluate your classifier accuracy.*\n",
    "\n",
    "<!--\n",
    "BEGIN QUESTION\n",
    "name: q10\n",
    "points: 3\n",
    "-->"
   ]
  },
  {
   "cell_type": "code",
   "execution_count": 27,
   "metadata": {
    "ExecuteTime": {
     "end_time": "2019-04-02T00:27:38.650695Z",
     "start_time": "2019-04-02T00:27:38.469233Z"
    },
    "nbgrader": {
     "grade": false,
     "grade_id": "q10-answer",
     "locked": false,
     "schema_version": 2,
     "solution": true
    }
   },
   "outputs": [],
   "source": [
    "test_predictions = model.predict(X_test)\n"
   ]
  },
  {
   "cell_type": "code",
   "execution_count": 28,
   "metadata": {},
   "outputs": [
    {
     "data": {
      "text/plain": [
       "1000"
      ]
     },
     "execution_count": 28,
     "metadata": {},
     "output_type": "execute_result"
    }
   ],
   "source": [
    "len(test_predictions)"
   ]
  },
  {
   "cell_type": "code",
   "execution_count": 29,
   "metadata": {
    "deletable": false,
    "editable": false
   },
   "outputs": [
    {
     "data": {
      "text/html": [
       "\n",
       "    \n",
       "    \n",
       "        <p>All tests passed!</p>\n",
       "    \n",
       "    "
      ],
      "text/plain": [
       "\n",
       "    All tests passed!\n",
       "    "
      ]
     },
     "execution_count": 29,
     "metadata": {},
     "output_type": "execute_result"
    }
   ],
   "source": [
    "grader.check(\"q10\")"
   ]
  },
  {
   "cell_type": "markdown",
   "metadata": {
    "nbgrader": {
     "grade": false,
     "grade_id": "cell-d15e30e2a961277d",
     "locked": true,
     "schema_version": 2,
     "solution": false
    }
   },
   "source": [
    "The following cell generates a CSV file with your predictions. **You must submit this CSV file to the \"Project 2 Test Predictions\" assignment on Gradescope to get credit for this question.**"
   ]
  },
  {
   "cell_type": "code",
   "execution_count": 30,
   "metadata": {
    "ExecuteTime": {
     "end_time": "2019-04-02T00:27:39.986326Z",
     "start_time": "2019-04-02T00:27:38.385Z"
    },
    "nbgrader": {
     "grade": false,
     "grade_id": "cell-8dd1bfadcbe08b00",
     "locked": true,
     "schema_version": 2,
     "solution": false
    }
   },
   "outputs": [
    {
     "name": "stdout",
     "output_type": "stream",
     "text": [
      "Created a CSV file: submission_2020-11-30T16:59:59.csv.\n",
      "You may now upload this CSV file to Gradescope for scoring.\n"
     ]
    }
   ],
   "source": [
    "from datetime import datetime\n",
    "\n",
    "# Assuming that your predictions on the test set are stored in a 1-dimensional array called\n",
    "# test_predictions. Feel free to modify this cell as long you create a CSV in the right format.\n",
    "\n",
    "# Construct and save the submission:\n",
    "submission_df = pd.DataFrame({\n",
    "    \"Id\": test['id'], \n",
    "    \"Class\": test_predictions,\n",
    "}, columns=['Id', 'Class'])\n",
    "timestamp = datetime.isoformat(datetime.now()).split(\".\")[0]\n",
    "submission_df.to_csv(\"submission_{}.csv\".format(timestamp), index=False)\n",
    "\n",
    "print('Created a CSV file: {}.'.format(\"submission_{}.csv\".format(timestamp)))\n",
    "print('You may now upload this CSV file to Gradescope for scoring.')"
   ]
  },
  {
   "cell_type": "markdown",
   "metadata": {
    "deletable": false,
    "editable": false
   },
   "source": [
    "---\n",
    "\n",
    "To double-check your work, the cell below will rerun all of the autograder tests."
   ]
  },
  {
   "cell_type": "code",
   "execution_count": 43,
   "metadata": {
    "deletable": false,
    "editable": false
   },
   "outputs": [
    {
     "data": {
      "text/html": [
       "<p><strong>q10:</strong></p>\n",
       "\n",
       "    \n",
       "    \n",
       "        <p>All tests passed!</p>\n",
       "    \n",
       "    \n",
       "\n",
       "<p><strong>q1a:</strong></p>\n",
       "\n",
       "    \n",
       "    \n",
       "        <p>All tests passed!</p>\n",
       "    \n",
       "    \n",
       "\n",
       "<p><strong>q1b:</strong></p>\n",
       "\n",
       "    \n",
       "    \n",
       "        <p>All tests passed!</p>\n",
       "    \n",
       "    \n",
       "\n",
       "<p><strong>q2:</strong></p>\n",
       "\n",
       "    \n",
       "    \n",
       "        <p>All tests passed!</p>\n",
       "    \n",
       "    \n",
       "\n",
       "<p><strong>q4:</strong></p>\n",
       "\n",
       "    \n",
       "    \n",
       "        <p>All tests passed!</p>\n",
       "    \n",
       "    \n",
       "\n",
       "<p><strong>q5:</strong></p>\n",
       "\n",
       "    \n",
       "    \n",
       "        <p>All tests passed!</p>\n",
       "    \n",
       "    \n",
       "\n",
       "<p><strong>q6a:</strong></p>\n",
       "\n",
       "    \n",
       "    \n",
       "        <p>All tests passed!</p>\n",
       "    \n",
       "    \n",
       "\n",
       "<p><strong>q6b:</strong></p>\n",
       "\n",
       "    \n",
       "    \n",
       "        <p>All tests passed!</p>\n",
       "    \n",
       "    \n",
       "\n",
       "<p><strong>q6d:</strong></p>\n",
       "\n",
       "    \n",
       "    \n",
       "        <p>All tests passed!</p>\n",
       "    \n",
       "    \n",
       "\n"
      ],
      "text/plain": [
       "q10:\n",
       "\n",
       "    All tests passed!\n",
       "    \n",
       "\n",
       "q1a:\n",
       "\n",
       "    All tests passed!\n",
       "    \n",
       "\n",
       "q1b:\n",
       "\n",
       "    All tests passed!\n",
       "    \n",
       "\n",
       "q2:\n",
       "\n",
       "    All tests passed!\n",
       "    \n",
       "\n",
       "q4:\n",
       "\n",
       "    All tests passed!\n",
       "    \n",
       "\n",
       "q5:\n",
       "\n",
       "    All tests passed!\n",
       "    \n",
       "\n",
       "q6a:\n",
       "\n",
       "    All tests passed!\n",
       "    \n",
       "\n",
       "q6b:\n",
       "\n",
       "    All tests passed!\n",
       "    \n",
       "\n",
       "q6d:\n",
       "\n",
       "    All tests passed!\n",
       "    \n"
      ]
     },
     "execution_count": 43,
     "metadata": {},
     "output_type": "execute_result"
    }
   ],
   "source": [
    "grader.check_all()"
   ]
  },
  {
   "cell_type": "markdown",
   "metadata": {
    "deletable": false,
    "editable": false
   },
   "source": [
    "## Submission\n",
    "\n",
    "Make sure you have run all cells in your notebook in order before running the cell below, so that all images/graphs appear in the output. The cell below will generate a zip file for you to submit. **Please save before exporting!**"
   ]
  },
  {
   "cell_type": "code",
   "execution_count": 44,
   "metadata": {
    "deletable": false,
    "editable": false
   },
   "outputs": [
    {
     "data": {
      "text/html": [
       "\n",
       "                <p>Your submission has been exported. Click <a href=\"proj2.zip\" target=\"_blank\">here</a> \n",
       "                to download the zip file.</p>\n",
       "                "
      ],
      "text/plain": [
       "<IPython.core.display.HTML object>"
      ]
     },
     "metadata": {},
     "output_type": "display_data"
    }
   ],
   "source": [
    "# Save your notebook first, then run this cell to export your submission.\n",
    "grader.export(\"proj2.ipynb\")"
   ]
  },
  {
   "cell_type": "markdown",
   "metadata": {},
   "source": [
    " "
   ]
  }
 ],
 "metadata": {
  "history": [
   {
    "code": "train=train.reset_index(drop=True) # We must do this in order to preserve the ordering of emails to labels for words_in_texts\n\n# BEGIN SOLUTION\nsome_words = ['opportunity', 'bank', 'receive', 'dear', 'best', 'deal']\nPhi_train = words_in_texts(some_words, train['email'])\n\ndf = pd.DataFrame(data = Phi_train, columns = some_words)\ndf['label'] = train['spam']\n\nplt.figure(figsize=(12,8))\nsns.barplot(x = \"variable\", \n            y = \"value\", \n            hue = \"label\", \n            data = (df\n                    .replace({'label': \n                                {0 : 'Ham', \n                                 1 : 'Spam'}})\n                    .melt('label')\n                    .groupby(['label', 'variable'])\n                    .mean()\n                    .reset_index()))\n\nplt.xlabel('Words')\nplt.ylabel('Proportion of Emails')\nplt.legend(title = \"\")\nplt.title(\"Frequency of Words in Spam/Ham Emails\")\nplt.tight_layout()\nplt.show()\n# END SOLUTION",
    "id": "3da1bb8528f1420d8e4b01106abb0d1c",
    "idx": 33,
    "time": "2020-11-13T17:39:00.446Z",
    "type": "execution"
   },
   {
    "id": "3da1bb8528f1420d8e4b01106abb0d1c",
    "time": "2020-11-13T17:39:00.597Z",
    "type": "completion"
   },
   {
    "code": "# Run this cell to suppress all FutureWarnings\nimport warnings\nwarnings.filterwarnings(\"ignore\", category=FutureWarning)",
    "id": "bf4059a762a047a6a8e4179dc2c11815",
    "idx": 5,
    "time": "2020-11-13T17:39:15.247Z",
    "type": "execution"
   },
   {
    "code": "import numpy as np\nimport pandas as pd\n\nimport matplotlib.pyplot as plt\n%matplotlib inline\n\nimport seaborn as sns\nsns.set(style = \"whitegrid\", \n        color_codes = True,\n        font_scale = 1.5)",
    "id": "679de399389b410fbd1bd229389869ba",
    "idx": 8,
    "time": "2020-11-13T17:39:15.251Z",
    "type": "execution"
   },
   {
    "code": "from utils import fetch_and_cache_gdrive\nfetch_and_cache_gdrive('1SCASpLZFKCp2zek-toR3xeKX3DZnBSyp', 'train.csv')\nfetch_and_cache_gdrive('1ZDFo9OTF96B5GP2Nzn8P8-AL7CTQXmC0', 'test.csv')\n\noriginal_training_data = pd.read_csv('data/train.csv')\ntest = pd.read_csv('data/test.csv')\n\n# Convert the emails to lower case as a first step to processing the text\noriginal_training_data['email'] = original_training_data['email'].str.lower()\ntest['email'] = test['email'].str.lower()\n\noriginal_training_data.head()",
    "id": "668f75f782c041508f9e0c8f82311ad1",
    "idx": 10,
    "time": "2020-11-13T17:39:15.256Z",
    "type": "execution"
   },
   {
    "code": "# BEGIN SOLUTION\nprint('Before imputation:')\nprint(original_training_data.isnull().sum())\noriginal_training_data = original_training_data.fillna('')\nprint('------------')\nprint('After imputation:')\nprint(original_training_data.isnull().sum())\n# END SOLUTION",
    "id": "68e38b511a2c4f5480d4eda2b0082a11",
    "idx": 12,
    "time": "2020-11-13T17:39:15.259Z",
    "type": "execution"
   },
   {
    "code": "# TEST\noriginal_training_data.isnull().sum().sum() == 0",
    "id": "7f4b00c62776443e817cd5a255aa14b9",
    "idx": 13,
    "time": "2020-11-13T17:39:15.261Z",
    "type": "execution"
   },
   {
    "code": "first_ham = original_training_data.loc[original_training_data['spam'] == 0, 'email'].iloc[0] # SOLUTION\nfirst_spam = original_training_data.loc[original_training_data['spam'] == 1, 'email'].iloc[0] # SOLUTION\nprint(first_ham)\nprint(first_spam)",
    "id": "bfb55fdfdfb1456785bb78790aad426b",
    "idx": 15,
    "time": "2020-11-13T17:39:15.264Z",
    "type": "execution"
   },
   {
    "code": "# TEST\nlen(first_ham) > 0 and first_ham[:0] == ''",
    "id": "6345c5019a384a618017acbb080996d9",
    "idx": 16,
    "time": "2020-11-13T17:39:15.265Z",
    "type": "execution"
   },
   {
    "code": "# TEST\nlen(first_spam) > 0 and first_spam[:0] == ''",
    "id": "ee844f20ed0a41c4b81ff495fe482bdf",
    "idx": 17,
    "time": "2020-11-13T17:39:15.268Z",
    "type": "execution"
   },
   {
    "code": "# HIDDEN TEST\noriginal_training_data.loc[original_training_data['spam'] == 0, 'email'].iloc[0] in first_ham",
    "id": "13a350f12fac4931be17235a1daf0a93",
    "idx": 18,
    "time": "2020-11-13T17:39:15.270Z",
    "type": "execution"
   },
   {
    "code": "# HIDDEN TEST\noriginal_training_data.loc[original_training_data['spam'] == 1, 'email'].iloc[0] in first_spam",
    "id": "a90683e4a73346878a06d732d7101c87",
    "idx": 19,
    "time": "2020-11-13T17:39:15.272Z",
    "type": "execution"
   },
   {
    "code": "# This creates a 90/10 train-validation split on our labeled data\n\nfrom sklearn.model_selection import train_test_split\n\ntrain, val = train_test_split(original_training_data, test_size=0.1, random_state=42)",
    "id": "7523257e508447369ca710ce27eba7b1",
    "idx": 23,
    "time": "2020-11-13T17:39:15.276Z",
    "type": "execution"
   },
   {
    "code": "def words_in_texts(words, texts):\n    '''\n    Args:\n        words (list): words to find\n        texts (Series): strings to search in\n    \n    Returns:\n        NumPy array of 0s and 1s with shape (n, p) where n is the\n        number of texts and p is the number of words.\n    '''\n    indicator_array = 1 * np.array([texts.str.contains(word) for word in words]).T # SOLUTION\n    return indicator_array",
    "id": "81aa3a295d054268acb33351ad567192",
    "idx": 26,
    "time": "2020-11-13T17:39:15.279Z",
    "type": "execution"
   },
   {
    "code": "# TEST\nnp.allclose(words_in_texts(['hello', 'bye', 'world'], \n                           pd.Series(['hello', 'hello worldhello'])),\n            np.array([[1, 0, 0], \n                      [1, 0, 1]]))",
    "id": "690ffc0aa5e446949b45a8b4ecd76f85",
    "idx": 27,
    "time": "2020-11-13T17:39:15.282Z",
    "type": "execution"
   },
   {
    "code": "# TEST\nnp.allclose(words_in_texts(['a', 'b', 'c', 'd', 'e', 'f', 'g'], \n                           pd.Series(['a b c d ef g', 'a', 'b', 'c', 'd e f g', 'h', 'a h'])),\n            np.array([[1,1,1,1,1,1,1], \n                      [1,0,0,0,0,0,0],\n                      [0,1,0,0,0,0,0],\n                      [0,0,1,0,0,0,0],\n                      [0,0,0,1,1,1,1],\n                      [0,0,0,0,0,0,0],\n                      [1,0,0,0,0,0,0]]))",
    "id": "c3fba6032da048efaf5bf9b349cfb4f8",
    "idx": 28,
    "time": "2020-11-13T17:39:15.284Z",
    "type": "execution"
   },
   {
    "code": "from IPython.display import display, Markdown\ndf = pd.DataFrame({\n    'word_1': [1, 0, 1, 0],\n    'word_2': [0, 1, 0, 1],\n    'type': ['spam', 'ham', 'ham', 'ham']\n})\ndisplay(Markdown(\"> Our Original DataFrame has a `type` column and some columns corresponding to words. You can think of each row as a sentence, and the value of 1 or 0 indicates the number of occurences of the word in this sentence.\"))\ndisplay(df);\ndisplay(Markdown(\"> `melt` will turn columns into entries in a variable column. Notice how `word_1` and `word_2` become entries in `variable`; their values are stored in the value column.\"))\ndisplay(df.melt(\"type\"))",
    "id": "c248bceea6bd440c870eb7f942fcf77e",
    "idx": 31,
    "time": "2020-11-13T17:39:15.289Z",
    "type": "execution"
   },
   {
    "code": "train=train.reset_index(drop=True) # We must do this in order to preserve the ordering of emails to labels for words_in_texts\n\n# BEGIN SOLUTION\nsome_words = ['opportunity', 'bank', 'receive', 'dear', 'best', 'deal']\nPhi_train = words_in_texts(some_words, train['email'])\n\ndf = pd.DataFrame(data = Phi_train, columns = some_words)\ndf['label'] = train['spam']\n\nplt.figure(figsize=(12,8))\nsns.barplot(x = \"variable\", \n            y = \"value\", \n            hue = \"label\", \n            data = (df\n                    .replace({'label': \n                                {0 : 'Ham', \n                                 1 : 'Spam'}})\n                    .melt('label')\n                    .groupby(['label', 'variable'])\n                    .mean()\n                    .reset_index()))\n\nplt.xlabel('Words')\nplt.ylabel('Proportion of Emails')\nplt.legend(title = \"\")\nplt.title(\"Frequency of Words in Spam/Ham Emails\")\nplt.tight_layout()\nplt.show()\n# END SOLUTION",
    "id": "3da1bb8528f1420d8e4b01106abb0d1c",
    "idx": 33,
    "time": "2020-11-13T17:39:15.291Z",
    "type": "execution"
   },
   {
    "code": "# BEGIN SOLUTION\ntmp = train.copy()\ntmp['length'] = tmp['email'].str.len()\nplt.figure(figsize=(10, 6))\nsns.distplot(tmp.loc[tmp['spam'] == 0, 'length'],hist=False, label='Ham')\nsns.distplot(tmp.loc[tmp['spam'] == 1, 'length'],hist=False, label='Spam')\nplt.title('Distribution of Email Body Length')\nplt.xlabel('Length of email body')\nplt.ylabel('Distribution')\nplt.xlim((0,50000))\nplt.tight_layout()\nplt.legend();\n# END SOLUTION",
    "id": "ccae3bbd17a7472584923d1fd81f0c4b",
    "idx": 36,
    "time": "2020-11-13T17:39:15.295Z",
    "type": "execution"
   },
   {
    "code": "some_words = ['drug', 'bank', 'prescription', 'memo', 'private']\n\nX_train = words_in_texts(some_words, train['email']) # SOLUTION\nY_train = np.array(train['spam']) # SOLUTION\n\nX_train[:5], Y_train[:5]",
    "id": "4228df6326c449d782e8471fb2f787fe",
    "idx": 39,
    "time": "2020-11-13T17:39:15.297Z",
    "type": "execution"
   },
   {
    "code": "# TEST\nX_train.shape == (7513, 5)",
    "id": "16be536580a04248971c0fcb94bb3f0e",
    "idx": 40,
    "time": "2020-11-13T17:39:15.299Z",
    "type": "execution"
   },
   {
    "code": "# TEST\nnp.array_equal(np.unique(X_train), np.array([0, 1])) # X matrix should consist of only 0 or 1",
    "id": "dc0cb916fcc5470885a644448fa6684c",
    "idx": 41,
    "time": "2020-11-13T17:39:15.301Z",
    "type": "execution"
   },
   {
    "code": "# TEST\nnp.array_equal(np.unique(Y_train), np.array([0, 1])) # y vector should consist of only 0 or 1",
    "id": "7b8699ffc3414488a9d374ae3a762231",
    "idx": 42,
    "time": "2020-11-13T17:39:15.303Z",
    "type": "execution"
   },
   {
    "code": "from sklearn.linear_model import LogisticRegression\n\nmodel = LogisticRegression(solver = 'lbfgs') # SOLUTION\nmodel.fit(X_train, Y_train) # SOLUTION\n\ntraining_accuracy = model.score(X_train, Y_train) # SOLUTION\nprint(\"Training Accuracy: \", training_accuracy)",
    "id": "6a1a859678394a819af601759e1b4c0d",
    "idx": 44,
    "time": "2020-11-13T17:39:15.305Z",
    "type": "execution"
   },
   {
    "code": "# TEST\ntraining_accuracy > 0.72",
    "id": "45afd18c3a604fd8825017255e72891e",
    "idx": 45,
    "time": "2020-11-13T17:39:15.307Z",
    "type": "execution"
   },
   {
    "code": "zero_predictor_fp = 0 # SOLUTION\nzero_predictor_fn = sum(Y_train == 1) # SOLUTION\nzero_predictor_fp, zero_predictor_fn",
    "id": "30f5741e6f4742119d46340efe2e6a52",
    "idx": 49,
    "time": "2020-11-13T17:39:15.310Z",
    "type": "execution"
   },
   {
    "code": "# TEST\nzero_predictor_fp >= 0",
    "id": "23064baca6924c4c9f2d7f478494c007",
    "idx": 50,
    "time": "2020-11-13T17:39:15.312Z",
    "type": "execution"
   },
   {
    "code": "# TEST\nzero_predictor_fn >= 0",
    "id": "3475b02fb61a47839320a7c9edd5d518",
    "idx": 51,
    "time": "2020-11-13T17:39:15.314Z",
    "type": "execution"
   },
   {
    "code": "# HIDDEN TEST\nnp.isclose(zero_predictor_fp, 0)",
    "id": "feef0e913db14b6b8101c4489462b487",
    "idx": 52,
    "time": "2020-11-13T17:39:15.316Z",
    "type": "execution"
   },
   {
    "code": "# HIDDEN TEST\nzero_predictor_fn == 1918",
    "id": "8dde97c384214925a9c7f42f58f87aaf",
    "idx": 53,
    "time": "2020-11-13T17:39:15.318Z",
    "type": "execution"
   },
   {
    "code": "zero_predictor_acc = np.mean(Y_train == 0) # SOLUTION\nzero_predictor_recall = 0 # SOLUTION\nzero_predictor_acc, zero_predictor_recall",
    "id": "933ef39465ec409e96b3a53f6203baab",
    "idx": 55,
    "time": "2020-11-13T17:39:15.321Z",
    "type": "execution"
   },
   {
    "code": "# TEST\nzero_predictor_acc >= 0",
    "id": "2499a1d760f1441299b055adc8736e68",
    "idx": 56,
    "time": "2020-11-13T17:39:15.322Z",
    "type": "execution"
   },
   {
    "code": "# TEST\nzero_predictor_recall >= 0",
    "id": "2de51ed2ec9f4e11be1000fb204774a3",
    "idx": 57,
    "time": "2020-11-13T17:39:15.324Z",
    "type": "execution"
   },
   {
    "code": "# HIDDEN TEST\nnp.isclose(zero_predictor_acc, 0.7447091707706642)",
    "id": "ff5d5782535a42019b7eb5a8ec2753dc",
    "idx": 58,
    "time": "2020-11-13T17:39:15.325Z",
    "type": "execution"
   },
   {
    "code": "# HIDDEN TEST\nnp.isclose(zero_predictor_recall, 0)",
    "id": "f0850a5e5e024d2d9f9bcafe925e1901",
    "idx": 59,
    "time": "2020-11-13T17:39:15.327Z",
    "type": "execution"
   },
   {
    "code": "# BEGIN SOLUTION NO PROMPT\nY_train_hat = model.predict(X_train)\n\nTP = sum((Y_train_hat == Y_train) & (Y_train_hat == 1))\nTN = sum((Y_train_hat == Y_train) & (Y_train_hat == 0))\nFP = sum((Y_train_hat != Y_train) & (Y_train_hat == 1))\nFN = sum((Y_train_hat != Y_train) & (Y_train_hat == 0))\n# END SOLUTION\nlogistic_predictor_precision = TP / (TP + FP) # SOLUTION\nlogistic_predictor_recall = TP / (TP + FN) # SOLUTION\nlogistic_predictor_far = FP / (FP + TN) # SOLUTION",
    "id": "aa340a7e7443411fb115580a71b83b27",
    "idx": 63,
    "time": "2020-11-13T17:39:15.330Z",
    "type": "execution"
   },
   {
    "code": "# TEST\nlogistic_predictor_precision >= 0",
    "id": "2be7e72466a649f1822d8f8458cf3921",
    "idx": 64,
    "time": "2020-11-13T17:39:15.332Z",
    "type": "execution"
   },
   {
    "code": "# TEST\nlogistic_predictor_recall >= 0",
    "id": "70a7e749219e434092993513497dc589",
    "idx": 65,
    "time": "2020-11-13T17:39:15.335Z",
    "type": "execution"
   },
   {
    "code": "# TEST\nlogistic_predictor_far >= 0",
    "id": "c555cae2efe24a11960d966fee18793b",
    "idx": 66,
    "time": "2020-11-13T17:39:15.335Z",
    "type": "execution"
   },
   {
    "code": "# HIDDEN TEST\nnp.isclose(logistic_predictor_precision, 0.6422287390029325)",
    "id": "84339b96007044c18bb3370123e713d5",
    "idx": 67,
    "time": "2020-11-13T17:39:15.338Z",
    "type": "execution"
   },
   {
    "code": "# HIDDEN TEST\nnp.isclose(logistic_predictor_recall, 0.11418143899895725)",
    "id": "e9752dbea367428782b9be92a30dfd54",
    "idx": 68,
    "time": "2020-11-13T17:39:15.340Z",
    "type": "execution"
   },
   {
    "code": "# HIDDEN TEST\nnp.isclose(logistic_predictor_far, 0.021805183199285077)",
    "id": "b7177c97cf0a4893a65e2229d24bddde",
    "idx": 69,
    "time": "2020-11-13T17:39:15.341Z",
    "type": "execution"
   },
   {
    "code": "# Write your description (2-3 sentences) as a comment here:\n# \n#\n#\n\n# Write the code to generate your visualization here:\n# BEGIN SOLUTION\nplt.plot([1, 3, 5]) # This is a dummy plot, not a real example of a solution\n# END SOLUTION",
    "id": "8c0c0ab98ec64e0f843fdaaa8287e1b3",
    "idx": 79,
    "time": "2020-11-13T17:39:15.347Z",
    "type": "execution"
   },
   {
    "code": "from sklearn.metrics import roc_curve\n\n# Note that you'll want to use the .predict_proba(...) method for your classifier\n# instead of .predict(...) so you get probabilities, not classes\n\n# BEGIN SOLUTION\nstaff_words = ['body', 'click', 'please', 'base64', '2002', 'html', 'subscribed',\n               'wrote', 'mortgage', 'align3dcenterfont', 'dear', 'br', 'width10img',\n               'divfont', 'im', 'receive', 'list', 'tags', 'web', 'base64', 'click',\n               'body', 'please', 'money', 'offer', 'receive', 'contact', 'free',\n               'tr', 'removed', 'remove', 'html', 'font', 'form',\n               'credit', 'business', 'div']\n\nX_train_2 = words_in_texts(staff_words, train['email'])\n\nstaff_model = LogisticRegression(solver = 'lbfgs')\nstaff_model.fit(X_train_2, Y_train)\n\nprint('accuracy: ', staff_model.score(X_train_2, Y_train))\n\nY_predict = staff_model.predict_proba(X_train_2)[:, 1]\nfpr, tpr, thresholds = roc_curve(Y_train, Y_predict)\nwith sns.axes_style(\"white\"):\n    plt.plot(fpr, tpr)\nplt.xlabel(\"False Positive Rate\")\nplt.ylabel(\"True Positive Rate\")\nplt.xlim([0, 1])\nplt.ylim([0, 1])\nplt.show()\n# END SOLUTION",
    "id": "8059141c245f48d1843bcdba92a55cd9",
    "idx": 81,
    "time": "2020-11-13T17:39:15.349Z",
    "type": "execution"
   },
   {
    "code": "test_predictions = staff_model.predict(words_in_texts(staff_words, test['email'])) # SOLUTION",
    "id": "b3b715b7bbe440a29afc031436448f68",
    "idx": 83,
    "time": "2020-11-13T17:39:15.351Z",
    "type": "execution"
   },
   {
    "code": "# TEST\nisinstance(test_predictions, np.ndarray) # must be ndarray of predictions",
    "id": "4b8c3b3000f8467d8e92f63713c5a948",
    "idx": 84,
    "time": "2020-11-13T17:39:15.353Z",
    "type": "execution"
   },
   {
    "code": "# TEST\nnp.array_equal(np.unique(test_predictions), np.array([0, 1])) # must be binary labels (0 or 1) and not probabilities",
    "id": "e49cb9eca4884f10bd54709c678f11c4",
    "idx": 85,
    "time": "2020-11-13T17:39:15.355Z",
    "type": "execution"
   },
   {
    "code": "# TEST\nlen(test_predictions) == 1000 # must be the right number of predictions",
    "id": "558f42cfe8c64125afce510c3b7d9647",
    "idx": 86,
    "time": "2020-11-13T17:39:15.357Z",
    "type": "execution"
   },
   {
    "code": "from datetime import datetime\n\n# Assuming that your predictions on the test set are stored in a 1-dimensional array called\n# test_predictions. Feel free to modify this cell as long you create a CSV in the right format.\n\n# Construct and save the submission:\nsubmission_df = pd.DataFrame({\n    \"Id\": test['id'], \n    \"Class\": test_predictions,\n}, columns=['Id', 'Class'])\ntimestamp = datetime.isoformat(datetime.now()).split(\".\")[0]\nsubmission_df.to_csv(\"submission_{}.csv\".format(timestamp), index=False)\n\nprint('Created a CSV file: {}.'.format(\"submission_{}.csv\".format(timestamp)))\nprint('You may now upload this CSV file to Gradescope for scoring.')",
    "id": "951a8f66c9384b52b03fd07762ba6645",
    "idx": 88,
    "time": "2020-11-13T17:39:15.359Z",
    "type": "execution"
   },
   {
    "id": "bf4059a762a047a6a8e4179dc2c11815",
    "time": "2020-11-13T17:39:15.381Z",
    "type": "completion"
   },
   {
    "id": "679de399389b410fbd1bd229389869ba",
    "time": "2020-11-13T17:39:16.314Z",
    "type": "completion"
   },
   {
    "id": "668f75f782c041508f9e0c8f82311ad1",
    "time": "2020-11-13T17:39:17.398Z",
    "type": "completion"
   },
   {
    "id": "68e38b511a2c4f5480d4eda2b0082a11",
    "time": "2020-11-13T17:39:17.402Z",
    "type": "completion"
   },
   {
    "id": "7f4b00c62776443e817cd5a255aa14b9",
    "time": "2020-11-13T17:39:17.451Z",
    "type": "completion"
   },
   {
    "id": "bfb55fdfdfb1456785bb78790aad426b",
    "time": "2020-11-13T17:39:17.502Z",
    "type": "completion"
   },
   {
    "id": "6345c5019a384a618017acbb080996d9",
    "time": "2020-11-13T17:39:17.557Z",
    "type": "completion"
   },
   {
    "id": "ee844f20ed0a41c4b81ff495fe482bdf",
    "time": "2020-11-13T17:39:17.641Z",
    "type": "completion"
   },
   {
    "id": "13a350f12fac4931be17235a1daf0a93",
    "time": "2020-11-13T17:39:17.687Z",
    "type": "completion"
   },
   {
    "id": "a90683e4a73346878a06d732d7101c87",
    "time": "2020-11-13T17:39:17.724Z",
    "type": "completion"
   },
   {
    "id": "7523257e508447369ca710ce27eba7b1",
    "time": "2020-11-13T17:39:17.810Z",
    "type": "completion"
   },
   {
    "id": "81aa3a295d054268acb33351ad567192",
    "time": "2020-11-13T17:39:17.822Z",
    "type": "completion"
   },
   {
    "id": "690ffc0aa5e446949b45a8b4ecd76f85",
    "time": "2020-11-13T17:39:17.854Z",
    "type": "completion"
   },
   {
    "id": "c3fba6032da048efaf5bf9b349cfb4f8",
    "time": "2020-11-13T17:39:17.895Z",
    "type": "completion"
   },
   {
    "id": "c248bceea6bd440c870eb7f942fcf77e",
    "time": "2020-11-13T17:39:17.923Z",
    "type": "completion"
   },
   {
    "id": "3da1bb8528f1420d8e4b01106abb0d1c",
    "time": "2020-11-13T17:39:18.623Z",
    "type": "completion"
   },
   {
    "id": "ccae3bbd17a7472584923d1fd81f0c4b",
    "time": "2020-11-13T17:39:19.061Z",
    "type": "completion"
   },
   {
    "id": "4228df6326c449d782e8471fb2f787fe",
    "time": "2020-11-13T17:39:19.120Z",
    "type": "completion"
   },
   {
    "id": "16be536580a04248971c0fcb94bb3f0e",
    "time": "2020-11-13T17:39:19.127Z",
    "type": "completion"
   },
   {
    "id": "dc0cb916fcc5470885a644448fa6684c",
    "time": "2020-11-13T17:39:19.185Z",
    "type": "completion"
   },
   {
    "id": "7b8699ffc3414488a9d374ae3a762231",
    "time": "2020-11-13T17:39:19.247Z",
    "type": "completion"
   },
   {
    "id": "6a1a859678394a819af601759e1b4c0d",
    "time": "2020-11-13T17:39:19.371Z",
    "type": "completion"
   },
   {
    "id": "45afd18c3a604fd8825017255e72891e",
    "time": "2020-11-13T17:39:19.383Z",
    "type": "completion"
   },
   {
    "id": "30f5741e6f4742119d46340efe2e6a52",
    "time": "2020-11-13T17:39:19.485Z",
    "type": "completion"
   },
   {
    "id": "23064baca6924c4c9f2d7f478494c007",
    "time": "2020-11-13T17:39:19.536Z",
    "type": "completion"
   },
   {
    "id": "3475b02fb61a47839320a7c9edd5d518",
    "time": "2020-11-13T17:39:19.588Z",
    "type": "completion"
   },
   {
    "id": "feef0e913db14b6b8101c4489462b487",
    "time": "2020-11-13T17:39:19.642Z",
    "type": "completion"
   },
   {
    "id": "8dde97c384214925a9c7f42f58f87aaf",
    "time": "2020-11-13T17:39:19.709Z",
    "type": "completion"
   },
   {
    "id": "933ef39465ec409e96b3a53f6203baab",
    "time": "2020-11-13T17:39:19.769Z",
    "type": "completion"
   },
   {
    "id": "2499a1d760f1441299b055adc8736e68",
    "time": "2020-11-13T17:39:19.867Z",
    "type": "completion"
   },
   {
    "id": "2de51ed2ec9f4e11be1000fb204774a3",
    "time": "2020-11-13T17:39:20.000Z",
    "type": "completion"
   },
   {
    "id": "ff5d5782535a42019b7eb5a8ec2753dc",
    "time": "2020-11-13T17:39:20.086Z",
    "type": "completion"
   },
   {
    "id": "f0850a5e5e024d2d9f9bcafe925e1901",
    "time": "2020-11-13T17:39:20.167Z",
    "type": "completion"
   },
   {
    "id": "aa340a7e7443411fb115580a71b83b27",
    "time": "2020-11-13T17:39:20.390Z",
    "type": "completion"
   },
   {
    "id": "2be7e72466a649f1822d8f8458cf3921",
    "time": "2020-11-13T17:39:20.396Z",
    "type": "completion"
   },
   {
    "id": "70a7e749219e434092993513497dc589",
    "time": "2020-11-13T17:39:20.469Z",
    "type": "completion"
   },
   {
    "id": "c555cae2efe24a11960d966fee18793b",
    "time": "2020-11-13T17:39:20.553Z",
    "type": "completion"
   },
   {
    "id": "84339b96007044c18bb3370123e713d5",
    "time": "2020-11-13T17:39:20.650Z",
    "type": "completion"
   },
   {
    "id": "e9752dbea367428782b9be92a30dfd54",
    "time": "2020-11-13T17:39:20.717Z",
    "type": "completion"
   },
   {
    "id": "b7177c97cf0a4893a65e2229d24bddde",
    "time": "2020-11-13T17:39:20.772Z",
    "type": "completion"
   },
   {
    "id": "8c0c0ab98ec64e0f843fdaaa8287e1b3",
    "time": "2020-11-13T17:39:21.057Z",
    "type": "completion"
   },
   {
    "id": "8059141c245f48d1843bcdba92a55cd9",
    "time": "2020-11-13T17:39:22.358Z",
    "type": "completion"
   },
   {
    "id": "b3b715b7bbe440a29afc031436448f68",
    "time": "2020-11-13T17:39:22.422Z",
    "type": "completion"
   },
   {
    "id": "4b8c3b3000f8467d8e92f63713c5a948",
    "time": "2020-11-13T17:39:22.456Z",
    "type": "completion"
   },
   {
    "id": "e49cb9eca4884f10bd54709c678f11c4",
    "time": "2020-11-13T17:39:22.531Z",
    "type": "completion"
   },
   {
    "id": "558f42cfe8c64125afce510c3b7d9647",
    "time": "2020-11-13T17:39:22.633Z",
    "type": "completion"
   },
   {
    "id": "951a8f66c9384b52b03fd07762ba6645",
    "time": "2020-11-13T17:39:22.769Z",
    "type": "completion"
   },
   {
    "code": "sns.distplot(tmp[tmp['spam']==0].length)",
    "id": "7d23973917c7446e89e5254e568f0870",
    "idx": 37,
    "time": "2020-11-13T17:47:19.110Z",
    "type": "execution"
   },
   {
    "id": "7d23973917c7446e89e5254e568f0870",
    "time": "2020-11-13T17:47:19.599Z",
    "type": "completion"
   },
   {
    "code": "sns.distplot(tmp[tmp['spam']==1].length)",
    "id": "3fa95f246e09494289e5530c5b1afc30",
    "idx": 37,
    "time": "2020-11-13T17:47:27.053Z",
    "type": "execution"
   },
   {
    "id": "3fa95f246e09494289e5530c5b1afc30",
    "time": "2020-11-13T17:47:27.538Z",
    "type": "completion"
   },
   {
    "code": "sns.distplot(tmp[tmp['spam']==1].length)\nplt.xlim(0, 50000)",
    "id": "3fa95f246e09494289e5530c5b1afc30",
    "idx": 37,
    "time": "2020-11-13T17:47:41.149Z",
    "type": "execution"
   },
   {
    "id": "3fa95f246e09494289e5530c5b1afc30",
    "time": "2020-11-13T17:47:41.623Z",
    "type": "completion"
   },
   {
    "code": "sns.distplot(tmp[tmp['spam']==0].length)\nplt.xlim(0, 50000)",
    "id": "7d23973917c7446e89e5254e568f0870",
    "idx": 38,
    "time": "2020-11-13T17:47:45.930Z",
    "type": "execution"
   },
   {
    "id": "7d23973917c7446e89e5254e568f0870",
    "time": "2020-11-13T17:47:46.515Z",
    "type": "completion"
   },
   {
    "code": "# BEGIN SOLUTION\ntmp = train.copy()\ntmp['length'] = tmp['email'].str.len()\nplt.figure(figsize=(10, 6))\nsns.distplot(tmp.loc[tmp['spam'] == 0, 'length'],hist=False, label='Ham')\nsns.distplot(tmp.loc[tmp['spam'] == 1, 'length'],hist=False, label='Spam')\nplt.title('Distribution of Email Body Length')\nplt.xlabel('Length of email body')\nplt.ylabel('Distribution')\nplt.xlim((0,50000))\nplt.tight_layout()\nplt.legend();\n# END SOLUTION\nplt.savefig('training_conditional_densities.png')",
    "id": "ccae3bbd17a7472584923d1fd81f0c4b",
    "idx": 36,
    "time": "2020-11-13T17:48:23.568Z",
    "type": "execution"
   },
   {
    "id": "ccae3bbd17a7472584923d1fd81f0c4b",
    "time": "2020-11-13T17:48:24.403Z",
    "type": "completion"
   },
   {
    "code": "# Run this cell to suppress all FutureWarnings\nimport warnings\nwarnings.filterwarnings(\"ignore\", category=FutureWarning)",
    "id": "bf4059a762a047a6a8e4179dc2c11815",
    "idx": 5,
    "time": "2020-11-13T17:50:40.136Z",
    "type": "execution"
   },
   {
    "id": "bf4059a762a047a6a8e4179dc2c11815",
    "time": "2020-11-13T17:50:40.313Z",
    "type": "completion"
   },
   {
    "code": "import numpy as np\nimport pandas as pd\n\nimport matplotlib.pyplot as plt\n%matplotlib inline\n\nimport seaborn as sns\nsns.set(style = \"whitegrid\", \n        color_codes = True,\n        font_scale = 1.5)",
    "id": "679de399389b410fbd1bd229389869ba",
    "idx": 8,
    "time": "2020-11-13T17:50:40.821Z",
    "type": "execution"
   },
   {
    "id": "679de399389b410fbd1bd229389869ba",
    "time": "2020-11-13T17:50:40.897Z",
    "type": "completion"
   },
   {
    "code": "from utils import fetch_and_cache_gdrive\nfetch_and_cache_gdrive('1SCASpLZFKCp2zek-toR3xeKX3DZnBSyp', 'train.csv')\nfetch_and_cache_gdrive('1ZDFo9OTF96B5GP2Nzn8P8-AL7CTQXmC0', 'test.csv')\n\noriginal_training_data = pd.read_csv('data/train.csv')\ntest = pd.read_csv('data/test.csv')\n\n# Convert the emails to lower case as a first step to processing the text\noriginal_training_data['email'] = original_training_data['email'].str.lower()\ntest['email'] = test['email'].str.lower()\n\noriginal_training_data.head()",
    "id": "668f75f782c041508f9e0c8f82311ad1",
    "idx": 10,
    "time": "2020-11-13T17:50:41.062Z",
    "type": "execution"
   },
   {
    "code": "# BEGIN SOLUTION\nprint('Before imputation:')\nprint(original_training_data.isnull().sum())\noriginal_training_data = original_training_data.fillna('')\nprint('------------')\nprint('After imputation:')\nprint(original_training_data.isnull().sum())\n# END SOLUTION",
    "id": "68e38b511a2c4f5480d4eda2b0082a11",
    "idx": 12,
    "time": "2020-11-13T17:50:41.287Z",
    "type": "execution"
   },
   {
    "code": "# TEST\noriginal_training_data.isnull().sum().sum() == 0",
    "id": "7f4b00c62776443e817cd5a255aa14b9",
    "idx": 13,
    "time": "2020-11-13T17:50:41.411Z",
    "type": "execution"
   },
   {
    "id": "668f75f782c041508f9e0c8f82311ad1",
    "time": "2020-11-13T17:50:41.553Z",
    "type": "completion"
   },
   {
    "id": "68e38b511a2c4f5480d4eda2b0082a11",
    "time": "2020-11-13T17:50:41.562Z",
    "type": "completion"
   },
   {
    "id": "7f4b00c62776443e817cd5a255aa14b9",
    "time": "2020-11-13T17:50:41.606Z",
    "type": "completion"
   },
   {
    "code": "first_ham = original_training_data.loc[original_training_data['spam'] == 0, 'email'].iloc[0] # SOLUTION\nfirst_spam = original_training_data.loc[original_training_data['spam'] == 1, 'email'].iloc[0] # SOLUTION\nprint(first_ham)\nprint(first_spam)",
    "id": "bfb55fdfdfb1456785bb78790aad426b",
    "idx": 15,
    "time": "2020-11-13T17:50:42.451Z",
    "type": "execution"
   },
   {
    "id": "bfb55fdfdfb1456785bb78790aad426b",
    "time": "2020-11-13T17:50:42.530Z",
    "type": "completion"
   },
   {
    "code": "# TEST\nlen(first_ham) > 0 and first_ham[:0] == ''",
    "id": "6345c5019a384a618017acbb080996d9",
    "idx": 16,
    "time": "2020-11-13T17:50:42.586Z",
    "type": "execution"
   },
   {
    "id": "6345c5019a384a618017acbb080996d9",
    "time": "2020-11-13T17:50:42.656Z",
    "type": "completion"
   },
   {
    "code": "# TEST\nlen(first_spam) > 0 and first_spam[:0] == ''",
    "id": "ee844f20ed0a41c4b81ff495fe482bdf",
    "idx": 17,
    "time": "2020-11-13T17:50:42.774Z",
    "type": "execution"
   },
   {
    "id": "ee844f20ed0a41c4b81ff495fe482bdf",
    "time": "2020-11-13T17:50:42.839Z",
    "type": "completion"
   },
   {
    "code": "# HIDDEN TEST\noriginal_training_data.loc[original_training_data['spam'] == 0, 'email'].iloc[0] in first_ham",
    "id": "13a350f12fac4931be17235a1daf0a93",
    "idx": 18,
    "time": "2020-11-13T17:50:42.995Z",
    "type": "execution"
   },
   {
    "id": "13a350f12fac4931be17235a1daf0a93",
    "time": "2020-11-13T17:50:43.069Z",
    "type": "completion"
   },
   {
    "code": "# HIDDEN TEST\noriginal_training_data.loc[original_training_data['spam'] == 1, 'email'].iloc[0] in first_spam",
    "id": "a90683e4a73346878a06d732d7101c87",
    "idx": 19,
    "time": "2020-11-13T17:50:43.103Z",
    "type": "execution"
   },
   {
    "id": "a90683e4a73346878a06d732d7101c87",
    "time": "2020-11-13T17:50:43.180Z",
    "type": "completion"
   },
   {
    "code": "# This creates a 90/10 train-validation split on our labeled data\n\nfrom sklearn.model_selection import train_test_split\n\ntrain, val = train_test_split(original_training_data, test_size=0.1, random_state=42)",
    "id": "7523257e508447369ca710ce27eba7b1",
    "idx": 23,
    "time": "2020-11-13T17:50:43.719Z",
    "type": "execution"
   },
   {
    "id": "7523257e508447369ca710ce27eba7b1",
    "time": "2020-11-13T17:50:43.793Z",
    "type": "completion"
   },
   {
    "code": "def words_in_texts(words, texts):\n    '''\n    Args:\n        words (list): words to find\n        texts (Series): strings to search in\n    \n    Returns:\n        NumPy array of 0s and 1s with shape (n, p) where n is the\n        number of texts and p is the number of words.\n    '''\n    indicator_array = 1 * np.array([texts.str.contains(word) for word in words]).T # SOLUTION\n    return indicator_array",
    "id": "81aa3a295d054268acb33351ad567192",
    "idx": 26,
    "time": "2020-11-13T17:50:44.197Z",
    "type": "execution"
   },
   {
    "id": "81aa3a295d054268acb33351ad567192",
    "time": "2020-11-13T17:50:44.266Z",
    "type": "completion"
   },
   {
    "code": "# TEST\nnp.allclose(words_in_texts(['hello', 'bye', 'world'], \n                           pd.Series(['hello', 'hello worldhello'])),\n            np.array([[1, 0, 0], \n                      [1, 0, 1]]))",
    "id": "690ffc0aa5e446949b45a8b4ecd76f85",
    "idx": 27,
    "time": "2020-11-13T17:50:44.320Z",
    "type": "execution"
   },
   {
    "id": "690ffc0aa5e446949b45a8b4ecd76f85",
    "time": "2020-11-13T17:50:44.392Z",
    "type": "completion"
   },
   {
    "code": "# TEST\nnp.allclose(words_in_texts(['a', 'b', 'c', 'd', 'e', 'f', 'g'], \n                           pd.Series(['a b c d ef g', 'a', 'b', 'c', 'd e f g', 'h', 'a h'])),\n            np.array([[1,1,1,1,1,1,1], \n                      [1,0,0,0,0,0,0],\n                      [0,1,0,0,0,0,0],\n                      [0,0,1,0,0,0,0],\n                      [0,0,0,1,1,1,1],\n                      [0,0,0,0,0,0,0],\n                      [1,0,0,0,0,0,0]]))",
    "id": "c3fba6032da048efaf5bf9b349cfb4f8",
    "idx": 28,
    "time": "2020-11-13T17:50:44.456Z",
    "type": "execution"
   },
   {
    "id": "c3fba6032da048efaf5bf9b349cfb4f8",
    "time": "2020-11-13T17:50:44.532Z",
    "type": "completion"
   },
   {
    "code": "from IPython.display import display, Markdown\ndf = pd.DataFrame({\n    'word_1': [1, 0, 1, 0],\n    'word_2': [0, 1, 0, 1],\n    'type': ['spam', 'ham', 'ham', 'ham']\n})\ndisplay(Markdown(\"> Our Original DataFrame has a `type` column and some columns corresponding to words. You can think of each row as a sentence, and the value of 1 or 0 indicates the number of occurences of the word in this sentence.\"))\ndisplay(df);\ndisplay(Markdown(\"> `melt` will turn columns into entries in a variable column. Notice how `word_1` and `word_2` become entries in `variable`; their values are stored in the value column.\"))\ndisplay(df.melt(\"type\"))",
    "id": "c248bceea6bd440c870eb7f942fcf77e",
    "idx": 31,
    "time": "2020-11-13T17:50:44.843Z",
    "type": "execution"
   },
   {
    "id": "c248bceea6bd440c870eb7f942fcf77e",
    "time": "2020-11-13T17:50:44.938Z",
    "type": "completion"
   },
   {
    "code": "train=train.reset_index(drop=True) # We must do this in order to preserve the ordering of emails to labels for words_in_texts\n\n# BEGIN SOLUTION\nsome_words = ['opportunity', 'bank', 'receive', 'dear', 'best', 'deal']\nPhi_train = words_in_texts(some_words, train['email'])\n\ndf = pd.DataFrame(data = Phi_train, columns = some_words)\ndf['label'] = train['spam']\n\nplt.figure(figsize=(12,8))\nsns.barplot(x = \"variable\", \n            y = \"value\", \n            hue = \"label\", \n            data = (df\n                    .replace({'label': \n                                {0 : 'Ham', \n                                 1 : 'Spam'}})\n                    .melt('label')\n                    .groupby(['label', 'variable'])\n                    .mean()\n                    .reset_index()))\n\nplt.xlabel('Words')\nplt.ylabel('Proportion of Emails')\nplt.legend(title = \"\")\nplt.title(\"Frequency of Words in Spam/Ham Emails\")\nplt.tight_layout()\nplt.show()\n# END SOLUTION",
    "id": "3da1bb8528f1420d8e4b01106abb0d1c",
    "idx": 33,
    "time": "2020-11-13T17:50:45.085Z",
    "type": "execution"
   },
   {
    "code": "# BEGIN SOLUTION\ntmp = train.copy()\ntmp['length'] = tmp['email'].str.len()\nplt.figure(figsize=(10, 6))\nsns.distplot(tmp.loc[tmp['spam'] == 0, 'length'],hist=False, label='Ham')\nsns.distplot(tmp.loc[tmp['spam'] == 1, 'length'],hist=False, label='Spam')\nplt.title('Distribution of Email Body Length')\nplt.xlabel('Length of email body')\nplt.ylabel('Distribution')\nplt.xlim((0,50000))\nplt.tight_layout()\nplt.legend();\n# END SOLUTION\nplt.savefig('training_conditional_densities.png')",
    "id": "ccae3bbd17a7472584923d1fd81f0c4b",
    "idx": 36,
    "time": "2020-11-13T17:50:45.529Z",
    "type": "execution"
   },
   {
    "id": "3da1bb8528f1420d8e4b01106abb0d1c",
    "time": "2020-11-13T17:50:45.785Z",
    "type": "completion"
   },
   {
    "id": "ccae3bbd17a7472584923d1fd81f0c4b",
    "time": "2020-11-13T17:50:46.397Z",
    "type": "completion"
   },
   {
    "code": "# Run this cell to suppress all FutureWarnings\nimport warnings\nwarnings.filterwarnings(\"ignore\", category=FutureWarning)",
    "id": "5717cb1fad9e4423882ebb7402a960d0",
    "idx": 5,
    "time": "2020-11-13T17:52:54.134Z",
    "type": "execution"
   },
   {
    "id": "5717cb1fad9e4423882ebb7402a960d0",
    "time": "2020-11-13T17:52:54.207Z",
    "type": "completion"
   },
   {
    "code": "import numpy as np\nimport pandas as pd\n\nimport matplotlib.pyplot as plt\n%matplotlib inline\n\nimport seaborn as sns\nsns.set(style = \"whitegrid\", \n        color_codes = True,\n        font_scale = 1.5)",
    "id": "922a4e60525f4eafb7a67d51618380a8",
    "idx": 8,
    "time": "2020-11-13T17:52:54.451Z",
    "type": "execution"
   },
   {
    "id": "922a4e60525f4eafb7a67d51618380a8",
    "time": "2020-11-13T17:52:54.611Z",
    "type": "completion"
   },
   {
    "code": "from utils import fetch_and_cache_gdrive\nfetch_and_cache_gdrive('1SCASpLZFKCp2zek-toR3xeKX3DZnBSyp', 'train.csv')\nfetch_and_cache_gdrive('1ZDFo9OTF96B5GP2Nzn8P8-AL7CTQXmC0', 'test.csv')\n\noriginal_training_data = pd.read_csv('data/train.csv')\ntest = pd.read_csv('data/test.csv')\n\n# Convert the emails to lower case as a first step to processing the text\noriginal_training_data['email'] = original_training_data['email'].str.lower()\ntest['email'] = test['email'].str.lower()\n\noriginal_training_data.head()",
    "id": "5b789cd4cf994c438c36c83a11f0883e",
    "idx": 10,
    "time": "2020-11-13T17:52:54.797Z",
    "type": "execution"
   },
   {
    "code": "# BEGIN SOLUTION\nprint('Before imputation:')\nprint(original_training_data.isnull().sum())\noriginal_training_data = original_training_data.fillna('')\nprint('------------')\nprint('After imputation:')\nprint(original_training_data.isnull().sum())\n# END SOLUTION",
    "id": "8cc51a7378104317923b12eb8010193c",
    "idx": 12,
    "time": "2020-11-13T17:52:55.069Z",
    "type": "execution"
   },
   {
    "code": "# TEST\noriginal_training_data.isnull().sum().sum() == 0",
    "id": "fd0fc36dcb3e465fa5de88357798251b",
    "idx": 13,
    "time": "2020-11-13T17:52:55.204Z",
    "type": "execution"
   },
   {
    "id": "5b789cd4cf994c438c36c83a11f0883e",
    "time": "2020-11-13T17:52:55.275Z",
    "type": "completion"
   },
   {
    "id": "8cc51a7378104317923b12eb8010193c",
    "time": "2020-11-13T17:52:55.285Z",
    "type": "completion"
   },
   {
    "id": "fd0fc36dcb3e465fa5de88357798251b",
    "time": "2020-11-13T17:52:55.362Z",
    "type": "completion"
   },
   {
    "code": "first_ham = original_training_data.loc[original_training_data['spam'] == 0, 'email'].iloc[0] # SOLUTION\nfirst_spam = original_training_data.loc[original_training_data['spam'] == 1, 'email'].iloc[0] # SOLUTION\nprint(first_ham)\nprint(first_spam)",
    "id": "ec38cd1676674d79a1f78850b2bdeade",
    "idx": 15,
    "time": "2020-11-13T17:52:55.469Z",
    "type": "execution"
   },
   {
    "id": "ec38cd1676674d79a1f78850b2bdeade",
    "time": "2020-11-13T17:52:55.543Z",
    "type": "completion"
   },
   {
    "code": "# TEST\nlen(first_ham) > 0 and first_ham[:0] == ''",
    "id": "91fb9a6b7c524dd1b4ebaf00adfee1e0",
    "idx": 16,
    "time": "2020-11-13T17:52:55.714Z",
    "type": "execution"
   },
   {
    "id": "91fb9a6b7c524dd1b4ebaf00adfee1e0",
    "time": "2020-11-13T17:52:55.787Z",
    "type": "completion"
   },
   {
    "code": "# TEST\nlen(first_spam) > 0 and first_spam[:0] == ''",
    "id": "bc8e6529a6634c3abc2fbbdeb59cf56a",
    "idx": 17,
    "time": "2020-11-13T17:52:55.830Z",
    "type": "execution"
   },
   {
    "id": "bc8e6529a6634c3abc2fbbdeb59cf56a",
    "time": "2020-11-13T17:52:55.908Z",
    "type": "completion"
   },
   {
    "code": "# HIDDEN TEST\noriginal_training_data.loc[original_training_data['spam'] == 0, 'email'].iloc[0] in first_ham",
    "id": "72db8567d04348308e6661ab83085607",
    "idx": 18,
    "time": "2020-11-13T17:52:55.952Z",
    "type": "execution"
   },
   {
    "id": "72db8567d04348308e6661ab83085607",
    "time": "2020-11-13T17:52:56.024Z",
    "type": "completion"
   },
   {
    "code": "# HIDDEN TEST\noriginal_training_data.loc[original_training_data['spam'] == 1, 'email'].iloc[0] in first_spam",
    "id": "3618a1ff098948808c2c917f942d36aa",
    "idx": 19,
    "time": "2020-11-13T17:52:56.076Z",
    "type": "execution"
   },
   {
    "id": "3618a1ff098948808c2c917f942d36aa",
    "time": "2020-11-13T17:52:56.147Z",
    "type": "completion"
   },
   {
    "code": "# This creates a 90/10 train-validation split on our labeled data\n\nfrom sklearn.model_selection import train_test_split\n\ntrain, val = train_test_split(original_training_data, test_size=0.1, random_state=42)",
    "id": "96c9ac16984747308f833d4c03e9ed53",
    "idx": 23,
    "time": "2020-11-13T17:52:56.678Z",
    "type": "execution"
   },
   {
    "id": "96c9ac16984747308f833d4c03e9ed53",
    "time": "2020-11-13T17:52:56.755Z",
    "type": "completion"
   },
   {
    "code": "def words_in_texts(words, texts):\n    '''\n    Args:\n        words (list): words to find\n        texts (Series): strings to search in\n    \n    Returns:\n        NumPy array of 0s and 1s with shape (n, p) where n is the\n        number of texts and p is the number of words.\n    '''\n    indicator_array = 1 * np.array([texts.str.contains(word) for word in words]).T # SOLUTION\n    return indicator_array",
    "id": "06639f97d5a240988a6d7dd1e0b48d8b",
    "idx": 26,
    "time": "2020-11-13T17:52:57.072Z",
    "type": "execution"
   },
   {
    "id": "06639f97d5a240988a6d7dd1e0b48d8b",
    "time": "2020-11-13T17:52:57.145Z",
    "type": "completion"
   },
   {
    "code": "# TEST\nnp.allclose(words_in_texts(['hello', 'bye', 'world'], \n                           pd.Series(['hello', 'hello worldhello'])),\n            np.array([[1, 0, 0], \n                      [1, 0, 1]]))",
    "id": "ffde5bde95224ba58486ad532fb5c28c",
    "idx": 27,
    "time": "2020-11-13T17:52:57.170Z",
    "type": "execution"
   },
   {
    "id": "ffde5bde95224ba58486ad532fb5c28c",
    "time": "2020-11-13T17:52:57.245Z",
    "type": "completion"
   },
   {
    "code": "# TEST\nnp.allclose(words_in_texts(['a', 'b', 'c', 'd', 'e', 'f', 'g'], \n                           pd.Series(['a b c d ef g', 'a', 'b', 'c', 'd e f g', 'h', 'a h'])),\n            np.array([[1,1,1,1,1,1,1], \n                      [1,0,0,0,0,0,0],\n                      [0,1,0,0,0,0,0],\n                      [0,0,1,0,0,0,0],\n                      [0,0,0,1,1,1,1],\n                      [0,0,0,0,0,0,0],\n                      [1,0,0,0,0,0,0]]))",
    "id": "e3e6cf9be8e743fba0049d314831aebf",
    "idx": 28,
    "time": "2020-11-13T17:52:57.405Z",
    "type": "execution"
   },
   {
    "id": "e3e6cf9be8e743fba0049d314831aebf",
    "time": "2020-11-13T17:52:57.482Z",
    "type": "completion"
   },
   {
    "code": "from IPython.display import display, Markdown\ndf = pd.DataFrame({\n    'word_1': [1, 0, 1, 0],\n    'word_2': [0, 1, 0, 1],\n    'type': ['spam', 'ham', 'ham', 'ham']\n})\ndisplay(Markdown(\"> Our Original DataFrame has a `type` column and some columns corresponding to words. You can think of each row as a sentence, and the value of 1 or 0 indicates the number of occurences of the word in this sentence.\"))\ndisplay(df);\ndisplay(Markdown(\"> `melt` will turn columns into entries in a variable column. Notice how `word_1` and `word_2` become entries in `variable`; their values are stored in the value column.\"))\ndisplay(df.melt(\"type\"))",
    "id": "6dd5159205814d56b783b665571c9441",
    "idx": 31,
    "time": "2020-11-13T17:52:57.979Z",
    "type": "execution"
   },
   {
    "id": "6dd5159205814d56b783b665571c9441",
    "time": "2020-11-13T17:52:58.072Z",
    "type": "completion"
   },
   {
    "code": "train=train.reset_index(drop=True) # We must do this in order to preserve the ordering of emails to labels for words_in_texts\n\n# BEGIN SOLUTION\nsome_words = ['opportunity', 'bank', 'receive', 'dear', 'best', 'deal']\nPhi_train = words_in_texts(some_words, train['email'])\n\ndf = pd.DataFrame(data = Phi_train, columns = some_words)\ndf['label'] = train['spam']\n\nplt.figure(figsize=(12,8))\nsns.barplot(x = \"variable\", \n            y = \"value\", \n            hue = \"label\", \n            data = (df\n                    .replace({'label': \n                                {0 : 'Ham', \n                                 1 : 'Spam'}})\n                    .melt('label')\n                    .groupby(['label', 'variable'])\n                    .mean()\n                    .reset_index()))\n\nplt.xlabel('Words')\nplt.ylabel('Proportion of Emails')\nplt.legend(title = \"\")\nplt.title(\"Frequency of Words in Spam/Ham Emails\")\nplt.tight_layout()\nplt.show()\n# END SOLUTION",
    "id": "cc68f68e069e48788281a1bc9531d83d",
    "idx": 33,
    "time": "2020-11-13T17:52:58.316Z",
    "type": "execution"
   },
   {
    "code": "# BEGIN SOLUTION\ntmp = train.copy()\ntmp['length'] = tmp['email'].str.len()\nplt.figure(figsize=(10, 6))\nsns.distplot(tmp.loc[tmp['spam'] == 0, 'length'],hist=False, label='Ham')\nsns.distplot(tmp.loc[tmp['spam'] == 1, 'length'],hist=False, label='Spam')\nplt.title('Distribution of Email Body Length')\nplt.xlabel('Length of email body')\nplt.ylabel('Distribution')\nplt.xlim((0,50000))\nplt.tight_layout()\nplt.legend();\n# END SOLUTION\nplt.savefig('training_conditional_densities.png')",
    "id": "26273859df904aecb41ec51ef7d9885e",
    "idx": 36,
    "time": "2020-11-13T17:52:58.861Z",
    "type": "execution"
   },
   {
    "id": "cc68f68e069e48788281a1bc9531d83d",
    "time": "2020-11-13T17:52:59.050Z",
    "type": "completion"
   },
   {
    "id": "26273859df904aecb41ec51ef7d9885e",
    "time": "2020-11-13T17:52:59.571Z",
    "type": "completion"
   },
   {
    "code": "some_words = ['drug', 'bank', 'prescription', 'memo', 'private']\n\nX_train = words_in_texts(some_words, train['email']) # SOLUTION\nY_train = np.array(train['spam']) # SOLUTION\n\nX_train[:5], Y_train[:5]",
    "id": "62fb90ac758448c48db77978df497ae6",
    "idx": 39,
    "time": "2020-11-13T17:53:00.275Z",
    "type": "execution"
   },
   {
    "code": "# TEST\nX_train.shape == (7513, 5)",
    "id": "b365b5d2dcef401a8defa85c6f598d02",
    "idx": 40,
    "time": "2020-11-13T17:53:00.406Z",
    "type": "execution"
   },
   {
    "id": "62fb90ac758448c48db77978df497ae6",
    "time": "2020-11-13T17:53:00.493Z",
    "type": "completion"
   },
   {
    "id": "b365b5d2dcef401a8defa85c6f598d02",
    "time": "2020-11-13T17:53:00.498Z",
    "type": "completion"
   },
   {
    "code": "# TEST\nnp.array_equal(np.unique(X_train), np.array([0, 1])) # X matrix should consist of only 0 or 1",
    "id": "47d34afb59514919ba683fa0c888bde4",
    "idx": 41,
    "time": "2020-11-13T17:53:00.534Z",
    "type": "execution"
   },
   {
    "id": "47d34afb59514919ba683fa0c888bde4",
    "time": "2020-11-13T17:53:00.605Z",
    "type": "completion"
   },
   {
    "code": "# TEST\nnp.array_equal(np.unique(Y_train), np.array([0, 1])) # y vector should consist of only 0 or 1",
    "id": "e8cd7ec14d974ad9b019227069f6145d",
    "idx": 42,
    "time": "2020-11-13T17:53:00.660Z",
    "type": "execution"
   },
   {
    "id": "e8cd7ec14d974ad9b019227069f6145d",
    "time": "2020-11-13T17:53:00.733Z",
    "type": "completion"
   },
   {
    "code": "from sklearn.linear_model import LogisticRegression\n\nmodel = LogisticRegression(solver = 'lbfgs') # SOLUTION\nmodel.fit(X_train, Y_train) # SOLUTION\n\ntraining_accuracy = model.score(X_train, Y_train) # SOLUTION\nprint(\"Training Accuracy: \", training_accuracy)",
    "id": "d499255244534699864b5465ce019b5d",
    "idx": 44,
    "time": "2020-11-13T17:53:00.942Z",
    "type": "execution"
   },
   {
    "id": "d499255244534699864b5465ce019b5d",
    "time": "2020-11-13T17:53:01.061Z",
    "type": "completion"
   },
   {
    "code": "# TEST\ntraining_accuracy > 0.72",
    "id": "fef1c6cf1e4a4d3c88f2b4953c55e80d",
    "idx": 45,
    "time": "2020-11-13T17:53:01.501Z",
    "type": "execution"
   },
   {
    "id": "fef1c6cf1e4a4d3c88f2b4953c55e80d",
    "time": "2020-11-13T17:53:01.569Z",
    "type": "completion"
   },
   {
    "code": "zero_predictor_fp = 0 # SOLUTION\nzero_predictor_fn = sum(Y_train == 1) # SOLUTION\nzero_predictor_fp, zero_predictor_fn",
    "id": "0cffaab89bf348f189d092a3bfa1ea4d",
    "idx": 49,
    "time": "2020-11-13T17:53:02.485Z",
    "type": "execution"
   },
   {
    "id": "0cffaab89bf348f189d092a3bfa1ea4d",
    "time": "2020-11-13T17:53:02.576Z",
    "type": "completion"
   },
   {
    "code": "# TEST\nzero_predictor_fp >= 0",
    "id": "564c1eaebae947b69e6800e2ae98ba16",
    "idx": 50,
    "time": "2020-11-13T17:53:02.634Z",
    "type": "execution"
   },
   {
    "id": "564c1eaebae947b69e6800e2ae98ba16",
    "time": "2020-11-13T17:53:02.712Z",
    "type": "completion"
   },
   {
    "code": "# TEST\nzero_predictor_fn >= 0",
    "id": "8a79d709c33749518cf44392623bb119",
    "idx": 51,
    "time": "2020-11-13T17:53:02.760Z",
    "type": "execution"
   },
   {
    "id": "8a79d709c33749518cf44392623bb119",
    "time": "2020-11-13T17:53:02.832Z",
    "type": "completion"
   },
   {
    "code": "# HIDDEN TEST\nnp.isclose(zero_predictor_fp, 0)",
    "id": "d6ef40aabfde4fd9afc5e0ae8a2f9a56",
    "idx": 52,
    "time": "2020-11-13T17:53:02.881Z",
    "type": "execution"
   },
   {
    "id": "d6ef40aabfde4fd9afc5e0ae8a2f9a56",
    "time": "2020-11-13T17:53:02.953Z",
    "type": "completion"
   },
   {
    "code": "# HIDDEN TEST\nzero_predictor_fn == 1918",
    "id": "dd9b240252164f86b72fb4a1a40682d4",
    "idx": 53,
    "time": "2020-11-13T17:53:03.012Z",
    "type": "execution"
   },
   {
    "id": "dd9b240252164f86b72fb4a1a40682d4",
    "time": "2020-11-13T17:53:03.092Z",
    "type": "completion"
   },
   {
    "code": "zero_predictor_acc = np.mean(Y_train == 0) # SOLUTION\nzero_predictor_recall = 0 # SOLUTION\nzero_predictor_acc, zero_predictor_recall",
    "id": "84771e6a5b2d4591884e110cd14df188",
    "idx": 55,
    "time": "2020-11-13T17:53:03.505Z",
    "type": "execution"
   },
   {
    "id": "84771e6a5b2d4591884e110cd14df188",
    "time": "2020-11-13T17:53:03.572Z",
    "type": "completion"
   },
   {
    "code": "# TEST\nzero_predictor_acc >= 0",
    "id": "060a99ebe6ce4a5086717f109d2e7dca",
    "idx": 56,
    "time": "2020-11-13T17:53:03.631Z",
    "type": "execution"
   },
   {
    "id": "060a99ebe6ce4a5086717f109d2e7dca",
    "time": "2020-11-13T17:53:03.702Z",
    "type": "completion"
   },
   {
    "code": "# TEST\nzero_predictor_recall >= 0",
    "id": "16d18caac2104e4caf93f13a65241938",
    "idx": 57,
    "time": "2020-11-13T17:53:03.762Z",
    "type": "execution"
   },
   {
    "id": "16d18caac2104e4caf93f13a65241938",
    "time": "2020-11-13T17:53:03.831Z",
    "type": "completion"
   },
   {
    "code": "# HIDDEN TEST\nnp.isclose(zero_predictor_acc, 0.7447091707706642)",
    "id": "be360f140fc546fd8b086891e6614438",
    "idx": 58,
    "time": "2020-11-13T17:53:04.126Z",
    "type": "execution"
   },
   {
    "id": "be360f140fc546fd8b086891e6614438",
    "time": "2020-11-13T17:53:04.196Z",
    "type": "completion"
   },
   {
    "code": "# HIDDEN TEST\nnp.isclose(zero_predictor_recall, 0)",
    "id": "34130958f5e14ea2aa8627842fa37faf",
    "idx": 59,
    "time": "2020-11-13T17:53:04.243Z",
    "type": "execution"
   },
   {
    "id": "34130958f5e14ea2aa8627842fa37faf",
    "time": "2020-11-13T17:53:04.312Z",
    "type": "completion"
   },
   {
    "code": "# BEGIN SOLUTION NO PROMPT\nY_train_hat = model.predict(X_train)\n\nTP = sum((Y_train_hat == Y_train) & (Y_train_hat == 1))\nTN = sum((Y_train_hat == Y_train) & (Y_train_hat == 0))\nFP = sum((Y_train_hat != Y_train) & (Y_train_hat == 1))\nFN = sum((Y_train_hat != Y_train) & (Y_train_hat == 0))\n# END SOLUTION\nlogistic_predictor_precision = TP / (TP + FP) # SOLUTION\nlogistic_predictor_recall = TP / (TP + FN) # SOLUTION\nlogistic_predictor_far = FP / (FP + TN) # SOLUTION",
    "id": "69a4c98c4a1e45449c52800df7da21d9",
    "idx": 63,
    "time": "2020-11-13T17:53:04.794Z",
    "type": "execution"
   },
   {
    "code": "# TEST\nlogistic_predictor_precision >= 0",
    "id": "4fa2f8b900fa476f8ec08629fe9787aa",
    "idx": 64,
    "time": "2020-11-13T17:53:04.910Z",
    "type": "execution"
   },
   {
    "id": "69a4c98c4a1e45449c52800df7da21d9",
    "time": "2020-11-13T17:53:05.010Z",
    "type": "completion"
   },
   {
    "id": "4fa2f8b900fa476f8ec08629fe9787aa",
    "time": "2020-11-13T17:53:05.020Z",
    "type": "completion"
   },
   {
    "code": "# TEST\nlogistic_predictor_recall >= 0",
    "id": "f169fcb087ce4e1d87d7cada8bfc94a6",
    "idx": 65,
    "time": "2020-11-13T17:53:05.035Z",
    "type": "execution"
   },
   {
    "id": "f169fcb087ce4e1d87d7cada8bfc94a6",
    "time": "2020-11-13T17:53:05.111Z",
    "type": "completion"
   },
   {
    "code": "# TEST\nlogistic_predictor_far >= 0",
    "id": "ce0f25f5620849cc9a33d61b84e5caf6",
    "idx": 66,
    "time": "2020-11-13T17:53:05.173Z",
    "type": "execution"
   },
   {
    "id": "ce0f25f5620849cc9a33d61b84e5caf6",
    "time": "2020-11-13T17:53:05.250Z",
    "type": "completion"
   },
   {
    "code": "# HIDDEN TEST\nnp.isclose(logistic_predictor_precision, 0.6422287390029325)",
    "id": "2da6368a3815416ba07c4cbfaf0533d5",
    "idx": 67,
    "time": "2020-11-13T17:53:05.299Z",
    "type": "execution"
   },
   {
    "id": "2da6368a3815416ba07c4cbfaf0533d5",
    "time": "2020-11-13T17:53:05.379Z",
    "type": "completion"
   },
   {
    "code": "# HIDDEN TEST\nnp.isclose(logistic_predictor_recall, 0.11418143899895725)",
    "id": "1f49e01547f844499992699a3f8437d4",
    "idx": 68,
    "time": "2020-11-13T17:53:05.414Z",
    "type": "execution"
   },
   {
    "id": "1f49e01547f844499992699a3f8437d4",
    "time": "2020-11-13T17:53:05.484Z",
    "type": "completion"
   },
   {
    "code": "# HIDDEN TEST\nnp.isclose(logistic_predictor_far, 0.021805183199285077)",
    "id": "a86939b61fe7402b9bd562eda7adcb8a",
    "idx": 69,
    "time": "2020-11-13T17:53:05.535Z",
    "type": "execution"
   },
   {
    "id": "a86939b61fe7402b9bd562eda7adcb8a",
    "time": "2020-11-13T17:53:05.607Z",
    "type": "completion"
   },
   {
    "code": "# Write your description (2-3 sentences) as a comment here:\n# \n#\n#\n\n# Write the code to generate your visualization here:\n# BEGIN SOLUTION\nplt.plot([1, 3, 5]) # This is a dummy plot, not a real example of a solution\n# END SOLUTION",
    "id": "f9dd9c1872054b3aabcc6cde9965ad16",
    "idx": 79,
    "time": "2020-11-13T17:53:06.802Z",
    "type": "execution"
   },
   {
    "code": "from sklearn.metrics import roc_curve\n\n# Note that you'll want to use the .predict_proba(...) method for your classifier\n# instead of .predict(...) so you get probabilities, not classes\n\n# BEGIN SOLUTION\nstaff_words = ['body', 'click', 'please', 'base64', '2002', 'html', 'subscribed',\n               'wrote', 'mortgage', 'align3dcenterfont', 'dear', 'br', 'width10img',\n               'divfont', 'im', 'receive', 'list', 'tags', 'web', 'base64', 'click',\n               'body', 'please', 'money', 'offer', 'receive', 'contact', 'free',\n               'tr', 'removed', 'remove', 'html', 'font', 'form',\n               'credit', 'business', 'div']\n\nX_train_2 = words_in_texts(staff_words, train['email'])\n\nstaff_model = LogisticRegression(solver = 'lbfgs')\nstaff_model.fit(X_train_2, Y_train)\n\nprint('accuracy: ', staff_model.score(X_train_2, Y_train))\n\nY_predict = staff_model.predict_proba(X_train_2)[:, 1]\nfpr, tpr, thresholds = roc_curve(Y_train, Y_predict)\nwith sns.axes_style(\"white\"):\n    plt.plot(fpr, tpr)\nplt.xlabel(\"False Positive Rate\")\nplt.ylabel(\"True Positive Rate\")\nplt.xlim([0, 1])\nplt.ylim([0, 1])\nplt.show()\n# END SOLUTION",
    "id": "73428c5ed83743b199ed18dc26f18be3",
    "idx": 81,
    "time": "2020-11-13T17:53:07.068Z",
    "type": "execution"
   },
   {
    "id": "f9dd9c1872054b3aabcc6cde9965ad16",
    "time": "2020-11-13T17:53:07.170Z",
    "type": "completion"
   },
   {
    "code": "test_predictions = staff_model.predict(words_in_texts(staff_words, test['email'])) # SOLUTION",
    "id": "665d4320ee5a44fd8e5fc2cc55ecd777",
    "idx": 83,
    "time": "2020-11-13T17:53:07.542Z",
    "type": "execution"
   },
   {
    "code": "# TEST\nisinstance(test_predictions, np.ndarray) # must be ndarray of predictions",
    "id": "0dd28fcc619746e4831ad536f8956532",
    "idx": 84,
    "time": "2020-11-13T17:53:07.669Z",
    "type": "execution"
   },
   {
    "code": "# TEST\nnp.array_equal(np.unique(test_predictions), np.array([0, 1])) # must be binary labels (0 or 1) and not probabilities",
    "id": "6ccaddb5360c45609af4d3b6991ca741",
    "idx": 85,
    "time": "2020-11-13T17:53:07.805Z",
    "type": "execution"
   },
   {
    "code": "# TEST\nlen(test_predictions) == 1000 # must be the right number of predictions",
    "id": "e8c8f77a5758407293ae0b201063880f",
    "idx": 86,
    "time": "2020-11-13T17:53:07.949Z",
    "type": "execution"
   },
   {
    "code": "from datetime import datetime\n\n# Assuming that your predictions on the test set are stored in a 1-dimensional array called\n# test_predictions. Feel free to modify this cell as long you create a CSV in the right format.\n\n# Construct and save the submission:\nsubmission_df = pd.DataFrame({\n    \"Id\": test['id'], \n    \"Class\": test_predictions,\n}, columns=['Id', 'Class'])\ntimestamp = datetime.isoformat(datetime.now()).split(\".\")[0]\nsubmission_df.to_csv(\"submission_{}.csv\".format(timestamp), index=False)\n\nprint('Created a CSV file: {}.'.format(\"submission_{}.csv\".format(timestamp)))\nprint('You may now upload this CSV file to Gradescope for scoring.')",
    "id": "aa5bacff8532404a8471d14006215349",
    "idx": 88,
    "time": "2020-11-13T17:53:08.231Z",
    "type": "execution"
   },
   {
    "id": "73428c5ed83743b199ed18dc26f18be3",
    "time": "2020-11-13T17:53:08.462Z",
    "type": "completion"
   },
   {
    "id": "665d4320ee5a44fd8e5fc2cc55ecd777",
    "time": "2020-11-13T17:53:08.523Z",
    "type": "completion"
   },
   {
    "id": "0dd28fcc619746e4831ad536f8956532",
    "time": "2020-11-13T17:53:08.540Z",
    "type": "completion"
   },
   {
    "id": "6ccaddb5360c45609af4d3b6991ca741",
    "time": "2020-11-13T17:53:08.558Z",
    "type": "completion"
   },
   {
    "id": "e8c8f77a5758407293ae0b201063880f",
    "time": "2020-11-13T17:53:08.585Z",
    "type": "completion"
   },
   {
    "id": "aa5bacff8532404a8471d14006215349",
    "time": "2020-11-13T17:53:08.632Z",
    "type": "completion"
   },
   {
    "code": "# Initialize Otter\nimport otter\ngrader = otter.Notebook()",
    "id": "c558160653384d968404f8a88145e408",
    "idx": 0,
    "time": "2020-11-17T05:37:25.115Z",
    "type": "execution"
   },
   {
    "id": "c558160653384d968404f8a88145e408",
    "time": "2020-11-17T05:37:25.712Z",
    "type": "completion"
   },
   {
    "code": "# Run this cell to suppress all FutureWarnings\nimport warnings\nwarnings.filterwarnings(\"ignore\", category=FutureWarning)",
    "id": "d6c95053aa994a568b2ce74396e4ba9b",
    "idx": 5,
    "time": "2020-11-17T05:37:29.033Z",
    "type": "execution"
   },
   {
    "id": "d6c95053aa994a568b2ce74396e4ba9b",
    "time": "2020-11-17T05:37:29.119Z",
    "type": "completion"
   },
   {
    "code": "import numpy as np\nimport pandas as pd\n\nimport matplotlib.pyplot as plt\n%matplotlib inline\n\nimport seaborn as sns\nsns.set(style = \"whitegrid\", \n        color_codes = True,\n        font_scale = 1.5)",
    "id": "4c873dc9d1d94155bb8bd3b93935c4bd",
    "idx": 8,
    "time": "2020-11-17T05:37:32.154Z",
    "type": "execution"
   },
   {
    "id": "4c873dc9d1d94155bb8bd3b93935c4bd",
    "time": "2020-11-17T05:37:33.036Z",
    "type": "completion"
   },
   {
    "code": "from utils import fetch_and_cache_gdrive\nfetch_and_cache_gdrive('1SCASpLZFKCp2zek-toR3xeKX3DZnBSyp', 'train.csv')\nfetch_and_cache_gdrive('1ZDFo9OTF96B5GP2Nzn8P8-AL7CTQXmC0', 'test.csv')\n\noriginal_training_data = pd.read_csv('data/train.csv')\ntest = pd.read_csv('data/test.csv')\n\n# Convert the emails to lower case as a first step to processing the text\noriginal_training_data['email'] = original_training_data['email'].str.lower()\ntest['email'] = test['email'].str.lower()\n\noriginal_training_data.head()",
    "id": "1aa6af2e64a049719ec1a4ddc53e105c",
    "idx": 10,
    "time": "2020-11-17T05:37:49.287Z",
    "type": "execution"
   },
   {
    "id": "1aa6af2e64a049719ec1a4ddc53e105c",
    "time": "2020-11-17T05:37:55.213Z",
    "type": "completion"
   },
   {
    "code": "...",
    "id": "1d67ed9be5064d32b7d438b500edb308",
    "idx": 12,
    "time": "2020-11-17T05:38:40.970Z",
    "type": "execution"
   },
   {
    "id": "1d67ed9be5064d32b7d438b500edb308",
    "time": "2020-11-17T05:38:41.044Z",
    "type": "completion"
   },
   {
    "code": "grader.check(\"q1a\")",
    "id": "4b72ba416977493ca672f3d9adcdccb2",
    "idx": 13,
    "time": "2020-11-17T05:38:41.346Z",
    "type": "execution"
   },
   {
    "id": "4b72ba416977493ca672f3d9adcdccb2",
    "time": "2020-11-17T05:38:41.515Z",
    "type": "completion"
   },
   {
    "code": "original_training_data.isnul()",
    "id": "1d67ed9be5064d32b7d438b500edb308",
    "idx": 12,
    "time": "2020-11-17T05:39:24.060Z",
    "type": "execution"
   },
   {
    "id": "1d67ed9be5064d32b7d438b500edb308",
    "time": "2020-11-17T05:39:24.285Z",
    "type": "completion"
   },
   {
    "code": "original_training_data['subject'].isna",
    "id": "1d67ed9be5064d32b7d438b500edb308",
    "idx": 12,
    "time": "2020-11-17T05:40:53.204Z",
    "type": "execution"
   },
   {
    "id": "1d67ed9be5064d32b7d438b500edb308",
    "time": "2020-11-17T05:40:53.292Z",
    "type": "completion"
   },
   {
    "code": "original_training_data['subject'].isna()",
    "id": "1d67ed9be5064d32b7d438b500edb308",
    "idx": 12,
    "time": "2020-11-17T05:41:00.651Z",
    "type": "execution"
   },
   {
    "id": "1d67ed9be5064d32b7d438b500edb308",
    "time": "2020-11-17T05:41:00.722Z",
    "type": "completion"
   },
   {
    "code": "original_training_data['subject'][original_training_data['subject'].isna()]",
    "id": "1d67ed9be5064d32b7d438b500edb308",
    "idx": 12,
    "time": "2020-11-17T05:41:31.757Z",
    "type": "execution"
   },
   {
    "id": "1d67ed9be5064d32b7d438b500edb308",
    "time": "2020-11-17T05:41:31.882Z",
    "type": "completion"
   },
   {
    "code": "original_training_data['subject'][original_training_data['subject'].isna()].value_counts()\n",
    "id": "1d67ed9be5064d32b7d438b500edb308",
    "idx": 12,
    "time": "2020-11-17T05:42:30.761Z",
    "type": "execution"
   },
   {
    "id": "1d67ed9be5064d32b7d438b500edb308",
    "time": "2020-11-17T05:42:30.841Z",
    "type": "completion"
   },
   {
    "code": "original_training_data['subject'][original_training_data['subject'].isna()]\n",
    "id": "1d67ed9be5064d32b7d438b500edb308",
    "idx": 12,
    "time": "2020-11-17T05:42:36.539Z",
    "type": "execution"
   },
   {
    "id": "1d67ed9be5064d32b7d438b500edb308",
    "time": "2020-11-17T05:42:36.614Z",
    "type": "completion"
   },
   {
    "code": "original_training_data['subject'][original_training_data['subject'].isna()].fillna()\n",
    "id": "1d67ed9be5064d32b7d438b500edb308",
    "idx": 12,
    "time": "2020-11-17T05:42:42.155Z",
    "type": "execution"
   },
   {
    "id": "1d67ed9be5064d32b7d438b500edb308",
    "time": "2020-11-17T05:42:42.275Z",
    "type": "completion"
   },
   {
    "code": "original_training_data['subject'][original_training_data['subject'].isna()]\noriginal_training_data.fillna()",
    "id": "1d67ed9be5064d32b7d438b500edb308",
    "idx": 12,
    "time": "2020-11-17T05:42:59.107Z",
    "type": "execution"
   },
   {
    "id": "1d67ed9be5064d32b7d438b500edb308",
    "time": "2020-11-17T05:42:59.230Z",
    "type": "completion"
   },
   {
    "code": "original_training_data['subject'][original_training_data['subject'].isna()]\noriginal_training_data.fillna('')",
    "id": "1d67ed9be5064d32b7d438b500edb308",
    "idx": 12,
    "time": "2020-11-17T05:43:25.248Z",
    "type": "execution"
   },
   {
    "id": "1d67ed9be5064d32b7d438b500edb308",
    "time": "2020-11-17T05:43:25.344Z",
    "type": "completion"
   },
   {
    "code": "grader.check(\"q1a\")",
    "id": "4b72ba416977493ca672f3d9adcdccb2",
    "idx": 13,
    "time": "2020-11-17T05:43:27.756Z",
    "type": "execution"
   },
   {
    "id": "4b72ba416977493ca672f3d9adcdccb2",
    "time": "2020-11-17T05:43:27.870Z",
    "type": "completion"
   },
   {
    "code": "original_training_data['subject'][original_training_data['subject'].isna()]\noriginal_training_data.fillna('')\noriginal_training_data.isnull().sum().sum()",
    "id": "1d67ed9be5064d32b7d438b500edb308",
    "idx": 12,
    "time": "2020-11-17T05:43:36.394Z",
    "type": "execution"
   },
   {
    "id": "1d67ed9be5064d32b7d438b500edb308",
    "time": "2020-11-17T05:43:36.478Z",
    "type": "completion"
   },
   {
    "code": "original_training_data['subject'][original_training_data['subject'].isna()]\noriginal_training_data.fillna('',inplace=True)\noriginal_training_data.isnull().sum().sum()",
    "id": "1d67ed9be5064d32b7d438b500edb308",
    "idx": 12,
    "time": "2020-11-17T05:43:42.358Z",
    "type": "execution"
   },
   {
    "id": "1d67ed9be5064d32b7d438b500edb308",
    "time": "2020-11-17T05:43:42.439Z",
    "type": "completion"
   },
   {
    "code": "grader.check(\"q1a\")",
    "id": "4b72ba416977493ca672f3d9adcdccb2",
    "idx": 13,
    "time": "2020-11-17T05:43:43.856Z",
    "type": "execution"
   },
   {
    "id": "4b72ba416977493ca672f3d9adcdccb2",
    "time": "2020-11-17T05:43:43.955Z",
    "type": "completion"
   },
   {
    "code": "original_training_data['subject'][original_training_data['subject'].isna()]\noriginal_training_data.fillna('',inplace=True)\n",
    "id": "1d67ed9be5064d32b7d438b500edb308",
    "idx": 12,
    "time": "2020-11-17T05:43:50.556Z",
    "type": "execution"
   },
   {
    "id": "1d67ed9be5064d32b7d438b500edb308",
    "time": "2020-11-17T05:43:50.632Z",
    "type": "completion"
   },
   {
    "code": "first_ham = original_training_data['email']['spam'=0][0]\nfirst_spam = original_training_data['email']['spam'=1][0]\nprint(first_ham)\nprint(first_spam)",
    "id": "9d548677428143b297685c2d853df038",
    "idx": 15,
    "time": "2020-11-17T05:45:28.952Z",
    "type": "execution"
   },
   {
    "id": "9d548677428143b297685c2d853df038",
    "time": "2020-11-17T05:45:29.020Z",
    "type": "completion"
   },
   {
    "code": "first_ham = original_training_data['email']['spam'==0][0]\nfirst_spam = original_training_data['email']['spam'==1][0]\nprint(first_ham)\nprint(first_spam)",
    "id": "9d548677428143b297685c2d853df038",
    "idx": 15,
    "time": "2020-11-17T05:45:54.896Z",
    "type": "execution"
   },
   {
    "id": "9d548677428143b297685c2d853df038",
    "time": "2020-11-17T05:45:55.039Z",
    "type": "completion"
   },
   {
    "code": "original_training_data['email']['spam'==0]",
    "id": "939496df0035469680dc1b19cc5b4fcd",
    "idx": 15,
    "time": "2020-11-17T05:46:03.018Z",
    "type": "execution"
   },
   {
    "id": "939496df0035469680dc1b19cc5b4fcd",
    "time": "2020-11-17T05:46:03.135Z",
    "type": "completion"
   },
   {
    "code": "original_training_data['spam'==0]",
    "id": "939496df0035469680dc1b19cc5b4fcd",
    "idx": 15,
    "time": "2020-11-17T05:46:06.619Z",
    "type": "execution"
   },
   {
    "id": "939496df0035469680dc1b19cc5b4fcd",
    "time": "2020-11-17T05:46:06.752Z",
    "type": "completion"
   },
   {
    "code": "original_training_data[['spam']==0]",
    "id": "939496df0035469680dc1b19cc5b4fcd",
    "idx": 15,
    "time": "2020-11-17T05:46:20.536Z",
    "type": "execution"
   },
   {
    "id": "939496df0035469680dc1b19cc5b4fcd",
    "time": "2020-11-17T05:46:20.656Z",
    "type": "completion"
   },
   {
    "code": "original_training_data[original_training_data['spam']==0]",
    "id": "939496df0035469680dc1b19cc5b4fcd",
    "idx": 15,
    "time": "2020-11-17T05:46:27.220Z",
    "type": "execution"
   },
   {
    "id": "939496df0035469680dc1b19cc5b4fcd",
    "time": "2020-11-17T05:46:27.318Z",
    "type": "completion"
   },
   {
    "code": "original_training_data[original_training_data['spam']==0][0]",
    "id": "939496df0035469680dc1b19cc5b4fcd",
    "idx": 15,
    "time": "2020-11-17T05:46:37.274Z",
    "type": "execution"
   },
   {
    "id": "939496df0035469680dc1b19cc5b4fcd",
    "time": "2020-11-17T05:46:37.444Z",
    "type": "completion"
   },
   {
    "code": "original_training_data[original_training_data['spam']==0].head()",
    "id": "939496df0035469680dc1b19cc5b4fcd",
    "idx": 15,
    "time": "2020-11-17T05:46:42.949Z",
    "type": "execution"
   },
   {
    "id": "939496df0035469680dc1b19cc5b4fcd",
    "time": "2020-11-17T05:46:43.025Z",
    "type": "completion"
   },
   {
    "code": "original_training_data[original_training_data['spam']==0].head(1)",
    "id": "939496df0035469680dc1b19cc5b4fcd",
    "idx": 15,
    "time": "2020-11-17T05:46:45.838Z",
    "type": "execution"
   },
   {
    "id": "939496df0035469680dc1b19cc5b4fcd",
    "time": "2020-11-17T05:46:45.913Z",
    "type": "completion"
   },
   {
    "code": "original_training_data[original_training_data['spam']==0]",
    "id": "939496df0035469680dc1b19cc5b4fcd",
    "idx": 15,
    "time": "2020-11-17T05:46:55.057Z",
    "type": "execution"
   },
   {
    "id": "939496df0035469680dc1b19cc5b4fcd",
    "time": "2020-11-17T05:46:55.154Z",
    "type": "completion"
   },
   {
    "code": "original_training_data[original_training_data['spam']==0]['email']",
    "id": "939496df0035469680dc1b19cc5b4fcd",
    "idx": 15,
    "time": "2020-11-17T05:47:01.431Z",
    "type": "execution"
   },
   {
    "id": "939496df0035469680dc1b19cc5b4fcd",
    "time": "2020-11-17T05:47:01.509Z",
    "type": "completion"
   },
   {
    "code": "original_training_data[original_training_data['spam']==0]['email'][0]",
    "id": "939496df0035469680dc1b19cc5b4fcd",
    "idx": 15,
    "time": "2020-11-17T05:47:05.339Z",
    "type": "execution"
   },
   {
    "id": "939496df0035469680dc1b19cc5b4fcd",
    "time": "2020-11-17T05:47:05.410Z",
    "type": "completion"
   },
   {
    "code": "first_ham = original_training_data[original_training_data['spam']==0]['email'][0]\nfirst_spam = original_training_data[original_training_data['spam']==1]['email'][0]\nprint(first_ham)\nprint(first_spam)",
    "id": "9d548677428143b297685c2d853df038",
    "idx": 16,
    "time": "2020-11-17T05:47:14.763Z",
    "type": "execution"
   },
   {
    "id": "9d548677428143b297685c2d853df038",
    "time": "2020-11-17T05:47:14.941Z",
    "type": "completion"
   },
   {
    "code": "original_training_data[original_training_data['spam']==0]['email'][0]",
    "id": "939496df0035469680dc1b19cc5b4fcd",
    "idx": 15,
    "time": "2020-11-17T05:47:24.715Z",
    "type": "execution"
   },
   {
    "id": "939496df0035469680dc1b19cc5b4fcd",
    "time": "2020-11-17T05:47:24.789Z",
    "type": "completion"
   },
   {
    "code": "original_training_data[original_training_data['spam']==1]['email'][0]",
    "id": "939496df0035469680dc1b19cc5b4fcd",
    "idx": 15,
    "time": "2020-11-17T05:47:28.477Z",
    "type": "execution"
   },
   {
    "id": "939496df0035469680dc1b19cc5b4fcd",
    "time": "2020-11-17T05:47:28.594Z",
    "type": "completion"
   },
   {
    "code": "original_training_data[original_training_data['spam']==1]",
    "id": "939496df0035469680dc1b19cc5b4fcd",
    "idx": 15,
    "time": "2020-11-17T05:47:36.231Z",
    "type": "execution"
   },
   {
    "id": "939496df0035469680dc1b19cc5b4fcd",
    "time": "2020-11-17T05:47:36.324Z",
    "type": "completion"
   },
   {
    "code": "original_training_data[original_training_data['spam']==1]['email']",
    "id": "939496df0035469680dc1b19cc5b4fcd",
    "idx": 15,
    "time": "2020-11-17T05:47:50.229Z",
    "type": "execution"
   },
   {
    "id": "939496df0035469680dc1b19cc5b4fcd",
    "time": "2020-11-17T05:47:50.301Z",
    "type": "completion"
   },
   {
    "code": "original_training_data[original_training_data['spam']==1]['email'][0]",
    "id": "939496df0035469680dc1b19cc5b4fcd",
    "idx": 15,
    "time": "2020-11-17T05:47:59.074Z",
    "type": "execution"
   },
   {
    "id": "939496df0035469680dc1b19cc5b4fcd",
    "time": "2020-11-17T05:47:59.203Z",
    "type": "completion"
   },
   {
    "code": "original_training_data[original_training_data['spam']==1]['email']",
    "id": "939496df0035469680dc1b19cc5b4fcd",
    "idx": 15,
    "time": "2020-11-17T05:48:02.062Z",
    "type": "execution"
   },
   {
    "id": "939496df0035469680dc1b19cc5b4fcd",
    "time": "2020-11-17T05:48:02.135Z",
    "type": "completion"
   },
   {
    "code": "original_training_data[original_training_data['spam']==1]['email'].head()",
    "id": "939496df0035469680dc1b19cc5b4fcd",
    "idx": 15,
    "time": "2020-11-17T05:48:11.011Z",
    "type": "execution"
   },
   {
    "id": "939496df0035469680dc1b19cc5b4fcd",
    "time": "2020-11-17T05:48:11.089Z",
    "type": "completion"
   },
   {
    "code": "original_training_data[original_training_data['spam']==1]['email'].head(1)",
    "id": "939496df0035469680dc1b19cc5b4fcd",
    "idx": 15,
    "time": "2020-11-17T05:48:14.571Z",
    "type": "execution"
   },
   {
    "id": "939496df0035469680dc1b19cc5b4fcd",
    "time": "2020-11-17T05:48:14.643Z",
    "type": "completion"
   },
   {
    "code": "first_ham = original_training_data[original_training_data['spam']==0]['email'].head(0)\nfirst_spam = original_training_data[original_training_data['spam']==1]['email'].head(0)\nprint(first_ham)\nprint(first_spam)",
    "id": "9d548677428143b297685c2d853df038",
    "idx": 16,
    "time": "2020-11-17T05:49:02.842Z",
    "type": "execution"
   },
   {
    "id": "9d548677428143b297685c2d853df038",
    "time": "2020-11-17T05:49:02.941Z",
    "type": "completion"
   },
   {
    "code": "first_ham = original_training_data[original_training_data['spam']==0]['email'].head(0)\nfirst_spam = original_training_data[original_training_data['spam']==1]['email'].head(0)\nprint(first_ham)\nprint(first_spam)",
    "id": "9d548677428143b297685c2d853df038",
    "idx": 16,
    "time": "2020-11-17T05:49:03.493Z",
    "type": "execution"
   },
   {
    "id": "9d548677428143b297685c2d853df038",
    "time": "2020-11-17T05:49:03.563Z",
    "type": "completion"
   },
   {
    "code": "first_ham = original_training_data[original_training_data['spam']==0]['email'].head(1)\nfirst_spam = original_training_data[original_training_data['spam']==1]['email'].head(1)\nprint(first_ham)\nprint(first_spam)",
    "id": "9d548677428143b297685c2d853df038",
    "idx": 16,
    "time": "2020-11-17T05:49:10.340Z",
    "type": "execution"
   },
   {
    "id": "9d548677428143b297685c2d853df038",
    "time": "2020-11-17T05:49:10.413Z",
    "type": "completion"
   },
   {
    "code": "first_ham = original_training_data[original_training_data['spam']==0]['email'].head(1)\nfirst_spam = original_training_data[original_training_data['spam']==1]['email'].head(1)\nprint(first_ham)\nprint(first_spam)",
    "id": "9d548677428143b297685c2d853df038",
    "idx": 16,
    "time": "2020-11-17T05:49:11.359Z",
    "type": "execution"
   },
   {
    "id": "9d548677428143b297685c2d853df038",
    "time": "2020-11-17T05:49:11.437Z",
    "type": "completion"
   },
   {
    "code": "grader.check(\"q1b\")",
    "id": "bd608a213e094ac3800af56c55be4c7d",
    "idx": 17,
    "time": "2020-11-17T05:49:11.734Z",
    "type": "execution"
   },
   {
    "id": "bd608a213e094ac3800af56c55be4c7d",
    "time": "2020-11-17T05:49:11.891Z",
    "type": "completion"
   },
   {
    "code": "original_training_data[original_training_data['spam']==1]",
    "id": "939496df0035469680dc1b19cc5b4fcd",
    "idx": 15,
    "time": "2020-11-17T05:49:49.303Z",
    "type": "execution"
   },
   {
    "id": "939496df0035469680dc1b19cc5b4fcd",
    "time": "2020-11-17T05:49:49.395Z",
    "type": "completion"
   },
   {
    "code": "original_training_data[original_training_data['spam']==1].iloc[0,2]",
    "id": "939496df0035469680dc1b19cc5b4fcd",
    "idx": 15,
    "time": "2020-11-17T05:50:16.635Z",
    "type": "execution"
   },
   {
    "id": "939496df0035469680dc1b19cc5b4fcd",
    "time": "2020-11-17T05:50:16.710Z",
    "type": "completion"
   },
   {
    "code": "first_ham = original_training_data[original_training_data['spam']==0].iloc[0,2]\nfirst_spam = original_training_data[original_training_data['spam']==1].iloc[0,2]\nprint(first_ham)\nprint(first_spam)",
    "id": "9d548677428143b297685c2d853df038",
    "idx": 16,
    "time": "2020-11-17T05:50:30.316Z",
    "type": "execution"
   },
   {
    "id": "9d548677428143b297685c2d853df038",
    "time": "2020-11-17T05:50:30.391Z",
    "type": "completion"
   },
   {
    "code": "first_ham = original_training_data[original_training_data['spam']==0].iloc[0,2]\nfirst_spam = original_training_data[original_training_data['spam']==1].iloc[0,2]\nprint(first_ham)\nprint(first_spam)",
    "id": "9d548677428143b297685c2d853df038",
    "idx": 16,
    "time": "2020-11-17T05:50:33.273Z",
    "type": "execution"
   },
   {
    "id": "9d548677428143b297685c2d853df038",
    "time": "2020-11-17T05:50:33.353Z",
    "type": "completion"
   },
   {
    "code": "grader.check(\"q1b\")",
    "id": "bd608a213e094ac3800af56c55be4c7d",
    "idx": 17,
    "time": "2020-11-17T05:50:33.887Z",
    "type": "execution"
   },
   {
    "id": "bd608a213e094ac3800af56c55be4c7d",
    "time": "2020-11-17T05:50:34.024Z",
    "type": "completion"
   },
   {
    "code": "grader.check(\"q1b\")",
    "id": "bd608a213e094ac3800af56c55be4c7d",
    "idx": 17,
    "time": "2020-11-17T05:50:35.514Z",
    "type": "execution"
   },
   {
    "id": "bd608a213e094ac3800af56c55be4c7d",
    "time": "2020-11-17T05:50:35.587Z",
    "type": "completion"
   },
   {
    "code": "# This creates a 90/10 train-validation split on our labeled data\n\nfrom sklearn.model_selection import train_test_split\n\ntrain, val = train_test_split(original_training_data, test_size=0.1, random_state=42)",
    "id": "5f74fa4e65b8494287c439b0ed5a7e4d",
    "idx": 21,
    "time": "2020-11-17T05:52:15.495Z",
    "type": "execution"
   },
   {
    "id": "5f74fa4e65b8494287c439b0ed5a7e4d",
    "time": "2020-11-17T05:52:15.657Z",
    "type": "completion"
   },
   {
    "code": "def words_in_texts(words, texts):\n    '''\n    Args:\n        words (list): words to find\n        texts (Series): strings to search in\n    \n    Returns:\n        NumPy array of 0s and 1s with shape (n, p) where n is the\n        number of texts and p is the number of words.\n    '''\n    indicator_array = ...\n    return indicator_array",
    "id": "890f8da41b964d97ab82db3e138c6038",
    "idx": 24,
    "time": "2020-11-17T05:52:18.072Z",
    "type": "execution"
   },
   {
    "id": "890f8da41b964d97ab82db3e138c6038",
    "time": "2020-11-17T05:52:18.139Z",
    "type": "completion"
   },
   {
    "code": "if ['hello', 'bye', 'world'] in ['hello']",
    "id": "55171158c4944cb48fb05059a79bcf29",
    "idx": 24,
    "time": "2020-11-17T05:59:47.836Z",
    "type": "execution"
   },
   {
    "id": "55171158c4944cb48fb05059a79bcf29",
    "time": "2020-11-17T05:59:47.929Z",
    "type": "completion"
   },
   {
    "code": "['hello', 'bye', 'world'] in ['hello']",
    "id": "55171158c4944cb48fb05059a79bcf29",
    "idx": 24,
    "time": "2020-11-17T05:59:50.710Z",
    "type": "execution"
   },
   {
    "id": "55171158c4944cb48fb05059a79bcf29",
    "time": "2020-11-17T05:59:50.774Z",
    "type": "completion"
   },
   {
    "code": "words=['hello', 'bye', 'world']\nfor i,x in enumerate(words):\n    display(i,x)\n    ",
    "id": "55171158c4944cb48fb05059a79bcf29",
    "idx": 24,
    "time": "2020-11-17T06:01:16.444Z",
    "type": "execution"
   },
   {
    "id": "55171158c4944cb48fb05059a79bcf29",
    "time": "2020-11-17T06:01:16.539Z",
    "type": "completion"
   },
   {
    "code": "words=['hello', 'bye', 'world']\nfor i,word in enumerate(words):\n    temp[i]= word in texts\n    ",
    "id": "55171158c4944cb48fb05059a79bcf29",
    "idx": 24,
    "time": "2020-11-17T06:02:27.270Z",
    "type": "execution"
   },
   {
    "id": "55171158c4944cb48fb05059a79bcf29",
    "time": "2020-11-17T06:02:27.373Z",
    "type": "completion"
   },
   {
    "code": "words=['hello', 'bye', 'world']\ntexts=['hello']\nfor i,word in enumerate(words):\n    temp[i]= word in texts\n    ",
    "id": "55171158c4944cb48fb05059a79bcf29",
    "idx": 24,
    "time": "2020-11-17T06:02:40.405Z",
    "type": "execution"
   },
   {
    "id": "55171158c4944cb48fb05059a79bcf29",
    "time": "2020-11-17T06:02:40.482Z",
    "type": "completion"
   },
   {
    "code": "words=['hello', 'bye', 'world']\ntexts=['hello']\ntemp=[]\nfor i,word in enumerate(words):\n    temp[i]= word in texts\n    ",
    "id": "55171158c4944cb48fb05059a79bcf29",
    "idx": 24,
    "time": "2020-11-17T06:02:47.313Z",
    "type": "execution"
   },
   {
    "id": "55171158c4944cb48fb05059a79bcf29",
    "time": "2020-11-17T06:02:47.394Z",
    "type": "completion"
   },
   {
    "code": "words=['hello', 'bye', 'world']\ntexts=['hello']\n\nfor i,word in enumerate(words):\n    temp[i]= [word in texts]\n    ",
    "id": "55171158c4944cb48fb05059a79bcf29",
    "idx": 24,
    "time": "2020-11-17T06:03:03.368Z",
    "type": "execution"
   },
   {
    "id": "55171158c4944cb48fb05059a79bcf29",
    "time": "2020-11-17T06:03:03.447Z",
    "type": "completion"
   },
   {
    "code": "words=['hello', 'bye', 'world']\ntexts=['hello']\ntemp=[]\nfor i,word in enumerate(words):\n    temp = temp + [word in texts]\n    ",
    "id": "55171158c4944cb48fb05059a79bcf29",
    "idx": 24,
    "time": "2020-11-17T06:03:37.641Z",
    "type": "execution"
   },
   {
    "id": "55171158c4944cb48fb05059a79bcf29",
    "time": "2020-11-17T06:03:37.704Z",
    "type": "completion"
   },
   {
    "code": "words=['hello', 'bye', 'world']\ntexts=['hello']\ntemp=[]\nfor i,word in enumerate(words):\n    temp = temp + [word in texts]\ntemp",
    "id": "55171158c4944cb48fb05059a79bcf29",
    "idx": 24,
    "time": "2020-11-17T06:03:42.280Z",
    "type": "execution"
   },
   {
    "id": "55171158c4944cb48fb05059a79bcf29",
    "time": "2020-11-17T06:03:42.363Z",
    "type": "completion"
   },
   {
    "code": "words=['hello', 'bye', 'world']\ntexts=['hello worldhello']\ntemp=[]\nfor i,word in enumerate(words):\n    temp = temp + [word in texts]\ntemp",
    "id": "55171158c4944cb48fb05059a79bcf29",
    "idx": 24,
    "time": "2020-11-17T06:03:57.609Z",
    "type": "execution"
   },
   {
    "id": "55171158c4944cb48fb05059a79bcf29",
    "time": "2020-11-17T06:03:57.684Z",
    "type": "completion"
   },
   {
    "code": "words=['hello', 'bye', 'world']\ntexts=['hello worldhello']\ntemp=[]\nfor i,word in enumerate(words):\n    temp = temp + [word in texts]\ntemp\n'world' in 'hello worldhello'",
    "id": "55171158c4944cb48fb05059a79bcf29",
    "idx": 24,
    "time": "2020-11-17T06:05:08.914Z",
    "type": "execution"
   },
   {
    "id": "55171158c4944cb48fb05059a79bcf29",
    "time": "2020-11-17T06:05:09.076Z",
    "type": "completion"
   },
   {
    "code": "words=['hello', 'bye', 'world']\ntexts=['hello worldhello']\ntemp=[]\nfor i,word in enumerate(words):\n    temp = temp + [word in texts]\ntemp\n",
    "id": "55171158c4944cb48fb05059a79bcf29",
    "idx": 24,
    "time": "2020-11-17T06:05:19.433Z",
    "type": "execution"
   },
   {
    "id": "55171158c4944cb48fb05059a79bcf29",
    "time": "2020-11-17T06:05:19.509Z",
    "type": "completion"
   },
   {
    "code": "words=['hello', 'bye', 'world']\ntexts=['hello worldhello']\ntemp=[]\nfor i,word in enumerate(words):\n    temp = temp + [word in texts]\ntemp\n",
    "id": "55171158c4944cb48fb05059a79bcf29",
    "idx": 24,
    "time": "2020-11-17T06:05:20.539Z",
    "type": "execution"
   },
   {
    "id": "55171158c4944cb48fb05059a79bcf29",
    "time": "2020-11-17T06:05:20.610Z",
    "type": "completion"
   },
   {
    "code": "words=['hello', 'bye', 'world']\ntexts=['hello worldhello']\ntemp=[]\nfor i,word in enumerate(words):\n    display(word)\n    temp = temp + [word in texts]\ntemp\n",
    "id": "55171158c4944cb48fb05059a79bcf29",
    "idx": 24,
    "time": "2020-11-17T06:05:35.354Z",
    "type": "execution"
   },
   {
    "id": "55171158c4944cb48fb05059a79bcf29",
    "time": "2020-11-17T06:05:35.428Z",
    "type": "completion"
   },
   {
    "code": "words=['hello', 'bye', 'world']\ntexts=['hello worldhello']\ntemp=[]\nfor i,word in enumerate(words):\n    display(word)\n    word in texts\ntemp\n",
    "id": "55171158c4944cb48fb05059a79bcf29",
    "idx": 24,
    "time": "2020-11-17T06:05:52.744Z",
    "type": "execution"
   },
   {
    "id": "55171158c4944cb48fb05059a79bcf29",
    "time": "2020-11-17T06:05:52.823Z",
    "type": "completion"
   },
   {
    "code": "words=['hello', 'bye', 'world']\ntexts=['hello worldhello']\ntemp=[]\nfor i,word in enumerate(words):\n    display(word)\n    word in texts\n\n",
    "id": "55171158c4944cb48fb05059a79bcf29",
    "idx": 24,
    "time": "2020-11-17T06:05:55.142Z",
    "type": "execution"
   },
   {
    "id": "55171158c4944cb48fb05059a79bcf29",
    "time": "2020-11-17T06:05:55.219Z",
    "type": "completion"
   },
   {
    "code": "words=['hello', 'bye', 'world']\ntexts=['hello worldhello']\ntemp=[]\nfor i,word in enumerate(words):\n    display(word)\n    display(word in texts)\n\n",
    "id": "55171158c4944cb48fb05059a79bcf29",
    "idx": 24,
    "time": "2020-11-17T06:06:03.489Z",
    "type": "execution"
   },
   {
    "id": "55171158c4944cb48fb05059a79bcf29",
    "time": "2020-11-17T06:06:03.566Z",
    "type": "completion"
   },
   {
    "code": "word",
    "id": "1013efe4a83d412c8db8dc20c28f960d",
    "idx": 25,
    "time": "2020-11-17T06:06:31.512Z",
    "type": "execution"
   },
   {
    "id": "1013efe4a83d412c8db8dc20c28f960d",
    "time": "2020-11-17T06:06:31.581Z",
    "type": "completion"
   },
   {
    "code": "word in texts",
    "id": "1013efe4a83d412c8db8dc20c28f960d",
    "idx": 25,
    "time": "2020-11-17T06:06:37.575Z",
    "type": "execution"
   },
   {
    "id": "1013efe4a83d412c8db8dc20c28f960d",
    "time": "2020-11-17T06:06:37.648Z",
    "type": "completion"
   },
   {
    "code": "word in 'hello worldhello'",
    "id": "1013efe4a83d412c8db8dc20c28f960d",
    "idx": 25,
    "time": "2020-11-17T06:06:43.530Z",
    "type": "execution"
   },
   {
    "id": "1013efe4a83d412c8db8dc20c28f960d",
    "time": "2020-11-17T06:06:43.618Z",
    "type": "completion"
   },
   {
    "code": "words=['hello', 'bye', 'world']\ntexts=['hello worldhello']\ntemp=[]\nfor j in texts:\n    for i,word in enumerate(words):\n        display(word)\n        display(word in texts[j])\n\n",
    "id": "55171158c4944cb48fb05059a79bcf29",
    "idx": 24,
    "time": "2020-11-17T06:07:32.000Z",
    "type": "execution"
   },
   {
    "id": "55171158c4944cb48fb05059a79bcf29",
    "time": "2020-11-17T06:07:32.125Z",
    "type": "completion"
   },
   {
    "code": "words=['hello', 'bye', 'world']\ntexts=['hello worldhello']\ntemp=[]\nfor j in texts:\n    for i,word in enumerate(words):\n        display(word)\n        display(word in j)\n\n",
    "id": "55171158c4944cb48fb05059a79bcf29",
    "idx": 24,
    "time": "2020-11-17T06:07:52.335Z",
    "type": "execution"
   },
   {
    "id": "55171158c4944cb48fb05059a79bcf29",
    "time": "2020-11-17T06:07:52.427Z",
    "type": "completion"
   },
   {
    "code": "words=['hello', 'bye', 'world']\ntexts=['hello worldhello']\ntemp=[]\nfor j in texts:\n    for i,word in enumerate(words):\n        display(word)\n        temp= 1 if word in j else 0\n\n",
    "id": "55171158c4944cb48fb05059a79bcf29",
    "idx": 24,
    "time": "2020-11-17T06:08:18.256Z",
    "type": "execution"
   },
   {
    "id": "55171158c4944cb48fb05059a79bcf29",
    "time": "2020-11-17T06:08:18.331Z",
    "type": "completion"
   },
   {
    "code": "words=['hello', 'bye', 'world']\ntexts=['hello worldhello']\ntemp=[]\nfor j in texts:\n    for i,word in enumerate(words):\n        temp += [1 if word in j else 0]\n\n",
    "id": "55171158c4944cb48fb05059a79bcf29",
    "idx": 24,
    "time": "2020-11-17T06:08:33.100Z",
    "type": "execution"
   },
   {
    "id": "55171158c4944cb48fb05059a79bcf29",
    "time": "2020-11-17T06:08:33.171Z",
    "type": "completion"
   },
   {
    "code": "words=['hello', 'bye', 'world']\ntexts=['hello worldhello']\ntemp=[]\nfor j in texts:\n    for i,word in enumerate(words):\n        temp += [1 if word in j else 0]\n\ntemp",
    "id": "55171158c4944cb48fb05059a79bcf29",
    "idx": 24,
    "time": "2020-11-17T06:08:36.278Z",
    "type": "execution"
   },
   {
    "id": "55171158c4944cb48fb05059a79bcf29",
    "time": "2020-11-17T06:08:36.352Z",
    "type": "completion"
   },
   {
    "code": "def words_in_texts(words, texts):\n    '''\n    Args:\n        words (list): words to find\n        texts (Series): strings to search in\n    \n    Returns:\n        NumPy array of 0s and 1s with shape (n, p) where n is the\n        number of texts and p is the number of words.\n    '''\n    for j,text in enumerate(texts):\n        temp=[]\n        for i,word in enumerate(words):\n            temp += [1 if word in text else 0]\n        indicator_array[j]=temp\n    return indicator_array",
    "id": "890f8da41b964d97ab82db3e138c6038",
    "idx": 26,
    "time": "2020-11-17T06:10:13.446Z",
    "type": "execution"
   },
   {
    "id": "890f8da41b964d97ab82db3e138c6038",
    "time": "2020-11-17T06:10:13.511Z",
    "type": "completion"
   },
   {
    "code": "def words_in_texts(words, texts):\n    '''\n    Args:\n        words (list): words to find\n        texts (Series): strings to search in\n    \n    Returns:\n        NumPy array of 0s and 1s with shape (n, p) where n is the\n        number of texts and p is the number of words.\n    '''\n    for j,text in enumerate(texts):\n        temp=[]\n        for i,word in enumerate(words):\n            temp += [1 if word in text else 0]\n        indicator_array[j]=temp\n    return indicator_array",
    "id": "890f8da41b964d97ab82db3e138c6038",
    "idx": 26,
    "time": "2020-11-17T06:10:14.628Z",
    "type": "execution"
   },
   {
    "id": "890f8da41b964d97ab82db3e138c6038",
    "time": "2020-11-17T06:10:14.694Z",
    "type": "completion"
   },
   {
    "code": "grader.check(\"q2\")",
    "id": "f890a3fdfb13492ca7a4d11a57f30eb7",
    "idx": 27,
    "time": "2020-11-17T06:10:15.001Z",
    "type": "execution"
   },
   {
    "id": "f890a3fdfb13492ca7a4d11a57f30eb7",
    "time": "2020-11-17T06:10:15.176Z",
    "type": "completion"
   },
   {
    "code": "words=['hello', 'bye', 'world']\ntexts=['hello worldhello']\nfor j,text in enumerate(texts):\n    temp=[]\n    for i,word in enumerate(words):\n        temp += [1 if word in text else 0]\n    indicator_array[j]=temp",
    "id": "55171158c4944cb48fb05059a79bcf29",
    "idx": 24,
    "time": "2020-11-17T06:10:47.133Z",
    "type": "execution"
   },
   {
    "id": "55171158c4944cb48fb05059a79bcf29",
    "time": "2020-11-17T06:10:47.218Z",
    "type": "completion"
   },
   {
    "code": "words=['hello', 'bye', 'world']\ntexts=['hello worldhello']\nfor text in enumerate(texts):\n    temp=[]\n    for i,word in enumerate(words):\n        temp += [1 if word in text else 0]\n    indicator_array+=temp",
    "id": "55171158c4944cb48fb05059a79bcf29",
    "idx": 24,
    "time": "2020-11-17T06:11:19.644Z",
    "type": "execution"
   },
   {
    "id": "55171158c4944cb48fb05059a79bcf29",
    "time": "2020-11-17T06:11:19.722Z",
    "type": "completion"
   },
   {
    "code": "words=['hello', 'bye', 'world']\ntexts=['hello worldhello']\nindicator_array=[]\nfor text in enumerate(texts):\n    temp=[]\n    for i,word in enumerate(words):\n        temp += [1 if word in text else 0]\n    indicator_array+=temp",
    "id": "55171158c4944cb48fb05059a79bcf29",
    "idx": 24,
    "time": "2020-11-17T06:11:25.961Z",
    "type": "execution"
   },
   {
    "id": "55171158c4944cb48fb05059a79bcf29",
    "time": "2020-11-17T06:11:26.031Z",
    "type": "completion"
   },
   {
    "code": "words=['hello', 'bye', 'world']\ntexts=['hello worldhello']\nindicator_array=[]\nfor text in enumerate(texts):\n    temp=[]\n    for i,word in enumerate(words):\n        temp += [1 if word in text else 0]\n    indicator_array+=temp\nindicator_array",
    "id": "55171158c4944cb48fb05059a79bcf29",
    "idx": 24,
    "time": "2020-11-17T06:11:31.960Z",
    "type": "execution"
   },
   {
    "id": "55171158c4944cb48fb05059a79bcf29",
    "time": "2020-11-17T06:11:32.033Z",
    "type": "completion"
   },
   {
    "code": "words=['hello', 'bye', 'world']\ntexts=['hello worldhello']\nindicator_array=[]\nfor text in enumerate(texts):\n    temp=[]\n    for i,word in enumerate(words):\n        temp += [1 if word in text else 0]\ntemp\n",
    "id": "55171158c4944cb48fb05059a79bcf29",
    "idx": 24,
    "time": "2020-11-17T06:12:06.172Z",
    "type": "execution"
   },
   {
    "id": "55171158c4944cb48fb05059a79bcf29",
    "time": "2020-11-17T06:12:06.247Z",
    "type": "completion"
   },
   {
    "code": "words=['hello', 'bye', 'world']\ntexts=['hello worldhello']\nindicator_array=[]\nfor text in texts:\n    temp=[]\n    for i,word in enumerate(words):\n        temp += [1 if word in text else 0]\ntemp\n",
    "id": "55171158c4944cb48fb05059a79bcf29",
    "idx": 24,
    "time": "2020-11-17T06:12:21.080Z",
    "type": "execution"
   },
   {
    "id": "55171158c4944cb48fb05059a79bcf29",
    "time": "2020-11-17T06:12:21.145Z",
    "type": "completion"
   },
   {
    "code": "words=['hello', 'bye', 'world']\ntexts=['hello worldhello']\nindicator_array=[]\nfor text in texts:\n    temp=[]\n    for i,word in enumerate(words):\n        temp += [1 if word in text else 0]\n    indicator_array+=temp\nindicator_array",
    "id": "55171158c4944cb48fb05059a79bcf29",
    "idx": 24,
    "time": "2020-11-17T06:12:30.655Z",
    "type": "execution"
   },
   {
    "id": "55171158c4944cb48fb05059a79bcf29",
    "time": "2020-11-17T06:12:30.799Z",
    "type": "completion"
   },
   {
    "code": "def words_in_texts(words, texts):\n    '''\n    Args:\n        words (list): words to find\n        texts (Series): strings to search in\n    \n    Returns:\n        NumPy array of 0s and 1s with shape (n, p) where n is the\n        number of texts and p is the number of words.\n    '''\n    indicator_array=[]\n    for j,text in texts:\n        temp=[]\n        for i,word in enumerate(words):\n            temp += [1 if word in text else 0]\n        indicator_array+=temp\n    return indicator_array",
    "id": "890f8da41b964d97ab82db3e138c6038",
    "idx": 26,
    "time": "2020-11-17T06:12:49.014Z",
    "type": "execution"
   },
   {
    "id": "890f8da41b964d97ab82db3e138c6038",
    "time": "2020-11-17T06:12:49.088Z",
    "type": "completion"
   },
   {
    "code": "def words_in_texts(words, texts):\n    '''\n    Args:\n        words (list): words to find\n        texts (Series): strings to search in\n    \n    Returns:\n        NumPy array of 0s and 1s with shape (n, p) where n is the\n        number of texts and p is the number of words.\n    '''\n    indicator_array=[]\n    for j,text in texts:\n        temp=[]\n        for i,word in enumerate(words):\n            temp += [1 if word in text else 0]\n        indicator_array+=temp\n    return indicator_array",
    "id": "890f8da41b964d97ab82db3e138c6038",
    "idx": 26,
    "time": "2020-11-17T06:12:50.250Z",
    "type": "execution"
   },
   {
    "id": "890f8da41b964d97ab82db3e138c6038",
    "time": "2020-11-17T06:12:50.343Z",
    "type": "completion"
   },
   {
    "code": "grader.check(\"q2\")",
    "id": "f890a3fdfb13492ca7a4d11a57f30eb7",
    "idx": 27,
    "time": "2020-11-17T06:12:50.657Z",
    "type": "execution"
   },
   {
    "id": "f890a3fdfb13492ca7a4d11a57f30eb7",
    "time": "2020-11-17T06:12:50.755Z",
    "type": "completion"
   },
   {
    "code": "words=['hello', 'bye', 'world']\ntexts=['hello worldhello']\nindicator_array=[]\nfor text in texts:\n    temp=[]\n    for i,word in enumerate(words):\n        temp += [1 if word in text else 0]\n    indicator_array+=temp\nindicator_array",
    "id": "55171158c4944cb48fb05059a79bcf29",
    "idx": 24,
    "time": "2020-11-17T06:12:59.068Z",
    "type": "execution"
   },
   {
    "id": "55171158c4944cb48fb05059a79bcf29",
    "time": "2020-11-17T06:12:59.145Z",
    "type": "completion"
   },
   {
    "code": "words=['hello', 'bye', 'world']\ntexts=['hello','hello worldhello']\nindicator_array=[]\nfor text in texts:\n    temp=[]\n    for i,word in enumerate(words):\n        temp += [1 if word in text else 0]\n    indicator_array+=temp\nindicator_array",
    "id": "55171158c4944cb48fb05059a79bcf29",
    "idx": 24,
    "time": "2020-11-17T06:13:06.140Z",
    "type": "execution"
   },
   {
    "id": "55171158c4944cb48fb05059a79bcf29",
    "time": "2020-11-17T06:13:06.213Z",
    "type": "completion"
   },
   {
    "code": "len(texts)",
    "id": "0e3f6c61680648af89863f68458fcc6c",
    "idx": 25,
    "time": "2020-11-17T06:13:33.561Z",
    "type": "execution"
   },
   {
    "id": "0e3f6c61680648af89863f68458fcc6c",
    "time": "2020-11-17T06:13:33.627Z",
    "type": "completion"
   },
   {
    "code": "words=['hello', 'bye', 'world']\ntexts=['hello','hello worldhello']\nindicator_array=[]*len(texts)\nfor j,text in enumerate(texts):\n    temp=[]\n    for i,word in enumerate(words):\n        temp += [1 if word in text else 0]\n    indicator_array[j]=temp\nindicator_array",
    "id": "55171158c4944cb48fb05059a79bcf29",
    "idx": 24,
    "time": "2020-11-17T06:14:09.276Z",
    "type": "execution"
   },
   {
    "id": "55171158c4944cb48fb05059a79bcf29",
    "time": "2020-11-17T06:14:09.366Z",
    "type": "completion"
   },
   {
    "code": "words=['hello', 'bye', 'world']\ntexts=['hello','hello worldhello']\nindicator_array=[0]*len(texts)\nfor j,text in enumerate(texts):\n    temp=[]\n    for i,word in enumerate(words):\n        temp += [1 if word in text else 0]\n    indicator_array[j]=temp\nindicator_array",
    "id": "55171158c4944cb48fb05059a79bcf29",
    "idx": 24,
    "time": "2020-11-17T06:14:20.245Z",
    "type": "execution"
   },
   {
    "id": "55171158c4944cb48fb05059a79bcf29",
    "time": "2020-11-17T06:14:20.323Z",
    "type": "completion"
   },
   {
    "code": "def words_in_texts(words, texts):\n    '''\n    Args:\n        words (list): words to find\n        texts (Series): strings to search in\n    \n    Returns:\n        NumPy array of 0s and 1s with shape (n, p) where n is the\n        number of texts and p is the number of words.\n    '''\n    indicator_array=[0]*len(texts)\n    for j,text in texts:\n        temp=[]\n        for i,word in enumerate(words):\n            temp += [1 if word in text else 0]\n        indicator_array[j]=temp\n    return indicator_array",
    "id": "890f8da41b964d97ab82db3e138c6038",
    "idx": 27,
    "time": "2020-11-17T06:14:34.135Z",
    "type": "execution"
   },
   {
    "id": "890f8da41b964d97ab82db3e138c6038",
    "time": "2020-11-17T06:14:34.201Z",
    "type": "completion"
   },
   {
    "code": "def words_in_texts(words, texts):\n    '''\n    Args:\n        words (list): words to find\n        texts (Series): strings to search in\n    \n    Returns:\n        NumPy array of 0s and 1s with shape (n, p) where n is the\n        number of texts and p is the number of words.\n    '''\n    indicator_array=[0]*len(texts)\n    for j,text in texts:\n        temp=[]\n        for i,word in enumerate(words):\n            temp += [1 if word in text else 0]\n        indicator_array[j]=temp\n    return indicator_array",
    "id": "890f8da41b964d97ab82db3e138c6038",
    "idx": 27,
    "time": "2020-11-17T06:14:34.637Z",
    "type": "execution"
   },
   {
    "id": "890f8da41b964d97ab82db3e138c6038",
    "time": "2020-11-17T06:14:34.707Z",
    "type": "completion"
   },
   {
    "code": "grader.check(\"q2\")",
    "id": "f890a3fdfb13492ca7a4d11a57f30eb7",
    "idx": 28,
    "time": "2020-11-17T06:14:34.946Z",
    "type": "execution"
   },
   {
    "id": "f890a3fdfb13492ca7a4d11a57f30eb7",
    "time": "2020-11-17T06:14:35.038Z",
    "type": "completion"
   },
   {
    "code": "def words_in_texts(words, texts):\n    '''\n    Args:\n        words (list): words to find\n        texts (Series): strings to search in\n    \n    Returns:\n        NumPy array of 0s and 1s with shape (n, p) where n is the\n        number of texts and p is the number of words.\n    '''\n    indicator_array=[0]*len(texts)\n    for j,text in enumerate(texts):\n        temp=[]\n        for i,word in enumerate(words):\n            temp += [1 if word in text else 0]\n        indicator_array[j]=temp\n    return indicator_array",
    "id": "890f8da41b964d97ab82db3e138c6038",
    "idx": 27,
    "time": "2020-11-17T06:14:52.064Z",
    "type": "execution"
   },
   {
    "id": "890f8da41b964d97ab82db3e138c6038",
    "time": "2020-11-17T06:14:52.135Z",
    "type": "completion"
   },
   {
    "code": "def words_in_texts(words, texts):\n    '''\n    Args:\n        words (list): words to find\n        texts (Series): strings to search in\n    \n    Returns:\n        NumPy array of 0s and 1s with shape (n, p) where n is the\n        number of texts and p is the number of words.\n    '''\n    indicator_array=[0]*len(texts)\n    for j,text in enumerate(texts):\n        temp=[]\n        for i,word in enumerate(words):\n            temp += [1 if word in text else 0]\n        indicator_array[j]=temp\n    return indicator_array",
    "id": "890f8da41b964d97ab82db3e138c6038",
    "idx": 27,
    "time": "2020-11-17T06:14:52.764Z",
    "type": "execution"
   },
   {
    "id": "890f8da41b964d97ab82db3e138c6038",
    "time": "2020-11-17T06:14:52.828Z",
    "type": "completion"
   },
   {
    "code": "def words_in_texts(words, texts):\n    '''\n    Args:\n        words (list): words to find\n        texts (Series): strings to search in\n    \n    Returns:\n        NumPy array of 0s and 1s with shape (n, p) where n is the\n        number of texts and p is the number of words.\n    '''\n    indicator_array=[0]*len(texts)\n    for j,text in enumerate(texts):\n        temp=[]\n        for i,word in enumerate(words):\n            temp += [1 if word in text else 0]\n        indicator_array[j]=temp\n    return indicator_array",
    "id": "890f8da41b964d97ab82db3e138c6038",
    "idx": 27,
    "time": "2020-11-17T06:14:53.390Z",
    "type": "execution"
   },
   {
    "id": "890f8da41b964d97ab82db3e138c6038",
    "time": "2020-11-17T06:14:53.460Z",
    "type": "completion"
   },
   {
    "code": "grader.check(\"q2\")",
    "id": "f890a3fdfb13492ca7a4d11a57f30eb7",
    "idx": 28,
    "time": "2020-11-17T06:14:54.036Z",
    "type": "execution"
   },
   {
    "id": "f890a3fdfb13492ca7a4d11a57f30eb7",
    "time": "2020-11-17T06:14:54.134Z",
    "type": "completion"
   },
   {
    "code": "from IPython.display import display, Markdown\ndf = pd.DataFrame({\n    'word_1': [1, 0, 1, 0],\n    'word_2': [0, 1, 0, 1],\n    'type': ['spam', 'ham', 'ham', 'ham']\n})\ndisplay(Markdown(\"> Our Original DataFrame has a `type` column and some columns corresponding to words. You can think of each row as a sentence, and the value of 1 or 0 indicates the number of occurences of the word in this sentence.\"))\ndisplay(df);\ndisplay(Markdown(\"> `melt` will turn columns into entries in a variable column. Notice how `word_1` and `word_2` become entries in `variable`; their values are stored in the value column.\"))\ndisplay(df.melt(\"type\"))",
    "id": "e1b294ec96dd4dda8a993e92d8218e97",
    "idx": 31,
    "time": "2020-11-17T06:15:21.001Z",
    "type": "execution"
   },
   {
    "id": "e1b294ec96dd4dda8a993e92d8218e97",
    "time": "2020-11-17T06:15:21.093Z",
    "type": "completion"
   },
   {
    "code": "train=train.reset_index(drop=True) # We must do this in order to preserve the ordering of emails to labels for words_in_texts\n\ntrain",
    "id": "10f92bbacd304ab3909fc4cb298463cb",
    "idx": 33,
    "time": "2020-11-17T06:20:36.995Z",
    "type": "execution"
   },
   {
    "id": "10f92bbacd304ab3909fc4cb298463cb",
    "time": "2020-11-17T06:20:37.141Z",
    "type": "completion"
   },
   {
    "code": "train=train.reset_index(drop=True) # We must do this in order to preserve the ordering of emails to labels for words_in_texts\n\ntrain['email']",
    "id": "10f92bbacd304ab3909fc4cb298463cb",
    "idx": 33,
    "time": "2020-11-17T06:20:50.807Z",
    "type": "execution"
   },
   {
    "id": "10f92bbacd304ab3909fc4cb298463cb",
    "time": "2020-11-17T06:20:50.883Z",
    "type": "completion"
   },
   {
    "code": "train=train.reset_index(drop=True) # We must do this in order to preserve the ordering of emails to labels for words_in_texts\n\ntrain['email',spam]",
    "id": "10f92bbacd304ab3909fc4cb298463cb",
    "idx": 33,
    "time": "2020-11-17T06:20:57.859Z",
    "type": "execution"
   },
   {
    "id": "10f92bbacd304ab3909fc4cb298463cb",
    "time": "2020-11-17T06:20:57.958Z",
    "type": "completion"
   },
   {
    "code": "train=train.reset_index(drop=True) # We must do this in order to preserve the ordering of emails to labels for words_in_texts\n\ntrain['email','spam']",
    "id": "10f92bbacd304ab3909fc4cb298463cb",
    "idx": 33,
    "time": "2020-11-17T06:21:02.961Z",
    "type": "execution"
   },
   {
    "id": "10f92bbacd304ab3909fc4cb298463cb",
    "time": "2020-11-17T06:21:03.084Z",
    "type": "completion"
   },
   {
    "code": "train=train.reset_index(drop=True) # We must do this in order to preserve the ordering of emails to labels for words_in_texts\n\ntrain[['email','spam']]",
    "id": "10f92bbacd304ab3909fc4cb298463cb",
    "idx": 33,
    "time": "2020-11-17T06:21:17.498Z",
    "type": "execution"
   },
   {
    "id": "10f92bbacd304ab3909fc4cb298463cb",
    "time": "2020-11-17T06:21:17.579Z",
    "type": "completion"
   },
   {
    "code": "# Initialize Otter\nimport otter\ngrader = otter.Notebook()",
    "id": "2c02ba58b3a54c9598db54da80e55a87",
    "idx": 0,
    "time": "2020-11-17T07:25:34.935Z",
    "type": "execution"
   },
   {
    "code": "# Run this cell to suppress all FutureWarnings\nimport warnings\nwarnings.filterwarnings(\"ignore\", category=FutureWarning)",
    "id": "cbc98b4391e740ea8ff0825920c9d896",
    "idx": 5,
    "time": "2020-11-17T07:25:35.683Z",
    "type": "execution"
   },
   {
    "id": "2c02ba58b3a54c9598db54da80e55a87",
    "time": "2020-11-17T07:25:35.707Z",
    "type": "completion"
   },
   {
    "id": "cbc98b4391e740ea8ff0825920c9d896",
    "time": "2020-11-17T07:25:35.749Z",
    "type": "completion"
   },
   {
    "code": "import numpy as np\nimport pandas as pd\n\nimport matplotlib.pyplot as plt\n%matplotlib inline\n\nimport seaborn as sns\nsns.set(style = \"whitegrid\", \n        color_codes = True,\n        font_scale = 1.5)",
    "id": "0553071a70dd4ac58854cfdde0b6a42c",
    "idx": 8,
    "time": "2020-11-17T07:25:36.177Z",
    "type": "execution"
   },
   {
    "code": "from utils import fetch_and_cache_gdrive\nfetch_and_cache_gdrive('1SCASpLZFKCp2zek-toR3xeKX3DZnBSyp', 'train.csv')\nfetch_and_cache_gdrive('1ZDFo9OTF96B5GP2Nzn8P8-AL7CTQXmC0', 'test.csv')\n\noriginal_training_data = pd.read_csv('data/train.csv')\ntest = pd.read_csv('data/test.csv')\n\n# Convert the emails to lower case as a first step to processing the text\noriginal_training_data['email'] = original_training_data['email'].str.lower()\ntest['email'] = test['email'].str.lower()\n\noriginal_training_data.head()",
    "id": "b6c45ced61884965884e4c8a977400ea",
    "idx": 10,
    "time": "2020-11-17T07:25:36.551Z",
    "type": "execution"
   },
   {
    "code": "original_training_data['subject'][original_training_data['subject'].isna()]\noriginal_training_data.fillna('',inplace=True)",
    "id": "f1ac829dd8f3492098ddb3f2a836585f",
    "idx": 12,
    "time": "2020-11-17T07:25:36.899Z",
    "type": "execution"
   },
   {
    "code": "grader.check(\"q1a\")",
    "id": "360dff5b48014daa81d140dac1d848c8",
    "idx": 13,
    "time": "2020-11-17T07:25:37.105Z",
    "type": "execution"
   },
   {
    "id": "0553071a70dd4ac58854cfdde0b6a42c",
    "time": "2020-11-17T07:25:37.269Z",
    "type": "completion"
   },
   {
    "id": "b6c45ced61884965884e4c8a977400ea",
    "time": "2020-11-17T07:25:38.050Z",
    "type": "completion"
   },
   {
    "id": "f1ac829dd8f3492098ddb3f2a836585f",
    "time": "2020-11-17T07:25:38.052Z",
    "type": "completion"
   },
   {
    "id": "360dff5b48014daa81d140dac1d848c8",
    "time": "2020-11-17T07:25:38.106Z",
    "type": "completion"
   },
   {
    "code": "original_training_data[original_training_data['spam']==1].iloc[0,2]",
    "id": "50601e8eee39423d90af9fe89d22741b",
    "idx": 15,
    "time": "2020-11-17T07:25:40.277Z",
    "type": "execution"
   },
   {
    "id": "50601e8eee39423d90af9fe89d22741b",
    "time": "2020-11-17T07:25:40.354Z",
    "type": "completion"
   },
   {
    "code": "first_ham = original_training_data[original_training_data['spam']==0].iloc[0,2]\nfirst_spam = original_training_data[original_training_data['spam']==1].iloc[0,2]\nprint(first_ham)\nprint(first_spam)",
    "id": "10390a75d5214fd98e6839222c05dd00",
    "idx": 16,
    "time": "2020-11-17T07:25:40.736Z",
    "type": "execution"
   },
   {
    "id": "10390a75d5214fd98e6839222c05dd00",
    "time": "2020-11-17T07:25:40.827Z",
    "type": "completion"
   },
   {
    "code": "grader.check(\"q1b\")",
    "id": "5a95731be94245a1a73ad58eea65f1fd",
    "idx": 17,
    "time": "2020-11-17T07:25:41.136Z",
    "type": "execution"
   },
   {
    "id": "5a95731be94245a1a73ad58eea65f1fd",
    "time": "2020-11-17T07:25:41.214Z",
    "type": "completion"
   },
   {
    "code": "# This creates a 90/10 train-validation split on our labeled data\n\nfrom sklearn.model_selection import train_test_split\n\ntrain, val = train_test_split(original_training_data, test_size=0.1, random_state=42)",
    "id": "6776cd4ed0194bf1b8aeb8d8199ae94a",
    "idx": 21,
    "time": "2020-11-17T07:25:42.101Z",
    "type": "execution"
   },
   {
    "id": "6776cd4ed0194bf1b8aeb8d8199ae94a",
    "time": "2020-11-17T07:25:42.235Z",
    "type": "completion"
   },
   {
    "code": "words=['hello', 'bye', 'world']\ntexts=['hello','hello worldhello']\nindicator_array=[0]*len(texts)\nfor j,text in enumerate(texts):\n    temp=[]\n    for i,word in enumerate(words):\n        temp += [1 if word in text else 0]\n    indicator_array[j]=temp\nindicator_array",
    "id": "588712d15dd4437e98fb19ff6e11d7d7",
    "idx": 24,
    "time": "2020-11-17T07:25:43.089Z",
    "type": "execution"
   },
   {
    "id": "588712d15dd4437e98fb19ff6e11d7d7",
    "time": "2020-11-17T07:25:43.159Z",
    "type": "completion"
   },
   {
    "code": "len(texts)",
    "id": "45250e226e734fdfa6a120e397904c6f",
    "idx": 25,
    "time": "2020-11-17T07:25:43.809Z",
    "type": "execution"
   },
   {
    "id": "45250e226e734fdfa6a120e397904c6f",
    "time": "2020-11-17T07:25:43.883Z",
    "type": "completion"
   },
   {
    "code": "word in 'hello worldhello'",
    "id": "ef12b890970b4e8e8e591675f0fbfae5",
    "idx": 26,
    "time": "2020-11-17T07:25:44.350Z",
    "type": "execution"
   },
   {
    "id": "ef12b890970b4e8e8e591675f0fbfae5",
    "time": "2020-11-17T07:25:44.416Z",
    "type": "completion"
   },
   {
    "code": "def words_in_texts(words, texts):\n    '''\n    Args:\n        words (list): words to find\n        texts (Series): strings to search in\n    \n    Returns:\n        NumPy array of 0s and 1s with shape (n, p) where n is the\n        number of texts and p is the number of words.\n    '''\n    indicator_array=[0]*len(texts)\n    for j,text in enumerate(texts):\n        temp=[]\n        for i,word in enumerate(words):\n            temp += [1 if word in text else 0]\n        indicator_array[j]=temp\n    return indicator_array",
    "id": "3fbab79d2ee047d1915a9ecbd2277668",
    "idx": 27,
    "time": "2020-11-17T07:25:46.117Z",
    "type": "execution"
   },
   {
    "id": "3fbab79d2ee047d1915a9ecbd2277668",
    "time": "2020-11-17T07:25:46.183Z",
    "type": "completion"
   },
   {
    "code": "grader.check(\"q2\")",
    "id": "0edf1eefe939477f912b8008bc618fa0",
    "idx": 28,
    "time": "2020-11-17T07:25:46.597Z",
    "type": "execution"
   },
   {
    "id": "0edf1eefe939477f912b8008bc618fa0",
    "time": "2020-11-17T07:25:46.673Z",
    "type": "completion"
   },
   {
    "code": "train=train.reset_index(drop=True) # We must do this in order to preserve the ordering of emails to labels for words_in_texts\n\ntrain",
    "id": "2f976714a10e42dcbc5752b358f49c06",
    "idx": 33,
    "time": "2020-11-17T07:28:13.173Z",
    "type": "execution"
   },
   {
    "id": "2f976714a10e42dcbc5752b358f49c06",
    "time": "2020-11-17T07:28:13.263Z",
    "type": "completion"
   },
   {
    "code": "train=train.reset_index(drop=True) # We must do this in order to preserve the ordering of emails to labels for words_in_texts\n\ntrain['dear']=train['email'].str.count('dear')",
    "id": "2f976714a10e42dcbc5752b358f49c06",
    "idx": 33,
    "time": "2020-11-17T07:28:53.411Z",
    "type": "execution"
   },
   {
    "id": "2f976714a10e42dcbc5752b358f49c06",
    "time": "2020-11-17T07:28:53.520Z",
    "type": "completion"
   },
   {
    "code": "train=train.reset_index(drop=True) # We must do this in order to preserve the ordering of emails to labels for words_in_texts\n\ntrain['dear']=train['email'].str.count('dear')\ntrain",
    "id": "2f976714a10e42dcbc5752b358f49c06",
    "idx": 33,
    "time": "2020-11-17T07:28:58.708Z",
    "type": "execution"
   },
   {
    "id": "2f976714a10e42dcbc5752b358f49c06",
    "time": "2020-11-17T07:28:58.839Z",
    "type": "completion"
   },
   {
    "code": "train=train.reset_index(drop=True) # We must do this in order to preserve the ordering of emails to labels for words_in_texts\n\ntrain['dear']=train['email'].str.count('consumers')\ntrain",
    "id": "2f976714a10e42dcbc5752b358f49c06",
    "idx": 33,
    "time": "2020-11-17T07:29:16.040Z",
    "type": "execution"
   },
   {
    "id": "2f976714a10e42dcbc5752b358f49c06",
    "time": "2020-11-17T07:29:16.161Z",
    "type": "completion"
   },
   {
    "code": "train=train.reset_index(drop=True) # We must do this in order to preserve the ordering of emails to labels for words_in_texts\n\nword_stat['dear']=train['email'].str.count('consumers')\nword_stat",
    "id": "2f976714a10e42dcbc5752b358f49c06",
    "idx": 33,
    "time": "2020-11-17T07:29:48.227Z",
    "type": "execution"
   },
   {
    "id": "2f976714a10e42dcbc5752b358f49c06",
    "time": "2020-11-17T07:29:48.483Z",
    "type": "completion"
   },
   {
    "code": "train=train.reset_index(drop=True) # We must do this in order to preserve the ordering of emails to labels for words_in_texts\n\ntrain['dear']=train['email'].str.count('consumers')\ntrain",
    "id": "2f976714a10e42dcbc5752b358f49c06",
    "idx": 33,
    "time": "2020-11-17T07:30:00.903Z",
    "type": "execution"
   },
   {
    "id": "2f976714a10e42dcbc5752b358f49c06",
    "time": "2020-11-17T07:30:01.055Z",
    "type": "completion"
   },
   {
    "code": "train[train['spam'==1]]['email']",
    "id": "35e88264484f459b90baecfebd08d7ec",
    "idx": 33,
    "time": "2020-11-17T07:33:09.529Z",
    "type": "execution"
   },
   {
    "id": "35e88264484f459b90baecfebd08d7ec",
    "time": "2020-11-17T07:33:09.665Z",
    "type": "completion"
   },
   {
    "code": "train[train['spam']==1]['email']",
    "id": "35e88264484f459b90baecfebd08d7ec",
    "idx": 33,
    "time": "2020-11-17T07:33:27.568Z",
    "type": "execution"
   },
   {
    "id": "35e88264484f459b90baecfebd08d7ec",
    "time": "2020-11-17T07:33:27.647Z",
    "type": "completion"
   },
   {
    "code": "train[train['spam']==1]['email'].head(10)",
    "id": "35e88264484f459b90baecfebd08d7ec",
    "idx": 33,
    "time": "2020-11-17T07:34:20.054Z",
    "type": "execution"
   },
   {
    "id": "35e88264484f459b90baecfebd08d7ec",
    "time": "2020-11-17T07:34:20.128Z",
    "type": "completion"
   },
   {
    "code": "first_ham = original_training_data[original_training_data['spam']==0].iloc[0,2]\nfirst_spam = original_training_data[original_training_data['spam']==1].iloc[5,2]\nprint(first_ham)\nprint(first_spam)",
    "id": "10390a75d5214fd98e6839222c05dd00",
    "idx": 16,
    "time": "2020-11-17T07:34:59.547Z",
    "type": "execution"
   },
   {
    "id": "10390a75d5214fd98e6839222c05dd00",
    "time": "2020-11-17T07:34:59.624Z",
    "type": "completion"
   },
   {
    "code": "first_ham = original_training_data[original_training_data['spam']==0].iloc[0,2]\nfirst_spam = original_training_data[original_training_data['spam']==1].iloc[9,2]\nprint(first_ham)\nprint(first_spam)",
    "id": "10390a75d5214fd98e6839222c05dd00",
    "idx": 16,
    "time": "2020-11-17T07:35:09.648Z",
    "type": "execution"
   },
   {
    "id": "10390a75d5214fd98e6839222c05dd00",
    "time": "2020-11-17T07:35:09.741Z",
    "type": "completion"
   },
   {
    "code": "first_ham = original_training_data[original_training_data['spam']==0].iloc[0,2]\nfirst_spam = original_training_data[original_training_data['spam']==1].iloc[12,2]\nprint(first_ham)\nprint(first_spam)",
    "id": "10390a75d5214fd98e6839222c05dd00",
    "idx": 16,
    "time": "2020-11-17T07:35:39.743Z",
    "type": "execution"
   },
   {
    "id": "10390a75d5214fd98e6839222c05dd00",
    "time": "2020-11-17T07:35:39.906Z",
    "type": "completion"
   },
   {
    "code": "train=train.reset_index(drop=True) # We must do this in order to preserve the ordering of emails to labels for words_in_texts\n\ntrain['consumers']=train['email'].str.count('consumers')\ntrain['rich']=train['email'].str.count('rich')\ntrain['sale']=train['email'].str.count('sale')\ntrain['membership']=train['email'].str.count('membership')\ntrain['big']=train['email'].str.count('big')\ntrain['millionaire']=train['email'].str.count('millionaire')",
    "id": "2f976714a10e42dcbc5752b358f49c06",
    "idx": 34,
    "time": "2020-11-17T07:37:27.517Z",
    "type": "execution"
   },
   {
    "id": "2f976714a10e42dcbc5752b358f49c06",
    "time": "2020-11-17T07:37:27.830Z",
    "type": "completion"
   },
   {
    "code": "train=train.reset_index(drop=True) # We must do this in order to preserve the ordering of emails to labels for words_in_texts\n\ntrain['consumers']=train['email'].str.count('consumers')\ntrain['rich']=train['email'].str.count('rich')\ntrain['sale']=train['email'].str.count('sale')\ntrain['membership']=train['email'].str.count('membership')\ntrain['big']=train['email'].str.count('big')\ntrain['millionaire']=train['email'].str.count('millionaire')\ntrain.melt('spam')",
    "id": "2f976714a10e42dcbc5752b358f49c06",
    "idx": 34,
    "time": "2020-11-17T07:37:51.935Z",
    "type": "execution"
   },
   {
    "id": "2f976714a10e42dcbc5752b358f49c06",
    "time": "2020-11-17T07:37:52.314Z",
    "type": "completion"
   },
   {
    "code": "train=train.reset_index(drop=True) # We must do this in order to preserve the ordering of emails to labels for words_in_texts\n\ntrain['consumers']=train['email'].str.count('consumers')\ntrain['rich']=train['email'].str.count('rich')\ntrain['sale']=train['email'].str.count('sale')\ntrain['membership']=train['email'].str.count('membership')\ntrain['big']=train['email'].str.count('big')\ntrain['millionaire']=train['email'].str.count('millionaire')\ntrain[['consumers','rich','sale','membership','big','millionaire','spam']].melt('spam')",
    "id": "2f976714a10e42dcbc5752b358f49c06",
    "idx": 34,
    "time": "2020-11-17T07:39:36.444Z",
    "type": "execution"
   },
   {
    "id": "2f976714a10e42dcbc5752b358f49c06",
    "time": "2020-11-17T07:39:36.762Z",
    "type": "completion"
   },
   {
    "code": "train=train.reset_index(drop=True) # We must do this in order to preserve the ordering of emails to labels for words_in_texts\n\ntrain['consumers']=train['email'].str.count('consumers')\ntrain['rich']=train['email'].str.count('rich')\ntrain['sale']=train['email'].str.count('sale')\ntrain['membership']=train['email'].str.count('membership')\ntrain['big']=train['email'].str.count('big')\ntrain['millionaire']=train['email'].str.count('millionaire')\ntrain[['consumers','rich','sale','membership','big','millionaire','spam']].melt('spam').head(120)",
    "id": "2f976714a10e42dcbc5752b358f49c06",
    "idx": 34,
    "time": "2020-11-17T07:39:51.708Z",
    "type": "execution"
   },
   {
    "id": "2f976714a10e42dcbc5752b358f49c06",
    "time": "2020-11-17T07:39:52.040Z",
    "type": "completion"
   },
   {
    "code": "train=train.reset_index(drop=True) # We must do this in order to preserve the ordering of emails to labels for words_in_texts\n\ntrain['consumers']=train['email'].str.count('consumers')\ntrain['rich']=train['email'].str.count('rich')\ntrain['sale']=train['email'].str.count('sale')\ntrain['membership']=train['email'].str.count('membership')\ntrain['big']=train['email'].str.count('big')\ntrain['millionaire']=train['email'].str.count('millionaire')\ntrain[['consumers','rich','sale','membership','big','millionaire','spam']].melt('spam')",
    "id": "2f976714a10e42dcbc5752b358f49c06",
    "idx": 34,
    "time": "2020-11-17T07:39:58.677Z",
    "type": "execution"
   },
   {
    "id": "2f976714a10e42dcbc5752b358f49c06",
    "time": "2020-11-17T07:39:59.040Z",
    "type": "completion"
   },
   {
    "code": "train=train.reset_index(drop=True) # We must do this in order to preserve the ordering of emails to labels for words_in_texts\n\ntrain['consumers']=train['email'].str.count('consumers')\ntrain['rich']=train['email'].str.count('rich')\ntrain['sale']=train['email'].str.count('sale')\ntrain['membership']=train['email'].str.count('membership')\ntrain['big']=train['email'].str.count('big')\ntrain['millionaire']=train['email'].str.count('millionaire')\ngraph=train[['consumers','rich','sale','membership','big','millionaire','spam']].melt('spam')",
    "id": "2f976714a10e42dcbc5752b358f49c06",
    "idx": 34,
    "time": "2020-11-17T07:40:06.784Z",
    "type": "execution"
   },
   {
    "id": "2f976714a10e42dcbc5752b358f49c06",
    "time": "2020-11-17T07:40:07.100Z",
    "type": "completion"
   },
   {
    "code": "train=train.reset_index(drop=True) # We must do this in order to preserve the ordering of emails to labels for words_in_texts\n\ntrain['consumers']=train['email'].str.count('consumers')\ntrain['rich']=train['email'].str.count('rich')\ntrain['sale']=train['email'].str.count('sale')\ntrain['membership']=train['email'].str.count('membership')\ntrain['big']=train['email'].str.count('big')\ntrain['millionaire']=train['email'].str.count('millionaire')\ngraph=train[['consumers','rich','sale','membership','big','millionaire','spam']].melt('spam')",
    "id": "2f976714a10e42dcbc5752b358f49c06",
    "idx": 34,
    "time": "2020-11-17T07:40:18.769Z",
    "type": "execution"
   },
   {
    "id": "2f976714a10e42dcbc5752b358f49c06",
    "time": "2020-11-17T07:40:19.073Z",
    "type": "completion"
   },
   {
    "code": "train=train.reset_index(drop=True) # We must do this in order to preserve the ordering of emails to labels for words_in_texts\n\ntrain['consumers']=train['email'].str.count('consumers')\ntrain['rich']=train['email'].str.count('rich')\ntrain['sale']=train['email'].str.count('sale')\ntrain['membership']=train['email'].str.count('membership')\ntrain['big']=train['email'].str.count('big')\ntrain['millionaire']=train['email'].str.count('millionaire')\ngraph=train[['consumers','rich','sale','membership','big','millionaire','spam']].melt('spam')\n# sns.barplot(x=)",
    "id": "2f976714a10e42dcbc5752b358f49c06",
    "idx": 34,
    "time": "2020-11-17T07:41:12.357Z",
    "type": "execution"
   },
   {
    "id": "2f976714a10e42dcbc5752b358f49c06",
    "time": "2020-11-17T07:41:12.655Z",
    "type": "completion"
   },
   {
    "code": "train=train.reset_index(drop=True) # We must do this in order to preserve the ordering of emails to labels for words_in_texts\n\ntrain['consumers']=train['email'].str.count('consumers')\ntrain['rich']=train['email'].str.count('rich')\ntrain['sale']=train['email'].str.count('sale')\ntrain['membership']=train['email'].str.count('membership')\ntrain['big']=train['email'].str.count('big')\ntrain['millionaire']=train['email'].str.count('millionaire')\ngraph=train[['consumers','rich','sale','membership','big','millionaire','spam']].melt('spam')\ngraph\n# sns.barplot(x=)",
    "id": "2f976714a10e42dcbc5752b358f49c06",
    "idx": 34,
    "time": "2020-11-17T07:41:15.566Z",
    "type": "execution"
   },
   {
    "id": "2f976714a10e42dcbc5752b358f49c06",
    "time": "2020-11-17T07:41:15.905Z",
    "type": "completion"
   },
   {
    "code": "train=train.reset_index(drop=True) # We must do this in order to preserve the ordering of emails to labels for words_in_texts\n\ntrain['consumers']=train['email'].str.count('consumers')\ntrain['rich']=train['email'].str.count('rich')\ntrain['sale']=train['email'].str.count('sale')\ntrain['membership']=train['email'].str.count('membership')\ntrain['big']=train['email'].str.count('big')\ntrain['millionaire']=train['email'].str.count('millionaire')\ngraph=train[['consumers','rich','sale','membership','big','millionaire','spam']].melt('spam')\ngraph\nsns.barplot(x='variable',y='value',hue='spam',data=graph)",
    "id": "2f976714a10e42dcbc5752b358f49c06",
    "idx": 34,
    "time": "2020-11-17T07:41:43.634Z",
    "type": "execution"
   },
   {
    "id": "2f976714a10e42dcbc5752b358f49c06",
    "time": "2020-11-17T07:41:45.164Z",
    "type": "completion"
   },
   {
    "code": "train=train.reset_index(drop=True) # We must do this in order to preserve the ordering of emails to labels for words_in_texts\n\ntrain['consumers']=train['email'].str.count('consumers')\ntrain['rich']=train['email'].str.count('rich')\ntrain['sale']=train['email'].str.count('sale')\ntrain['membership']=train['email'].str.count('membership')\ntrain['big']=train['email'].str.count('big')\ntrain['millionaire']=train['email'].str.count('millionaire')\ngraph=train[['consumers','rich','sale','membership','big','millionaire','spam']].melt('spam')\ngraph\nsns.barplot(x='variable',y='value',hue='spam',data=graph);",
    "id": "2f976714a10e42dcbc5752b358f49c06",
    "idx": 34,
    "time": "2020-11-17T07:41:54.795Z",
    "type": "execution"
   },
   {
    "id": "2f976714a10e42dcbc5752b358f49c06",
    "time": "2020-11-17T07:41:56.283Z",
    "type": "completion"
   },
   {
    "code": "train=train.reset_index(drop=True) # We must do this in order to preserve the ordering of emails to labels for words_in_texts\n\ntrain['consumers']=train['email'].str.count('consumers')\ntrain['rich']=train['email'].str.count('rich')\ntrain['sale']=train['email'].str.count('sale')\ntrain['membership']=train['email'].str.count('membership')\ntrain['big']=train['email'].str.count('big')\ntrain['millionaire']=train['email'].str.count('millionaire')\ngraph=train[['consumers','rich','sale','membership','big','millionaire','spam']].melt('spam')\ngraph\nfigure(num=None, figsize=(8, 6))\nsns.barplot(x='variable',y='value',hue='spam',data=graph);",
    "id": "2f976714a10e42dcbc5752b358f49c06",
    "idx": 34,
    "time": "2020-11-17T07:42:29.652Z",
    "type": "execution"
   },
   {
    "id": "2f976714a10e42dcbc5752b358f49c06",
    "time": "2020-11-17T07:42:30.022Z",
    "type": "completion"
   },
   {
    "code": "train=train.reset_index(drop=True) # We must do this in order to preserve the ordering of emails to labels for words_in_texts\n\ntrain['consumers']=train['email'].str.count('consumers')\ntrain['rich']=train['email'].str.count('rich')\ntrain['sale']=train['email'].str.count('sale')\ntrain['membership']=train['email'].str.count('membership')\ntrain['big']=train['email'].str.count('big')\ntrain['millionaire']=train['email'].str.count('millionaire')\ngraph=train[['consumers','rich','sale','membership','big','millionaire','spam']].melt('spam')\ngraph\nfigure(figsize=(8, 6))\nsns.barplot(x='variable',y='value',hue='spam',data=graph);",
    "id": "2f976714a10e42dcbc5752b358f49c06",
    "idx": 34,
    "time": "2020-11-17T07:42:34.078Z",
    "type": "execution"
   },
   {
    "id": "2f976714a10e42dcbc5752b358f49c06",
    "time": "2020-11-17T07:42:34.396Z",
    "type": "completion"
   },
   {
    "code": "train=train.reset_index(drop=True) # We must do this in order to preserve the ordering of emails to labels for words_in_texts\n\ntrain['consumers']=train['email'].str.count('consumers')\ntrain['rich']=train['email'].str.count('rich')\ntrain['sale']=train['email'].str.count('sale')\ntrain['membership']=train['email'].str.count('membership')\ntrain['big']=train['email'].str.count('big')\ntrain['millionaire']=train['email'].str.count('millionaire')\ngraph=train[['consumers','rich','sale','membership','big','millionaire','spam']].melt('spam')\ngraph\nplt.figsize=(8, 6)\nsns.barplot(x='variable',y='value',hue='spam',data=graph);",
    "id": "2f976714a10e42dcbc5752b358f49c06",
    "idx": 34,
    "time": "2020-11-17T07:42:42.553Z",
    "type": "execution"
   },
   {
    "id": "2f976714a10e42dcbc5752b358f49c06",
    "time": "2020-11-17T07:42:44.054Z",
    "type": "completion"
   },
   {
    "code": "train=train.reset_index(drop=True) # We must do this in order to preserve the ordering of emails to labels for words_in_texts\n\ntrain['consumers']=train['email'].str.count('consumers')\ntrain['rich']=train['email'].str.count('rich')\ntrain['sale']=train['email'].str.count('sale')\ntrain['membership']=train['email'].str.count('membership')\ntrain['big']=train['email'].str.count('big')\ntrain['millionaire']=train['email'].str.count('millionaire')\ngraph=train[['consumers','rich','sale','membership','big','millionaire','spam']].melt('spam')\ngraph\nplt.figure(figsize=(20,10))\nsns.barplot(x='variable',y='value',hue='spam',data=graph);",
    "id": "2f976714a10e42dcbc5752b358f49c06",
    "idx": 34,
    "time": "2020-11-17T07:43:34.204Z",
    "type": "execution"
   },
   {
    "id": "2f976714a10e42dcbc5752b358f49c06",
    "time": "2020-11-17T07:43:36.027Z",
    "type": "completion"
   },
   {
    "code": "train=train.reset_index(drop=True) # We must do this in order to preserve the ordering of emails to labels for words_in_texts\n\ntrain['consumers']=train['email'].str.count('consumers')\ntrain['rich']=train['email'].str.count('rich')\ntrain['sale']=train['email'].str.count('sale')\ntrain['membership']=train['email'].str.count('membership')\ntrain['big']=train['email'].str.count('big')\ntrain['millionaire']=train['email'].str.count('millionaire')\ngraph=train[['consumers','rich','sale','membership','big','millionaire','spam']].melt('spam')\ngraph\nplt.figure(figsize=(20,10))\nsns.barplot(x='variable',y='value',hue='spam',data=graph,ci=None);",
    "id": "2f976714a10e42dcbc5752b358f49c06",
    "idx": 34,
    "time": "2020-11-17T07:45:31.226Z",
    "type": "execution"
   },
   {
    "id": "2f976714a10e42dcbc5752b358f49c06",
    "time": "2020-11-17T07:45:32.159Z",
    "type": "completion"
   },
   {
    "code": "train=train.reset_index(drop=True) # We must do this in order to preserve the ordering of emails to labels for words_in_texts\n\ntrain['consumers']=train['email'].str.count('consumers')\ntrain['rich']=train['email'].str.count('rich')\ntrain['sale']=train['email'].str.count('sale')\ntrain['membership']=train['email'].str.count('membership')\ntrain['big']=train['email'].str.count('big')\ntrain['dollar']=train['email'].str.count('dollar')\ngraph=train[['consumers','rich','sale','membership','big','millionaire','spam']].melt('spam')\ngraph\nplt.figure(figsize=(20,10))\nsns.barplot(x='variable',y='value',hue='spam',data=graph,ci=None);",
    "id": "2f976714a10e42dcbc5752b358f49c06",
    "idx": 34,
    "time": "2020-11-17T07:45:57.037Z",
    "type": "execution"
   },
   {
    "id": "2f976714a10e42dcbc5752b358f49c06",
    "time": "2020-11-17T07:45:57.853Z",
    "type": "completion"
   },
   {
    "code": "train=train.reset_index(drop=True) # We must do this in order to preserve the ordering of emails to labels for words_in_texts\n\ntrain['consumers']=train['email'].str.count('consumers')\ntrain['rich']=train['email'].str.count('rich')\ntrain['sale']=train['email'].str.count('sale')\ntrain['membership']=train['email'].str.count('membership')\ntrain['big']=train['email'].str.count('big')\ntrain['dollar']=train['email'].str.count('dollar')\ngraph=train[['consumers','rich','sale','membership','big','dollar','spam']].melt('spam')\ngraph\nplt.figure(figsize=(20,10))\nsns.barplot(x='variable',y='value',hue='spam',data=graph,ci=None);",
    "id": "2f976714a10e42dcbc5752b358f49c06",
    "idx": 34,
    "time": "2020-11-17T07:46:11.926Z",
    "type": "execution"
   },
   {
    "id": "2f976714a10e42dcbc5752b358f49c06",
    "time": "2020-11-17T07:46:12.776Z",
    "type": "completion"
   },
   {
    "code": "first_ham = original_training_data[original_training_data['spam']==0].iloc[0,2]\nfirst_spam = original_training_data[original_training_data['spam']==1].iloc[21,2]\nprint(first_ham)\nprint(first_spam)",
    "id": "10390a75d5214fd98e6839222c05dd00",
    "idx": 16,
    "time": "2020-11-17T07:47:03.567Z",
    "type": "execution"
   },
   {
    "id": "10390a75d5214fd98e6839222c05dd00",
    "time": "2020-11-17T07:47:03.710Z",
    "type": "completion"
   },
   {
    "code": "first_ham = original_training_data[original_training_data['spam']==0].iloc[0,2]\nfirst_spam = original_training_data[original_training_data['spam']==1].iloc[31,2]\nprint(first_ham)\nprint(first_spam)",
    "id": "10390a75d5214fd98e6839222c05dd00",
    "idx": 16,
    "time": "2020-11-17T07:47:26.062Z",
    "type": "execution"
   },
   {
    "id": "10390a75d5214fd98e6839222c05dd00",
    "time": "2020-11-17T07:47:26.140Z",
    "type": "completion"
   },
   {
    "code": "first_ham = original_training_data[original_training_data['spam']==0].iloc[0,2]\nfirst_spam = original_training_data[original_training_data['spam']==1].iloc[71,2]\nprint(first_ham)\nprint(first_spam)",
    "id": "10390a75d5214fd98e6839222c05dd00",
    "idx": 16,
    "time": "2020-11-17T07:47:45.401Z",
    "type": "execution"
   },
   {
    "id": "10390a75d5214fd98e6839222c05dd00",
    "time": "2020-11-17T07:47:45.483Z",
    "type": "completion"
   },
   {
    "code": "first_ham = original_training_data[original_training_data['spam']==0].iloc[0,2]\nfirst_spam = original_training_data[original_training_data['spam']==1].iloc[41,2]\nprint(first_ham)\nprint(first_spam)",
    "id": "10390a75d5214fd98e6839222c05dd00",
    "idx": 16,
    "time": "2020-11-17T07:47:52.930Z",
    "type": "execution"
   },
   {
    "id": "10390a75d5214fd98e6839222c05dd00",
    "time": "2020-11-17T07:47:53.010Z",
    "type": "completion"
   },
   {
    "code": "train=train.reset_index(drop=True) # We must do this in order to preserve the ordering of emails to labels for words_in_texts\n\ntrain['free']=train['email'].str.count('free')\ntrain['rich']=train['email'].str.count('rich')\ntrain['sale']=train['email'].str.count('sale')\ntrain['membership']=train['email'].str.count('membership')\ntrain['big']=train['email'].str.count('big')\ntrain['dollar']=train['email'].str.count('dollar')\ngraph=train[['free','rich','sale','membership','big','dollar','spam']].melt('spam')\ngraph\nplt.figure(figsize=(20,10))\nsns.barplot(x='variable',y='value',hue='spam',data=graph,ci=None);",
    "id": "2f976714a10e42dcbc5752b358f49c06",
    "idx": 34,
    "time": "2020-11-17T07:48:13.640Z",
    "type": "execution"
   },
   {
    "id": "2f976714a10e42dcbc5752b358f49c06",
    "time": "2020-11-17T07:48:14.553Z",
    "type": "completion"
   },
   {
    "code": "train=train.reset_index(drop=True) # We must do this in order to preserve the ordering of emails to labels for words_in_texts\n\ntrain['free']=train['email'].str.count('free')\ntrain['limit']=train['email'].str.count('limit')\ntrain['sale']=train['email'].str.count('sale')\ntrain['membership']=train['email'].str.count('membership')\ntrain['big']=train['email'].str.count('big')\ntrain['dollar']=train['email'].str.count('dollar')\ngraph=train[['free','limit','sale','membership','big','dollar','spam']].melt('spam')\ngraph\nplt.figure(figsize=(20,10))\nsns.barplot(x='variable',y='value',hue='spam',data=graph,ci=None);",
    "id": "2f976714a10e42dcbc5752b358f49c06",
    "idx": 34,
    "time": "2020-11-17T07:48:42.301Z",
    "type": "execution"
   },
   {
    "id": "2f976714a10e42dcbc5752b358f49c06",
    "time": "2020-11-17T07:48:43.296Z",
    "type": "completion"
   },
   {
    "code": "train=train.reset_index(drop=True) # We must do this in order to preserve the ordering of emails to labels for words_in_texts\n\ntrain['free']=train['email'].str.count('free')\ntrain['limit']=train['email'].str.count('limit')\ntrain['sale']=train['email'].str.count('sale')\ntrain['membership']=train['email'].str.count('membership')\ntrain['big']=train['email'].str.count('big')\ntrain['dollar']=train['email'].str.count('dollar')\ngraph=train[['free','limit','sale','membership','big','dollar','spam']].melt('spam')\ngraph\nplt.figure(figsize=(20,20))\nsns.barplot(x='variable',y='value',hue='spam',data=graph,ci=None);",
    "id": "2f976714a10e42dcbc5752b358f49c06",
    "idx": 34,
    "time": "2020-11-17T07:48:56.580Z",
    "type": "execution"
   },
   {
    "id": "2f976714a10e42dcbc5752b358f49c06",
    "time": "2020-11-17T07:48:57.752Z",
    "type": "completion"
   },
   {
    "code": "train=train.reset_index(drop=True) # We must do this in order to preserve the ordering of emails to labels for words_in_texts\n\ntrain['free']=train['email'].str.count('free')\ntrain['limit']=train['email'].str.count('limit')\ntrain['sale']=train['email'].str.count('sale')\ntrain['membership']=train['email'].str.count('membership')\ntrain['big']=train['email'].str.count('big')\ntrain['dollar']=train['email'].str.count('dollar')\ngraph=train[['free','limit','sale','membership','big','dollar','spam']].melt('spam')\ngraph\nplt.figure(figsize=(20,15))\nsns.barplot(x='variable',y='value',hue='spam',data=graph,ci=None);",
    "id": "2f976714a10e42dcbc5752b358f49c06",
    "idx": 34,
    "time": "2020-11-17T07:49:06.814Z",
    "type": "execution"
   },
   {
    "id": "2f976714a10e42dcbc5752b358f49c06",
    "time": "2020-11-17T07:49:07.798Z",
    "type": "completion"
   },
   {
    "code": "train=train.reset_index(drop=True) # We must do this in order to preserve the ordering of emails to labels for words_in_texts\n\ntrain['free']=train['email'].str.count('free')\ntrain['limit']=train['email'].str.count('limit')\ntrain['sale']=train['email'].str.count('sale')\ntrain['membership']=train['email'].str.count('membership')\ntrain['big']=train['email'].str.count('big')\ntrain['dollar']=train['email'].str.count('dollar')\ngraph=train[['free','limit','sale','membership','big','dollar','spam']].melt('spam')\ngraph\nplt.figure(figsize=(20,12))\nsns.barplot(x='variable',y='value',hue='spam',data=graph,ci=None);",
    "id": "2f976714a10e42dcbc5752b358f49c06",
    "idx": 34,
    "time": "2020-11-17T07:49:39.952Z",
    "type": "execution"
   },
   {
    "id": "2f976714a10e42dcbc5752b358f49c06",
    "time": "2020-11-17T07:49:40.919Z",
    "type": "completion"
   },
   {
    "code": "train.loc[1,'email']\nplt.savefig('training_conditional_densities.png')",
    "id": "fe6adc2fd2984f1e8861993752ab38a0",
    "idx": 37,
    "time": "2020-11-17T07:52:30.861Z",
    "type": "execution"
   },
   {
    "id": "fe6adc2fd2984f1e8861993752ab38a0",
    "time": "2020-11-17T07:52:30.988Z",
    "type": "completion"
   },
   {
    "code": "train.loc[1,'email']\nplt.savefig('training_conditional_densities.png');",
    "id": "fe6adc2fd2984f1e8861993752ab38a0",
    "idx": 37,
    "time": "2020-11-17T07:52:51.618Z",
    "type": "execution"
   },
   {
    "id": "fe6adc2fd2984f1e8861993752ab38a0",
    "time": "2020-11-17T07:52:51.731Z",
    "type": "completion"
   },
   {
    "code": "train.loc[1,'email']\n# plt.savefig('training_conditional_densities.png')",
    "id": "fe6adc2fd2984f1e8861993752ab38a0",
    "idx": 37,
    "time": "2020-11-17T07:52:54.941Z",
    "type": "execution"
   },
   {
    "id": "fe6adc2fd2984f1e8861993752ab38a0",
    "time": "2020-11-17T07:52:55.015Z",
    "type": "completion"
   },
   {
    "code": "len(train.loc[1,'email'])\n# plt.savefig('training_conditional_densities.png')",
    "id": "fe6adc2fd2984f1e8861993752ab38a0",
    "idx": 37,
    "time": "2020-11-17T07:53:06.526Z",
    "type": "execution"
   },
   {
    "id": "fe6adc2fd2984f1e8861993752ab38a0",
    "time": "2020-11-17T07:53:06.618Z",
    "type": "completion"
   },
   {
    "code": "train['email'].str.len\n# plt.savefig('training_conditional_densities.png')",
    "id": "fe6adc2fd2984f1e8861993752ab38a0",
    "idx": 37,
    "time": "2020-11-17T07:56:08.356Z",
    "type": "execution"
   },
   {
    "id": "fe6adc2fd2984f1e8861993752ab38a0",
    "time": "2020-11-17T07:56:08.449Z",
    "type": "completion"
   },
   {
    "code": "train['email'].str.len()\n# plt.savefig('training_conditional_densities.png')",
    "id": "fe6adc2fd2984f1e8861993752ab38a0",
    "idx": 37,
    "time": "2020-11-17T07:56:11.547Z",
    "type": "execution"
   },
   {
    "id": "fe6adc2fd2984f1e8861993752ab38a0",
    "time": "2020-11-17T07:56:11.644Z",
    "type": "completion"
   },
   {
    "code": "train['length']=train['email'].str.len()\n# plt.savefig('training_conditional_densities.png')",
    "id": "fe6adc2fd2984f1e8861993752ab38a0",
    "idx": 37,
    "time": "2020-11-17T07:56:27.120Z",
    "type": "execution"
   },
   {
    "id": "fe6adc2fd2984f1e8861993752ab38a0",
    "time": "2020-11-17T07:56:27.202Z",
    "type": "completion"
   },
   {
    "code": "train['length']=train['email'].str.len()\ntraining_conditional_densities = sns.distplot(train['length'])\n# plt.savefig('training_conditional_densities.png')",
    "id": "fe6adc2fd2984f1e8861993752ab38a0",
    "idx": 37,
    "time": "2020-11-17T07:56:55.361Z",
    "type": "execution"
   },
   {
    "id": "fe6adc2fd2984f1e8861993752ab38a0",
    "time": "2020-11-17T07:56:55.944Z",
    "type": "completion"
   },
   {
    "code": "train['length']=train['email'].str.len()\ntraining_conditional_densities = sns.distplot(train,x='length')\n# plt.savefig('training_conditional_densities.png')",
    "id": "fe6adc2fd2984f1e8861993752ab38a0",
    "idx": 37,
    "time": "2020-11-17T08:00:08.712Z",
    "type": "execution"
   },
   {
    "id": "fe6adc2fd2984f1e8861993752ab38a0",
    "time": "2020-11-17T08:00:09.238Z",
    "type": "completion"
   },
   {
    "code": "train['length']=train['email'].str.len()\ntraining_conditional_densities = sns.distplot(data=train,x='length')\n# plt.savefig('training_conditional_densities.png')",
    "id": "fe6adc2fd2984f1e8861993752ab38a0",
    "idx": 37,
    "time": "2020-11-17T08:00:16.880Z",
    "type": "execution"
   },
   {
    "id": "fe6adc2fd2984f1e8861993752ab38a0",
    "time": "2020-11-17T08:00:16.993Z",
    "type": "completion"
   },
   {
    "code": "train['length']=train['email'].str.len()\ntraining_conditional_densities = sns.distplot(train[train['spam']==1]['length'])\n# plt.savefig('training_conditional_densities.png')",
    "id": "fe6adc2fd2984f1e8861993752ab38a0",
    "idx": 37,
    "time": "2020-11-17T08:03:26.599Z",
    "type": "execution"
   },
   {
    "id": "fe6adc2fd2984f1e8861993752ab38a0",
    "time": "2020-11-17T08:03:27.311Z",
    "type": "completion"
   },
   {
    "code": "train['length']=train['email'].str.len()\ntraining_conditional_densities = sns.distplot(train[train['spam']==1]['length'],train[train['spam']==0]['length'])\n# plt.savefig('training_conditional_densities.png')",
    "id": "fe6adc2fd2984f1e8861993752ab38a0",
    "idx": 37,
    "time": "2020-11-17T08:25:04.101Z",
    "type": "execution"
   },
   {
    "id": "fe6adc2fd2984f1e8861993752ab38a0",
    "time": "2020-11-17T08:25:04.530Z",
    "type": "completion"
   },
   {
    "code": "train['length']=train['email'].str.len()\ntraining_conditional_densities = sns.distplot(train[train['spam']==1]['length'])+sns.distplot(train[train['spam']==0]['length'])\n# plt.savefig('training_conditional_densities.png')",
    "id": "fe6adc2fd2984f1e8861993752ab38a0",
    "idx": 37,
    "time": "2020-11-17T08:25:19.638Z",
    "type": "execution"
   },
   {
    "id": "fe6adc2fd2984f1e8861993752ab38a0",
    "time": "2020-11-17T08:25:20.267Z",
    "type": "completion"
   },
   {
    "code": "train['length']=train['email'].str.len()\nsns.distplot(train[train['spam']==1]['length'])\nsns.distplot(train[train['spam']==0]['length'])\n# plt.savefig('training_conditional_densities.png')",
    "id": "fe6adc2fd2984f1e8861993752ab38a0",
    "idx": 37,
    "time": "2020-11-17T08:26:30.912Z",
    "type": "execution"
   },
   {
    "id": "fe6adc2fd2984f1e8861993752ab38a0",
    "time": "2020-11-17T08:26:31.558Z",
    "type": "completion"
   },
   {
    "code": "train['length']=train['email'].str.len()\nsns.distplot(train[train['spam']==1]['length'],hist=Flase)\nsns.distplot(train[train['spam']==0]['length'])\n# plt.savefig('training_conditional_densities.png')",
    "id": "fe6adc2fd2984f1e8861993752ab38a0",
    "idx": 37,
    "time": "2020-11-17T08:26:40.265Z",
    "type": "execution"
   },
   {
    "id": "fe6adc2fd2984f1e8861993752ab38a0",
    "time": "2020-11-17T08:26:40.349Z",
    "type": "completion"
   },
   {
    "code": "train['length']=train['email'].str.len()\nsns.distplot(train[train['spam']==1]['length'],hist=False)\nsns.distplot(train[train['spam']==0]['length'])\n# plt.savefig('training_conditional_densities.png')",
    "id": "fe6adc2fd2984f1e8861993752ab38a0",
    "idx": 37,
    "time": "2020-11-17T08:26:43.730Z",
    "type": "execution"
   },
   {
    "id": "fe6adc2fd2984f1e8861993752ab38a0",
    "time": "2020-11-17T08:26:44.280Z",
    "type": "completion"
   },
   {
    "code": "train['length']=train['email'].str.len()\nsns.distplot(train[train['spam']==1]['length'],hist=False)\nsns.distplot(train[train['spam']==0]['length'],,hist=False)\n# plt.savefig('training_conditional_densities.png')",
    "id": "fe6adc2fd2984f1e8861993752ab38a0",
    "idx": 37,
    "time": "2020-11-17T08:26:50.498Z",
    "type": "execution"
   },
   {
    "id": "fe6adc2fd2984f1e8861993752ab38a0",
    "time": "2020-11-17T08:26:50.580Z",
    "type": "completion"
   },
   {
    "code": "train['length']=train['email'].str.len()\nsns.distplot(train[train['spam']==1]['length'],hist=False)\nsns.distplot(train[train['spam']==0]['length'],hist=False)\n# plt.savefig('training_conditional_densities.png')",
    "id": "fe6adc2fd2984f1e8861993752ab38a0",
    "idx": 37,
    "time": "2020-11-17T08:26:53.169Z",
    "type": "execution"
   },
   {
    "id": "fe6adc2fd2984f1e8861993752ab38a0",
    "time": "2020-11-17T08:26:53.629Z",
    "type": "completion"
   },
   {
    "code": "train['length']=train['email'].str.len()\nsns.distplot(train[train['spam']==0]['length'],hist=False)\nsns.distplot(train[train['spam']==1]['length'],hist=False)\n# plt.savefig('training_conditional_densities.png')",
    "id": "fe6adc2fd2984f1e8861993752ab38a0",
    "idx": 37,
    "time": "2020-11-17T08:27:10.103Z",
    "type": "execution"
   },
   {
    "id": "fe6adc2fd2984f1e8861993752ab38a0",
    "time": "2020-11-17T08:27:10.619Z",
    "type": "completion"
   },
   {
    "code": "train['length']=train['email'].str.len()\nsns.distplot(train[train['spam']==0]['length'],hist=False,bins=20)\nsns.distplot(train[train['spam']==1]['length'],hist=False)\n\n# plt.savefig('training_conditional_densities.png')",
    "id": "fe6adc2fd2984f1e8861993752ab38a0",
    "idx": 37,
    "time": "2020-11-17T08:28:10.328Z",
    "type": "execution"
   },
   {
    "id": "fe6adc2fd2984f1e8861993752ab38a0",
    "time": "2020-11-17T08:28:11.031Z",
    "type": "completion"
   },
   {
    "code": "train['length']=train['email'].str.len()\nsns.distplot(train[train['spam']==0]['length'],hist=False)\nsns.distplot(train[train['spam']==1]['length'],hist=False)\nplt.xlim(0,50000)\n\n# plt.savefig('training_conditional_densities.png')",
    "id": "fe6adc2fd2984f1e8861993752ab38a0",
    "idx": 37,
    "time": "2020-11-17T08:29:00.680Z",
    "type": "execution"
   },
   {
    "id": "fe6adc2fd2984f1e8861993752ab38a0",
    "time": "2020-11-17T08:29:01.334Z",
    "type": "completion"
   },
   {
    "code": "train['length']=train['email'].str.len()\nsns.distplot(train[train['spam']==0]['length'],hist=False)\nsns.distplot(train[train['spam']==1]['length'],hist=False)\nplt.xlim(0,50000);\n\n# plt.savefig('training_conditional_densities.png')",
    "id": "fe6adc2fd2984f1e8861993752ab38a0",
    "idx": 37,
    "time": "2020-11-17T08:29:05.362Z",
    "type": "execution"
   },
   {
    "id": "fe6adc2fd2984f1e8861993752ab38a0",
    "time": "2020-11-17T08:29:05.847Z",
    "type": "completion"
   },
   {
    "code": "train['length']=train['email'].str.len()\nsns.distplot(train[train['spam']==0]['length'],hist=False)\nsns.distplot(train[train['spam']==1]['length'],hist=False)\nplt.xlim(0,50000);\n\nplt.savefig('training_conditional_densities.png')",
    "id": "fe6adc2fd2984f1e8861993752ab38a0",
    "idx": 37,
    "time": "2020-11-17T08:29:08.798Z",
    "type": "execution"
   },
   {
    "id": "fe6adc2fd2984f1e8861993752ab38a0",
    "time": "2020-11-17T08:29:09.417Z",
    "type": "completion"
   },
   {
    "code": "train['length']=train['email'].str.len()\nsns.distplot(train[train['spam']==0]['length'],hist=False)\nsns.distplot(train[train['spam']==1]['length'],hist=False)\nplt.xlim(0,50000);\nplt.savefig('training_conditional_densities.png')",
    "id": "fe6adc2fd2984f1e8861993752ab38a0",
    "idx": 37,
    "time": "2020-11-17T08:29:11.695Z",
    "type": "execution"
   },
   {
    "id": "fe6adc2fd2984f1e8861993752ab38a0",
    "time": "2020-11-17T08:29:12.315Z",
    "type": "completion"
   },
   {
    "code": "some_words = ['drug', 'bank', 'prescription', 'memo', 'private']\n\nX_train = words_in_texts(some_words,train['email'])\nY_train = train['spam']\n\nX_train[:5], Y_train[:5]",
    "id": "a7157ac8ae734ed78ed9638a16b2ac7d",
    "idx": 40,
    "time": "2020-11-17T08:32:28.386Z",
    "type": "execution"
   },
   {
    "id": "a7157ac8ae734ed78ed9638a16b2ac7d",
    "time": "2020-11-17T08:32:28.607Z",
    "type": "completion"
   },
   {
    "code": "grader.check(\"q4\")",
    "id": "cafc55455708459f89f721bb10f967d7",
    "idx": 41,
    "time": "2020-11-17T08:32:45.739Z",
    "type": "execution"
   },
   {
    "id": "cafc55455708459f89f721bb10f967d7",
    "time": "2020-11-17T08:32:45.934Z",
    "type": "completion"
   },
   {
    "code": "some_words = ['drug', 'bank', 'prescription', 'memo', 'private']\n\nX_train = words_in_texts(some_words,train['email'])\nY_train = train['spam']\n\nX_train[:5], Y_train[:5]\nX_train.shape",
    "id": "a7157ac8ae734ed78ed9638a16b2ac7d",
    "idx": 40,
    "time": "2020-11-17T08:32:59.710Z",
    "type": "execution"
   },
   {
    "id": "a7157ac8ae734ed78ed9638a16b2ac7d",
    "time": "2020-11-17T08:32:59.921Z",
    "type": "completion"
   },
   {
    "code": "some_words = ['drug', 'bank', 'prescription', 'memo', 'private']\n\nX_train = words_in_texts(some_words,train['email'])\nY_train = train['spam']\n\nX_train[:5], Y_train[:5]()\nX_train.shape",
    "id": "a7157ac8ae734ed78ed9638a16b2ac7d",
    "idx": 40,
    "time": "2020-11-17T08:33:02.942Z",
    "type": "execution"
   },
   {
    "id": "a7157ac8ae734ed78ed9638a16b2ac7d",
    "time": "2020-11-17T08:33:03.148Z",
    "type": "completion"
   },
   {
    "code": "some_words = ['drug', 'bank', 'prescription', 'memo', 'private']\n\nX_train = words_in_texts(some_words,train['email'])\nY_train = train['spam']\n\nX_train[:5], Y_train[:5]\nX_train.shape()",
    "id": "a7157ac8ae734ed78ed9638a16b2ac7d",
    "idx": 40,
    "time": "2020-11-17T08:33:11.031Z",
    "type": "execution"
   },
   {
    "id": "a7157ac8ae734ed78ed9638a16b2ac7d",
    "time": "2020-11-17T08:33:11.241Z",
    "type": "completion"
   },
   {
    "code": "def words_in_texts(words, texts):\n    '''\n    Args:\n        words (list): words to find\n        texts (Series): strings to search in\n    \n    Returns:\n        NumPy array of 0s and 1s with shape (n, p) where n is the\n        number of texts and p is the number of words.\n    '''\n    indicator_array=[0]*len(texts)\n    for j,text in enumerate(texts):\n        temp=[]\n        for i,word in enumerate(words):\n            temp += [1 if word in text else 0]\n        indicator_array[j]=temp\n    return np.array(indicator_array)",
    "id": "3fbab79d2ee047d1915a9ecbd2277668",
    "idx": 27,
    "time": "2020-11-17T08:33:48.829Z",
    "type": "execution"
   },
   {
    "id": "3fbab79d2ee047d1915a9ecbd2277668",
    "time": "2020-11-17T08:33:48.904Z",
    "type": "completion"
   },
   {
    "code": "def words_in_texts(words, texts):\n    '''\n    Args:\n        words (list): words to find\n        texts (Series): strings to search in\n    \n    Returns:\n        NumPy array of 0s and 1s with shape (n, p) where n is the\n        number of texts and p is the number of words.\n    '''\n    indicator_array=[0]*len(texts)\n    for j,text in enumerate(texts):\n        temp=[]\n        for i,word in enumerate(words):\n            temp += [1 if word in text else 0]\n        indicator_array[j]=temp\n    return np.array(indicator_array)",
    "id": "3fbab79d2ee047d1915a9ecbd2277668",
    "idx": 27,
    "time": "2020-11-17T08:33:50.014Z",
    "type": "execution"
   },
   {
    "id": "3fbab79d2ee047d1915a9ecbd2277668",
    "time": "2020-11-17T08:33:50.078Z",
    "type": "completion"
   },
   {
    "code": "grader.check(\"q2\")",
    "id": "0edf1eefe939477f912b8008bc618fa0",
    "idx": 28,
    "time": "2020-11-17T08:33:50.399Z",
    "type": "execution"
   },
   {
    "id": "0edf1eefe939477f912b8008bc618fa0",
    "time": "2020-11-17T08:33:50.494Z",
    "type": "completion"
   },
   {
    "code": "some_words = ['drug', 'bank', 'prescription', 'memo', 'private']\n\nX_train = words_in_texts(some_words,train['email'])\nY_train = train['spam']\n\nX_train[:5], Y_train[:5]\nX_train.shape()",
    "id": "a7157ac8ae734ed78ed9638a16b2ac7d",
    "idx": 40,
    "time": "2020-11-17T08:33:57.101Z",
    "type": "execution"
   },
   {
    "id": "a7157ac8ae734ed78ed9638a16b2ac7d",
    "time": "2020-11-17T08:33:57.335Z",
    "type": "completion"
   },
   {
    "code": "some_words = ['drug', 'bank', 'prescription', 'memo', 'private']\n\nX_train = words_in_texts(some_words,train['email'])\nY_train = train['spam']\n\nX_train[:5], Y_train[:5]\nX_train.shape",
    "id": "a7157ac8ae734ed78ed9638a16b2ac7d",
    "idx": 40,
    "time": "2020-11-17T08:34:00.391Z",
    "type": "execution"
   },
   {
    "id": "a7157ac8ae734ed78ed9638a16b2ac7d",
    "time": "2020-11-17T08:34:00.600Z",
    "type": "completion"
   },
   {
    "code": "grader.check(\"q4\")",
    "id": "cafc55455708459f89f721bb10f967d7",
    "idx": 41,
    "time": "2020-11-17T08:34:01.985Z",
    "type": "execution"
   },
   {
    "id": "cafc55455708459f89f721bb10f967d7",
    "time": "2020-11-17T08:34:02.064Z",
    "type": "completion"
   },
   {
    "code": "from sklearn.linear_model import LogisticRegression\n\nmodel = LogisticRegression.fit(X_train,Y_train)\n\ntraining_accuracy = model.score((X_train,Y_train)\n\nprint(\"Training Accuracy: \", training_accuracy)",
    "id": "02023bf80e8d43629347a69ca658ea7d",
    "idx": 43,
    "time": "2020-11-17T09:45:39.465Z",
    "type": "execution"
   },
   {
    "id": "02023bf80e8d43629347a69ca658ea7d",
    "time": "2020-11-17T09:45:39.538Z",
    "type": "completion"
   },
   {
    "code": "from sklearn.linear_model import LogisticRegression\n\nmodel = LogisticRegression.fit(X_train,Y_train)\n\ntraining_accuracy = model.score((X_train,Y_train)\n\n# print(\"Training Accuracy: \", training_accuracy)",
    "id": "02023bf80e8d43629347a69ca658ea7d",
    "idx": 43,
    "time": "2020-11-17T09:45:53.133Z",
    "type": "execution"
   },
   {
    "id": "02023bf80e8d43629347a69ca658ea7d",
    "time": "2020-11-17T09:45:53.206Z",
    "type": "completion"
   },
   {
    "code": "# Initialize Otter\nimport otter\ngrader = otter.Notebook()",
    "id": "2c02ba58b3a54c9598db54da80e55a87",
    "idx": 0,
    "time": "2020-11-17T09:46:06.620Z",
    "type": "execution"
   },
   {
    "id": "2c02ba58b3a54c9598db54da80e55a87",
    "time": "2020-11-17T09:46:07.191Z",
    "type": "completion"
   },
   {
    "code": "# Run this cell to suppress all FutureWarnings\nimport warnings\nwarnings.filterwarnings(\"ignore\", category=FutureWarning)",
    "id": "cbc98b4391e740ea8ff0825920c9d896",
    "idx": 5,
    "time": "2020-11-17T09:46:07.998Z",
    "type": "execution"
   },
   {
    "id": "cbc98b4391e740ea8ff0825920c9d896",
    "time": "2020-11-17T09:46:08.062Z",
    "type": "completion"
   },
   {
    "code": "import numpy as np\nimport pandas as pd\n\nimport matplotlib.pyplot as plt\n%matplotlib inline\n\nimport seaborn as sns\nsns.set(style = \"whitegrid\", \n        color_codes = True,\n        font_scale = 1.5)",
    "id": "0553071a70dd4ac58854cfdde0b6a42c",
    "idx": 8,
    "time": "2020-11-17T09:46:09.306Z",
    "type": "execution"
   },
   {
    "id": "0553071a70dd4ac58854cfdde0b6a42c",
    "time": "2020-11-17T09:46:10.214Z",
    "type": "completion"
   },
   {
    "code": "from utils import fetch_and_cache_gdrive\nfetch_and_cache_gdrive('1SCASpLZFKCp2zek-toR3xeKX3DZnBSyp', 'train.csv')\nfetch_and_cache_gdrive('1ZDFo9OTF96B5GP2Nzn8P8-AL7CTQXmC0', 'test.csv')\n\noriginal_training_data = pd.read_csv('data/train.csv')\ntest = pd.read_csv('data/test.csv')\n\n# Convert the emails to lower case as a first step to processing the text\noriginal_training_data['email'] = original_training_data['email'].str.lower()\ntest['email'] = test['email'].str.lower()\n\noriginal_training_data.head()",
    "id": "b6c45ced61884965884e4c8a977400ea",
    "idx": 10,
    "time": "2020-11-17T09:46:11.087Z",
    "type": "execution"
   },
   {
    "id": "b6c45ced61884965884e4c8a977400ea",
    "time": "2020-11-17T09:46:11.701Z",
    "type": "completion"
   },
   {
    "code": "original_training_data['subject'][original_training_data['subject'].isna()]\noriginal_training_data.fillna('',inplace=True)",
    "id": "f1ac829dd8f3492098ddb3f2a836585f",
    "idx": 12,
    "time": "2020-11-17T09:46:12.142Z",
    "type": "execution"
   },
   {
    "id": "f1ac829dd8f3492098ddb3f2a836585f",
    "time": "2020-11-17T09:46:12.212Z",
    "type": "completion"
   },
   {
    "code": "grader.check(\"q1a\")",
    "id": "360dff5b48014daa81d140dac1d848c8",
    "idx": 13,
    "time": "2020-11-17T09:46:12.508Z",
    "type": "execution"
   },
   {
    "id": "360dff5b48014daa81d140dac1d848c8",
    "time": "2020-11-17T09:46:12.606Z",
    "type": "completion"
   },
   {
    "code": "original_training_data[original_training_data['spam']==1].iloc[0,2]",
    "id": "50601e8eee39423d90af9fe89d22741b",
    "idx": 15,
    "time": "2020-11-17T09:46:13.120Z",
    "type": "execution"
   },
   {
    "id": "50601e8eee39423d90af9fe89d22741b",
    "time": "2020-11-17T09:46:13.196Z",
    "type": "completion"
   },
   {
    "code": "first_ham = original_training_data[original_training_data['spam']==0].iloc[0,2]\nfirst_spam = original_training_data[original_training_data['spam']==1].iloc[41,2]\nprint(first_ham)\nprint(first_spam)",
    "id": "10390a75d5214fd98e6839222c05dd00",
    "idx": 16,
    "time": "2020-11-17T09:46:13.371Z",
    "type": "execution"
   },
   {
    "id": "10390a75d5214fd98e6839222c05dd00",
    "time": "2020-11-17T09:46:13.455Z",
    "type": "completion"
   },
   {
    "code": "grader.check(\"q1b\")",
    "id": "5a95731be94245a1a73ad58eea65f1fd",
    "idx": 17,
    "time": "2020-11-17T09:46:13.920Z",
    "type": "execution"
   },
   {
    "id": "5a95731be94245a1a73ad58eea65f1fd",
    "time": "2020-11-17T09:46:13.997Z",
    "type": "completion"
   },
   {
    "code": "# This creates a 90/10 train-validation split on our labeled data\n\nfrom sklearn.model_selection import train_test_split\n\ntrain, val = train_test_split(original_training_data, test_size=0.1, random_state=42)",
    "id": "6776cd4ed0194bf1b8aeb8d8199ae94a",
    "idx": 21,
    "time": "2020-11-17T09:46:15.145Z",
    "type": "execution"
   },
   {
    "id": "6776cd4ed0194bf1b8aeb8d8199ae94a",
    "time": "2020-11-17T09:46:15.280Z",
    "type": "completion"
   },
   {
    "code": "words=['hello', 'bye', 'world']\ntexts=['hello','hello worldhello']\nindicator_array=[0]*len(texts)\nfor j,text in enumerate(texts):\n    temp=[]\n    for i,word in enumerate(words):\n        temp += [1 if word in text else 0]\n    indicator_array[j]=temp\nindicator_array",
    "id": "588712d15dd4437e98fb19ff6e11d7d7",
    "idx": 24,
    "time": "2020-11-17T09:46:16.044Z",
    "type": "execution"
   },
   {
    "id": "588712d15dd4437e98fb19ff6e11d7d7",
    "time": "2020-11-17T09:46:16.139Z",
    "type": "completion"
   },
   {
    "code": "len(texts)",
    "id": "45250e226e734fdfa6a120e397904c6f",
    "idx": 25,
    "time": "2020-11-17T09:46:16.456Z",
    "type": "execution"
   },
   {
    "id": "45250e226e734fdfa6a120e397904c6f",
    "time": "2020-11-17T09:46:16.524Z",
    "type": "completion"
   },
   {
    "code": "word in 'hello worldhello'",
    "id": "ef12b890970b4e8e8e591675f0fbfae5",
    "idx": 26,
    "time": "2020-11-17T09:46:16.902Z",
    "type": "execution"
   },
   {
    "id": "ef12b890970b4e8e8e591675f0fbfae5",
    "time": "2020-11-17T09:46:16.994Z",
    "type": "completion"
   },
   {
    "code": "def words_in_texts(words, texts):\n    '''\n    Args:\n        words (list): words to find\n        texts (Series): strings to search in\n    \n    Returns:\n        NumPy array of 0s and 1s with shape (n, p) where n is the\n        number of texts and p is the number of words.\n    '''\n    indicator_array=[0]*len(texts)\n    for j,text in enumerate(texts):\n        temp=[]\n        for i,word in enumerate(words):\n            temp += [1 if word in text else 0]\n        indicator_array[j]=temp\n    return np.array(indicator_array)",
    "id": "3fbab79d2ee047d1915a9ecbd2277668",
    "idx": 27,
    "time": "2020-11-17T09:46:17.360Z",
    "type": "execution"
   },
   {
    "id": "3fbab79d2ee047d1915a9ecbd2277668",
    "time": "2020-11-17T09:46:17.431Z",
    "type": "completion"
   },
   {
    "code": "grader.check(\"q2\")",
    "id": "0edf1eefe939477f912b8008bc618fa0",
    "idx": 28,
    "time": "2020-11-17T09:46:17.749Z",
    "type": "execution"
   },
   {
    "id": "0edf1eefe939477f912b8008bc618fa0",
    "time": "2020-11-17T09:46:17.828Z",
    "type": "completion"
   },
   {
    "code": "from IPython.display import display, Markdown\ndf = pd.DataFrame({\n    'word_1': [1, 0, 1, 0],\n    'word_2': [0, 1, 0, 1],\n    'type': ['spam', 'ham', 'ham', 'ham']\n})\ndisplay(Markdown(\"> Our Original DataFrame has a `type` column and some columns corresponding to words. You can think of each row as a sentence, and the value of 1 or 0 indicates the number of occurences of the word in this sentence.\"))\ndisplay(df);\ndisplay(Markdown(\"> `melt` will turn columns into entries in a variable column. Notice how `word_1` and `word_2` become entries in `variable`; their values are stored in the value column.\"))\ndisplay(df.melt(\"type\"))",
    "id": "dd14c50bdd38456d9b3cde270157235e",
    "idx": 31,
    "time": "2020-11-17T09:46:18.858Z",
    "type": "execution"
   },
   {
    "id": "dd14c50bdd38456d9b3cde270157235e",
    "time": "2020-11-17T09:46:18.975Z",
    "type": "completion"
   },
   {
    "code": "train[train['spam']==1]['email'].head(10)",
    "id": "35e88264484f459b90baecfebd08d7ec",
    "idx": 33,
    "time": "2020-11-17T09:46:19.541Z",
    "type": "execution"
   },
   {
    "id": "35e88264484f459b90baecfebd08d7ec",
    "time": "2020-11-17T09:46:19.613Z",
    "type": "completion"
   },
   {
    "code": "train=train.reset_index(drop=True) # We must do this in order to preserve the ordering of emails to labels for words_in_texts\n\ntrain['free']=train['email'].str.count('free')\ntrain['limit']=train['email'].str.count('limit')\ntrain['sale']=train['email'].str.count('sale')\ntrain['membership']=train['email'].str.count('membership')\ntrain['big']=train['email'].str.count('big')\ntrain['dollar']=train['email'].str.count('dollar')\ngraph=train[['free','limit','sale','membership','big','dollar','spam']].melt('spam')\ngraph\nplt.figure(figsize=(20,12))\nsns.barplot(x='variable',y='value',hue='spam',data=graph,ci=None);",
    "id": "2f976714a10e42dcbc5752b358f49c06",
    "idx": 34,
    "time": "2020-11-17T09:46:20.090Z",
    "type": "execution"
   },
   {
    "id": "2f976714a10e42dcbc5752b358f49c06",
    "time": "2020-11-17T09:46:20.946Z",
    "type": "completion"
   },
   {
    "code": "train['length']=train['email'].str.len()\nsns.distplot(train[train['spam']==0]['length'],hist=False)\nsns.distplot(train[train['spam']==1]['length'],hist=False)\nplt.xlim(0,50000);\nplt.savefig('training_conditional_densities.png')",
    "id": "fe6adc2fd2984f1e8861993752ab38a0",
    "idx": 37,
    "time": "2020-11-17T09:46:22.364Z",
    "type": "execution"
   },
   {
    "id": "fe6adc2fd2984f1e8861993752ab38a0",
    "time": "2020-11-17T09:46:22.954Z",
    "type": "completion"
   },
   {
    "code": "some_words = ['drug', 'bank', 'prescription', 'memo', 'private']\n\nX_train = words_in_texts(some_words,train['email'])\nY_train = train['spam']\n\nX_train[:5], Y_train[:5]\nX_train.shape",
    "id": "a7157ac8ae734ed78ed9638a16b2ac7d",
    "idx": 40,
    "time": "2020-11-17T09:46:24.313Z",
    "type": "execution"
   },
   {
    "id": "a7157ac8ae734ed78ed9638a16b2ac7d",
    "time": "2020-11-17T09:46:24.512Z",
    "type": "completion"
   },
   {
    "code": "grader.check(\"q4\")",
    "id": "cafc55455708459f89f721bb10f967d7",
    "idx": 41,
    "time": "2020-11-17T09:46:24.946Z",
    "type": "execution"
   },
   {
    "id": "cafc55455708459f89f721bb10f967d7",
    "time": "2020-11-17T09:46:25.023Z",
    "type": "completion"
   },
   {
    "code": "from sklearn.linear_model import LogisticRegression\n\nmodel = LogisticRegression.fit(X_train,Y_train)\n\ntraining_accuracy = model.score((X_train,Y_train)\n\n# print(\"Training Accuracy: \", training_accuracy)",
    "id": "02023bf80e8d43629347a69ca658ea7d",
    "idx": 43,
    "time": "2020-11-17T09:46:25.758Z",
    "type": "execution"
   },
   {
    "id": "02023bf80e8d43629347a69ca658ea7d",
    "time": "2020-11-17T09:46:25.827Z",
    "type": "completion"
   },
   {
    "code": "grader.check(\"q5\")",
    "id": "582649ae718a4cef8a685ac75657b010",
    "idx": 44,
    "time": "2020-11-17T09:46:26.135Z",
    "type": "execution"
   },
   {
    "id": "582649ae718a4cef8a685ac75657b010",
    "time": "2020-11-17T09:46:26.397Z",
    "type": "completion"
   },
   {
    "code": "from sklearn.linear_model import LogisticRegression\n\nmodel = LogisticRegression.fit(X_train,Y_train)\n\ntraining_accuracy = model.score((X_train,Y_train)\n#print(\"Training Accuracy: \", training_accuracy)",
    "id": "02023bf80e8d43629347a69ca658ea7d",
    "idx": 43,
    "time": "2020-11-17T09:46:34.402Z",
    "type": "execution"
   },
   {
    "id": "02023bf80e8d43629347a69ca658ea7d",
    "time": "2020-11-17T09:46:34.490Z",
    "type": "completion"
   },
   {
    "code": "from sklearn.linear_model import LogisticRegression\n\nmodel = LogisticRegression.fit(X_train,Y_train)\n\ntraining_accuracy = model.score((X_train,Y_train)\nprint(\"Training Accuracy: \", training_accuracy)",
    "id": "02023bf80e8d43629347a69ca658ea7d",
    "idx": 43,
    "time": "2020-11-17T09:46:58.641Z",
    "type": "execution"
   },
   {
    "id": "02023bf80e8d43629347a69ca658ea7d",
    "time": "2020-11-17T09:46:58.724Z",
    "type": "completion"
   },
   {
    "code": "# Initialize Otter\nimport otter\ngrader = otter.Notebook()",
    "id": "2c02ba58b3a54c9598db54da80e55a87",
    "idx": 0,
    "time": "2020-11-17T09:47:09.921Z",
    "type": "execution"
   },
   {
    "id": "2c02ba58b3a54c9598db54da80e55a87",
    "time": "2020-11-17T09:47:10.521Z",
    "type": "completion"
   },
   {
    "code": "# Run this cell to suppress all FutureWarnings\nimport warnings\nwarnings.filterwarnings(\"ignore\", category=FutureWarning)",
    "id": "cbc98b4391e740ea8ff0825920c9d896",
    "idx": 5,
    "time": "2020-11-17T09:47:10.860Z",
    "type": "execution"
   },
   {
    "id": "cbc98b4391e740ea8ff0825920c9d896",
    "time": "2020-11-17T09:47:10.931Z",
    "type": "completion"
   },
   {
    "code": "import numpy as np\nimport pandas as pd\n\nimport matplotlib.pyplot as plt\n%matplotlib inline\n\nimport seaborn as sns\nsns.set(style = \"whitegrid\", \n        color_codes = True,\n        font_scale = 1.5)",
    "id": "0553071a70dd4ac58854cfdde0b6a42c",
    "idx": 8,
    "time": "2020-11-17T09:47:11.285Z",
    "type": "execution"
   },
   {
    "code": "from utils import fetch_and_cache_gdrive\nfetch_and_cache_gdrive('1SCASpLZFKCp2zek-toR3xeKX3DZnBSyp', 'train.csv')\nfetch_and_cache_gdrive('1ZDFo9OTF96B5GP2Nzn8P8-AL7CTQXmC0', 'test.csv')\n\noriginal_training_data = pd.read_csv('data/train.csv')\ntest = pd.read_csv('data/test.csv')\n\n# Convert the emails to lower case as a first step to processing the text\noriginal_training_data['email'] = original_training_data['email'].str.lower()\ntest['email'] = test['email'].str.lower()\n\noriginal_training_data.head()",
    "id": "b6c45ced61884965884e4c8a977400ea",
    "idx": 10,
    "time": "2020-11-17T09:47:11.613Z",
    "type": "execution"
   },
   {
    "code": "original_training_data['subject'][original_training_data['subject'].isna()]\noriginal_training_data.fillna('',inplace=True)",
    "id": "f1ac829dd8f3492098ddb3f2a836585f",
    "idx": 12,
    "time": "2020-11-17T09:47:11.937Z",
    "type": "execution"
   },
   {
    "code": "grader.check(\"q1a\")",
    "id": "360dff5b48014daa81d140dac1d848c8",
    "idx": 13,
    "time": "2020-11-17T09:47:12.076Z",
    "type": "execution"
   },
   {
    "id": "0553071a70dd4ac58854cfdde0b6a42c",
    "time": "2020-11-17T09:47:12.189Z",
    "type": "completion"
   },
   {
    "code": "original_training_data[original_training_data['spam']==1].iloc[0,2]",
    "id": "50601e8eee39423d90af9fe89d22741b",
    "idx": 15,
    "time": "2020-11-17T09:47:12.390Z",
    "type": "execution"
   },
   {
    "code": "first_ham = original_training_data[original_training_data['spam']==0].iloc[0,2]\nfirst_spam = original_training_data[original_training_data['spam']==1].iloc[41,2]\nprint(first_ham)\nprint(first_spam)",
    "id": "10390a75d5214fd98e6839222c05dd00",
    "idx": 16,
    "time": "2020-11-17T09:47:12.576Z",
    "type": "execution"
   },
   {
    "id": "b6c45ced61884965884e4c8a977400ea",
    "time": "2020-11-17T09:47:12.654Z",
    "type": "completion"
   },
   {
    "id": "f1ac829dd8f3492098ddb3f2a836585f",
    "time": "2020-11-17T09:47:12.680Z",
    "type": "completion"
   },
   {
    "code": "grader.check(\"q1b\")",
    "id": "5a95731be94245a1a73ad58eea65f1fd",
    "idx": 17,
    "time": "2020-11-17T09:47:12.727Z",
    "type": "execution"
   },
   {
    "id": "360dff5b48014daa81d140dac1d848c8",
    "time": "2020-11-17T09:47:12.783Z",
    "type": "completion"
   },
   {
    "id": "50601e8eee39423d90af9fe89d22741b",
    "time": "2020-11-17T09:47:12.785Z",
    "type": "completion"
   },
   {
    "id": "10390a75d5214fd98e6839222c05dd00",
    "time": "2020-11-17T09:47:12.817Z",
    "type": "completion"
   },
   {
    "id": "5a95731be94245a1a73ad58eea65f1fd",
    "time": "2020-11-17T09:47:12.879Z",
    "type": "completion"
   },
   {
    "code": "# This creates a 90/10 train-validation split on our labeled data\n\nfrom sklearn.model_selection import train_test_split\n\ntrain, val = train_test_split(original_training_data, test_size=0.1, random_state=42)",
    "id": "6776cd4ed0194bf1b8aeb8d8199ae94a",
    "idx": 21,
    "time": "2020-11-17T09:47:13.438Z",
    "type": "execution"
   },
   {
    "id": "6776cd4ed0194bf1b8aeb8d8199ae94a",
    "time": "2020-11-17T09:47:13.567Z",
    "type": "completion"
   },
   {
    "code": "words=['hello', 'bye', 'world']\ntexts=['hello','hello worldhello']\nindicator_array=[0]*len(texts)\nfor j,text in enumerate(texts):\n    temp=[]\n    for i,word in enumerate(words):\n        temp += [1 if word in text else 0]\n    indicator_array[j]=temp\nindicator_array",
    "id": "588712d15dd4437e98fb19ff6e11d7d7",
    "idx": 24,
    "time": "2020-11-17T09:47:14.253Z",
    "type": "execution"
   },
   {
    "id": "588712d15dd4437e98fb19ff6e11d7d7",
    "time": "2020-11-17T09:47:14.353Z",
    "type": "completion"
   },
   {
    "code": "len(texts)",
    "id": "45250e226e734fdfa6a120e397904c6f",
    "idx": 25,
    "time": "2020-11-17T09:47:14.769Z",
    "type": "execution"
   },
   {
    "id": "45250e226e734fdfa6a120e397904c6f",
    "time": "2020-11-17T09:47:14.835Z",
    "type": "completion"
   },
   {
    "code": "word in 'hello worldhello'",
    "id": "ef12b890970b4e8e8e591675f0fbfae5",
    "idx": 26,
    "time": "2020-11-17T09:47:15.072Z",
    "type": "execution"
   },
   {
    "id": "ef12b890970b4e8e8e591675f0fbfae5",
    "time": "2020-11-17T09:47:15.165Z",
    "type": "completion"
   },
   {
    "code": "def words_in_texts(words, texts):\n    '''\n    Args:\n        words (list): words to find\n        texts (Series): strings to search in\n    \n    Returns:\n        NumPy array of 0s and 1s with shape (n, p) where n is the\n        number of texts and p is the number of words.\n    '''\n    indicator_array=[0]*len(texts)\n    for j,text in enumerate(texts):\n        temp=[]\n        for i,word in enumerate(words):\n            temp += [1 if word in text else 0]\n        indicator_array[j]=temp\n    return np.array(indicator_array)",
    "id": "3fbab79d2ee047d1915a9ecbd2277668",
    "idx": 27,
    "time": "2020-11-17T09:47:15.430Z",
    "type": "execution"
   },
   {
    "id": "3fbab79d2ee047d1915a9ecbd2277668",
    "time": "2020-11-17T09:47:15.496Z",
    "type": "completion"
   },
   {
    "code": "grader.check(\"q2\")",
    "id": "0edf1eefe939477f912b8008bc618fa0",
    "idx": 28,
    "time": "2020-11-17T09:47:15.707Z",
    "type": "execution"
   },
   {
    "id": "0edf1eefe939477f912b8008bc618fa0",
    "time": "2020-11-17T09:47:15.806Z",
    "type": "completion"
   },
   {
    "code": "from IPython.display import display, Markdown\ndf = pd.DataFrame({\n    'word_1': [1, 0, 1, 0],\n    'word_2': [0, 1, 0, 1],\n    'type': ['spam', 'ham', 'ham', 'ham']\n})\ndisplay(Markdown(\"> Our Original DataFrame has a `type` column and some columns corresponding to words. You can think of each row as a sentence, and the value of 1 or 0 indicates the number of occurences of the word in this sentence.\"))\ndisplay(df);\ndisplay(Markdown(\"> `melt` will turn columns into entries in a variable column. Notice how `word_1` and `word_2` become entries in `variable`; their values are stored in the value column.\"))\ndisplay(df.melt(\"type\"))",
    "id": "dd14c50bdd38456d9b3cde270157235e",
    "idx": 31,
    "time": "2020-11-17T09:47:16.565Z",
    "type": "execution"
   },
   {
    "id": "dd14c50bdd38456d9b3cde270157235e",
    "time": "2020-11-17T09:47:16.680Z",
    "type": "completion"
   },
   {
    "code": "train[train['spam']==1]['email'].head(10)",
    "id": "35e88264484f459b90baecfebd08d7ec",
    "idx": 33,
    "time": "2020-11-17T09:47:17.294Z",
    "type": "execution"
   },
   {
    "id": "35e88264484f459b90baecfebd08d7ec",
    "time": "2020-11-17T09:47:17.383Z",
    "type": "completion"
   },
   {
    "code": "train=train.reset_index(drop=True) # We must do this in order to preserve the ordering of emails to labels for words_in_texts\n\ntrain['free']=train['email'].str.count('free')\ntrain['limit']=train['email'].str.count('limit')\ntrain['sale']=train['email'].str.count('sale')\ntrain['membership']=train['email'].str.count('membership')\ntrain['big']=train['email'].str.count('big')\ntrain['dollar']=train['email'].str.count('dollar')\ngraph=train[['free','limit','sale','membership','big','dollar','spam']].melt('spam')\ngraph\nplt.figure(figsize=(20,12))\nsns.barplot(x='variable',y='value',hue='spam',data=graph,ci=None);",
    "id": "2f976714a10e42dcbc5752b358f49c06",
    "idx": 34,
    "time": "2020-11-17T09:47:17.625Z",
    "type": "execution"
   },
   {
    "id": "2f976714a10e42dcbc5752b358f49c06",
    "time": "2020-11-17T09:47:18.488Z",
    "type": "completion"
   },
   {
    "code": "train['length']=train['email'].str.len()\nsns.distplot(train[train['spam']==0]['length'],hist=False)\nsns.distplot(train[train['spam']==1]['length'],hist=False)\nplt.xlim(0,50000);\nplt.savefig('training_conditional_densities.png')",
    "id": "fe6adc2fd2984f1e8861993752ab38a0",
    "idx": 37,
    "time": "2020-11-17T09:47:18.779Z",
    "type": "execution"
   },
   {
    "id": "fe6adc2fd2984f1e8861993752ab38a0",
    "time": "2020-11-17T09:47:19.411Z",
    "type": "completion"
   },
   {
    "code": "some_words = ['drug', 'bank', 'prescription', 'memo', 'private']\n\nX_train = words_in_texts(some_words,train['email'])\nY_train = train['spam']\n\nX_train[:5], Y_train[:5]\nX_train.shape",
    "id": "a7157ac8ae734ed78ed9638a16b2ac7d",
    "idx": 40,
    "time": "2020-11-17T09:47:23.546Z",
    "type": "execution"
   },
   {
    "id": "a7157ac8ae734ed78ed9638a16b2ac7d",
    "time": "2020-11-17T09:47:23.757Z",
    "type": "completion"
   },
   {
    "code": "grader.check(\"q4\")",
    "id": "cafc55455708459f89f721bb10f967d7",
    "idx": 41,
    "time": "2020-11-17T09:47:23.846Z",
    "type": "execution"
   },
   {
    "id": "cafc55455708459f89f721bb10f967d7",
    "time": "2020-11-17T09:47:23.930Z",
    "type": "completion"
   },
   {
    "code": "from sklearn.linear_model import LogisticRegression\n\nmodel = LogisticRegression.fit(X_train,Y_train)\n\ntraining_accuracy = model.score((X_train,Y_train)\n# print(\"Training Accuracy: \", training_accuracy)",
    "id": "02023bf80e8d43629347a69ca658ea7d",
    "idx": 43,
    "time": "2020-11-17T09:47:29.757Z",
    "type": "execution"
   },
   {
    "id": "02023bf80e8d43629347a69ca658ea7d",
    "time": "2020-11-17T09:47:29.841Z",
    "type": "completion"
   },
   {
    "code": "from sklearn.linear_model import LogisticRegression\n\nmodel = LogisticRegression.fit(X_train,Y_train)\n\ntraining_accuracy = model.score((X_train,Y_train)",
    "id": "5e8c334dd18342de8a1e98889f767bfa",
    "idx": 43,
    "time": "2020-11-17T09:47:38.635Z",
    "type": "execution"
   },
   {
    "id": "5e8c334dd18342de8a1e98889f767bfa",
    "time": "2020-11-17T09:47:38.708Z",
    "type": "completion"
   },
   {
    "code": "from sklearn.linear_model import LogisticRegression\n\nmodel = LogisticRegression.fit(X_train,Y_train)\n\ntraining_accuracy = model.score((X_train,Y_train))",
    "id": "5e8c334dd18342de8a1e98889f767bfa",
    "idx": 43,
    "time": "2020-11-17T09:48:33.812Z",
    "type": "execution"
   },
   {
    "id": "5e8c334dd18342de8a1e98889f767bfa",
    "time": "2020-11-17T09:48:34.155Z",
    "type": "completion"
   },
   {
    "code": "from sklearn.linear_model import LogisticRegression\n\nmodel = LogisticRegression.fit(X_train,Y_train)\n\ntraining_accuracy = model.score(X_train,Y_train)",
    "id": "5e8c334dd18342de8a1e98889f767bfa",
    "idx": 43,
    "time": "2020-11-17T09:48:41.377Z",
    "type": "execution"
   },
   {
    "id": "5e8c334dd18342de8a1e98889f767bfa",
    "time": "2020-11-17T09:48:41.455Z",
    "type": "completion"
   },
   {
    "code": "from sklearn.linear_model import LogisticRegression\n\nmodel = LogisticRegression.fit(X_train,y=Y_train)\n\ntraining_accuracy = model.score(X_train,Y_train)",
    "id": "5e8c334dd18342de8a1e98889f767bfa",
    "idx": 43,
    "time": "2020-11-17T09:48:55.263Z",
    "type": "execution"
   },
   {
    "id": "5e8c334dd18342de8a1e98889f767bfa",
    "time": "2020-11-17T09:48:55.343Z",
    "type": "completion"
   },
   {
    "code": "from sklearn.linear_model import LogisticRegression\n\nmodel = LogisticRegression.fit(X=X_train,y=Y_train)\n\ntraining_accuracy = model.score(X_train,Y_train)",
    "id": "5e8c334dd18342de8a1e98889f767bfa",
    "idx": 43,
    "time": "2020-11-17T09:48:58.714Z",
    "type": "execution"
   },
   {
    "id": "5e8c334dd18342de8a1e98889f767bfa",
    "time": "2020-11-17T09:48:58.789Z",
    "type": "completion"
   },
   {
    "code": "from sklearn.linear_model import LogisticRegression\n\nmodel = LogisticRegression(multi_class='ovr').fit(X=X_train,y=Y_train)\n\ntraining_accuracy = model.score(X_train,Y_train)",
    "id": "5e8c334dd18342de8a1e98889f767bfa",
    "idx": 43,
    "time": "2020-11-17T09:49:39.570Z",
    "type": "execution"
   },
   {
    "id": "5e8c334dd18342de8a1e98889f767bfa",
    "time": "2020-11-17T09:49:39.691Z",
    "type": "completion"
   },
   {
    "code": "from sklearn.linear_model import LogisticRegression\n\nmodel = LogisticRegression(multi_class='ovr').fit(X=X_train,y=Y_train)\n\ntraining_accuracy = model.score(X_train,Y_train)\ntraining_accuracy",
    "id": "5e8c334dd18342de8a1e98889f767bfa",
    "idx": 43,
    "time": "2020-11-17T09:49:45.550Z",
    "type": "execution"
   },
   {
    "id": "5e8c334dd18342de8a1e98889f767bfa",
    "time": "2020-11-17T09:49:45.683Z",
    "type": "completion"
   },
   {
    "code": "from sklearn.linear_model import LogisticRegression\n\nmodel = LogisticRegression(multi_class='ovr').fit(X=X_train,y=Y_train)\n\ntraining_accuracy = model.score(X_train,Y_train)\ntraining_accuracy\nprint(\"Training Accuracy: \", training_accuracy)",
    "id": "02023bf80e8d43629347a69ca658ea7d",
    "idx": 44,
    "time": "2020-11-17T09:49:54.553Z",
    "type": "execution"
   },
   {
    "id": "02023bf80e8d43629347a69ca658ea7d",
    "time": "2020-11-17T09:49:54.889Z",
    "type": "completion"
   },
   {
    "code": "from sklearn.linear_model import LogisticRegression\n\nmodel = LogisticRegression(multi_class='ovr').fit(X=X_train,y=Y_train)\n\ntraining_accuracy = model.score(X_train,Y_train)\ntraining_accuracy\nprint(\"Training Accuracy: \", training_accuracy)",
    "id": "02023bf80e8d43629347a69ca658ea7d",
    "idx": 44,
    "time": "2020-11-17T09:49:55.348Z",
    "type": "execution"
   },
   {
    "id": "02023bf80e8d43629347a69ca658ea7d",
    "time": "2020-11-17T09:49:55.492Z",
    "type": "completion"
   },
   {
    "code": "grader.check(\"q5\")",
    "id": "582649ae718a4cef8a685ac75657b010",
    "idx": 45,
    "time": "2020-11-17T09:49:55.804Z",
    "type": "execution"
   },
   {
    "id": "582649ae718a4cef8a685ac75657b010",
    "time": "2020-11-17T09:49:55.882Z",
    "type": "completion"
   },
   {
    "code": "y_train==1",
    "id": "590c65dbd5474e4bb63fe1cabfc4ba13",
    "idx": 48,
    "time": "2020-11-17T09:52:11.551Z",
    "type": "execution"
   },
   {
    "id": "590c65dbd5474e4bb63fe1cabfc4ba13",
    "time": "2020-11-17T09:52:11.634Z",
    "type": "completion"
   },
   {
    "code": "y_train",
    "id": "590c65dbd5474e4bb63fe1cabfc4ba13",
    "idx": 48,
    "time": "2020-11-17T09:52:13.854Z",
    "type": "execution"
   },
   {
    "id": "590c65dbd5474e4bb63fe1cabfc4ba13",
    "time": "2020-11-17T09:52:13.931Z",
    "type": "completion"
   },
   {
    "code": "Y_train",
    "id": "590c65dbd5474e4bb63fe1cabfc4ba13",
    "idx": 48,
    "time": "2020-11-17T09:52:22.938Z",
    "type": "execution"
   },
   {
    "id": "590c65dbd5474e4bb63fe1cabfc4ba13",
    "time": "2020-11-17T09:52:23.016Z",
    "type": "completion"
   },
   {
    "code": "Y_train==1",
    "id": "590c65dbd5474e4bb63fe1cabfc4ba13",
    "idx": 48,
    "time": "2020-11-17T09:52:27.401Z",
    "type": "execution"
   },
   {
    "id": "590c65dbd5474e4bb63fe1cabfc4ba13",
    "time": "2020-11-17T09:52:27.476Z",
    "type": "completion"
   },
   {
    "code": "mp.sum(Y_train)",
    "id": "590c65dbd5474e4bb63fe1cabfc4ba13",
    "idx": 48,
    "time": "2020-11-17T09:53:04.421Z",
    "type": "execution"
   },
   {
    "id": "590c65dbd5474e4bb63fe1cabfc4ba13",
    "time": "2020-11-17T09:53:04.497Z",
    "type": "completion"
   },
   {
    "code": "np.sum(Y_train)",
    "id": "590c65dbd5474e4bb63fe1cabfc4ba13",
    "idx": 48,
    "time": "2020-11-17T09:53:07.956Z",
    "type": "execution"
   },
   {
    "id": "590c65dbd5474e4bb63fe1cabfc4ba13",
    "time": "2020-11-17T09:53:08.022Z",
    "type": "completion"
   },
   {
    "code": "zero_predictor_fp = 0\nzero_predictor_fn = np.sum(Y_train)\nzero_predictor_fp, zero_predictor_fn",
    "id": "410b006c87a04274bb8fb973b1d712f3",
    "idx": 49,
    "time": "2020-11-17T09:53:14.622Z",
    "type": "execution"
   },
   {
    "id": "410b006c87a04274bb8fb973b1d712f3",
    "time": "2020-11-17T09:53:14.693Z",
    "type": "completion"
   },
   {
    "code": "zero_predictor_fp = 0\nzero_predictor_fn = np.sum(Y_train)\nzero_predictor_fp, zero_predictor_fn",
    "id": "410b006c87a04274bb8fb973b1d712f3",
    "idx": 49,
    "time": "2020-11-17T09:53:15.007Z",
    "type": "execution"
   },
   {
    "id": "410b006c87a04274bb8fb973b1d712f3",
    "time": "2020-11-17T09:53:15.084Z",
    "type": "completion"
   },
   {
    "code": "grader.check(\"q6a\")",
    "id": "91b56689f6a743c48b115374a87c8e02",
    "idx": 50,
    "time": "2020-11-17T09:53:15.286Z",
    "type": "execution"
   },
   {
    "id": "91b56689f6a743c48b115374a87c8e02",
    "time": "2020-11-17T09:53:15.393Z",
    "type": "completion"
   },
   {
    "code": "len(Y_train)",
    "id": "1d66631ba0104e939656496470dd18d0",
    "idx": 52,
    "time": "2020-11-17T09:54:07.725Z",
    "type": "execution"
   },
   {
    "id": "1d66631ba0104e939656496470dd18d0",
    "time": "2020-11-17T09:54:07.796Z",
    "type": "completion"
   },
   {
    "code": "zero_predictor_acc = (len(Y_train)-np.sum(Y_train))/len(Y_train)\nzero_predictor_recall = 0\nzero_predictor_acc, zero_predictor_recall",
    "id": "1fb97c7ae455496b91103aae907a7df1",
    "idx": 53,
    "time": "2020-11-17T09:55:45.125Z",
    "type": "execution"
   },
   {
    "id": "1fb97c7ae455496b91103aae907a7df1",
    "time": "2020-11-17T09:55:45.223Z",
    "type": "completion"
   },
   {
    "code": "zero_predictor_acc = (len(Y_train)-np.sum(Y_train))/len(Y_train)\nzero_predictor_recall = 0\nzero_predictor_acc, zero_predictor_recall",
    "id": "1fb97c7ae455496b91103aae907a7df1",
    "idx": 53,
    "time": "2020-11-17T09:55:45.770Z",
    "type": "execution"
   },
   {
    "id": "1fb97c7ae455496b91103aae907a7df1",
    "time": "2020-11-17T09:55:45.856Z",
    "type": "completion"
   },
   {
    "code": "grader.check(\"q6b\")",
    "id": "1deac45da26e4b59b614673869683236",
    "idx": 54,
    "time": "2020-11-17T09:55:46.324Z",
    "type": "execution"
   },
   {
    "id": "1deac45da26e4b59b614673869683236",
    "time": "2020-11-17T09:55:46.425Z",
    "type": "completion"
   },
   {
    "code": "zero_predictor_acc = (len(Y_train)-np.sum(Y_train))/len(Y_train)\nzero_predictor_recall = 1\nzero_predictor_acc, zero_predictor_recall",
    "id": "1fb97c7ae455496b91103aae907a7df1",
    "idx": 53,
    "time": "2020-11-17T09:55:50.257Z",
    "type": "execution"
   },
   {
    "id": "1fb97c7ae455496b91103aae907a7df1",
    "time": "2020-11-17T09:55:50.323Z",
    "type": "completion"
   },
   {
    "code": "zero_predictor_acc = (len(Y_train)-np.sum(Y_train))/len(Y_train)\nzero_predictor_recall = 1\nzero_predictor_acc, zero_predictor_recall",
    "id": "1fb97c7ae455496b91103aae907a7df1",
    "idx": 53,
    "time": "2020-11-17T09:55:50.722Z",
    "type": "execution"
   },
   {
    "id": "1fb97c7ae455496b91103aae907a7df1",
    "time": "2020-11-17T09:55:50.786Z",
    "type": "completion"
   },
   {
    "code": "grader.check(\"q6b\")",
    "id": "1deac45da26e4b59b614673869683236",
    "idx": 54,
    "time": "2020-11-17T09:55:51.017Z",
    "type": "execution"
   },
   {
    "id": "1deac45da26e4b59b614673869683236",
    "time": "2020-11-17T09:55:51.093Z",
    "type": "completion"
   },
   {
    "code": "zero_predictor_acc = (len(Y_train)-np.sum(Y_train))/len(Y_train)\nzero_predictor_recall = 0\nzero_predictor_acc, zero_predictor_recall",
    "id": "1fb97c7ae455496b91103aae907a7df1",
    "idx": 53,
    "time": "2020-11-17T09:55:54.069Z",
    "type": "execution"
   },
   {
    "id": "1fb97c7ae455496b91103aae907a7df1",
    "time": "2020-11-17T09:55:54.149Z",
    "type": "completion"
   },
   {
    "code": "zero_predictor_acc = (len(Y_train)-np.sum(Y_train))/len(Y_train)\nzero_predictor_recall = 0\nzero_predictor_acc, zero_predictor_recall",
    "id": "1fb97c7ae455496b91103aae907a7df1",
    "idx": 53,
    "time": "2020-11-17T09:55:54.662Z",
    "type": "execution"
   },
   {
    "id": "1fb97c7ae455496b91103aae907a7df1",
    "time": "2020-11-17T09:55:54.728Z",
    "type": "completion"
   },
   {
    "code": "grader.check(\"q6b\")",
    "id": "1deac45da26e4b59b614673869683236",
    "idx": 54,
    "time": "2020-11-17T09:55:55.127Z",
    "type": "execution"
   },
   {
    "id": "1deac45da26e4b59b614673869683236",
    "time": "2020-11-17T09:55:55.201Z",
    "type": "completion"
   },
   {
    "code": "from sklearn.linear_model import LogisticRegression\n\nmodel = LogisticRegression(multi_class='ovr').fit(X=X_train,y=Y_train)\npredict=model.predict(X_train)\ntraining_accuracy = model.score(X_train,Y_train)\ntraining_accuracy\nprint(\"Training Accuracy: \", training_accuracy)",
    "id": "02023bf80e8d43629347a69ca658ea7d",
    "idx": 43,
    "time": "2020-11-17T09:57:17.856Z",
    "type": "execution"
   },
   {
    "id": "02023bf80e8d43629347a69ca658ea7d",
    "time": "2020-11-17T09:57:17.991Z",
    "type": "completion"
   },
   {
    "code": "predict",
    "id": "590c65dbd5474e4bb63fe1cabfc4ba13",
    "idx": 48,
    "time": "2020-11-17T09:57:25.925Z",
    "type": "execution"
   },
   {
    "id": "590c65dbd5474e4bb63fe1cabfc4ba13",
    "time": "2020-11-17T09:57:25.996Z",
    "type": "completion"
   },
   {
    "code": "tp=predict&Y_train\n\n\n# logistic_predictor_precision = ...\n# logistic_predictor_recall = ...\n# logistic_predictor_far = ...",
    "id": "82a434771d13463f828d36ff2b2b972f",
    "idx": 58,
    "time": "2020-11-17T10:03:05.254Z",
    "type": "execution"
   },
   {
    "id": "82a434771d13463f828d36ff2b2b972f",
    "time": "2020-11-17T10:03:05.399Z",
    "type": "completion"
   },
   {
    "code": "tp=np.sum(predict&Y_train)\n\n\n# logistic_predictor_precision = ...\n# logistic_predictor_recall = ...\n# logistic_predictor_far = ...",
    "id": "82a434771d13463f828d36ff2b2b972f",
    "idx": 58,
    "time": "2020-11-17T10:03:14.300Z",
    "type": "execution"
   },
   {
    "id": "82a434771d13463f828d36ff2b2b972f",
    "time": "2020-11-17T10:03:14.371Z",
    "type": "completion"
   },
   {
    "code": "tp=np.sum(predict&Y_train)\n\n\n# logistic_predictor_precision = ...\n# logistic_predictor_recall = ...\n# logistic_predictor_far = ...",
    "id": "82a434771d13463f828d36ff2b2b972f",
    "idx": 58,
    "time": "2020-11-17T10:27:46.682Z",
    "type": "execution"
   },
   {
    "id": "82a434771d13463f828d36ff2b2b972f",
    "time": "2020-11-17T10:27:46.754Z",
    "type": "completion"
   },
   {
    "code": "Y_train\n",
    "id": "81d8bef10ac54b34b9a3672abe12fbba",
    "idx": 58,
    "time": "2020-11-17T10:29:12.802Z",
    "type": "execution"
   },
   {
    "id": "81d8bef10ac54b34b9a3672abe12fbba",
    "time": "2020-11-17T10:29:12.907Z",
    "type": "completion"
   },
   {
    "code": "~Y_train\n",
    "id": "81d8bef10ac54b34b9a3672abe12fbba",
    "idx": 58,
    "time": "2020-11-17T10:29:17.887Z",
    "type": "execution"
   },
   {
    "id": "81d8bef10ac54b34b9a3672abe12fbba",
    "time": "2020-11-17T10:29:17.969Z",
    "type": "completion"
   },
   {
    "code": "Y_train\n",
    "id": "81d8bef10ac54b34b9a3672abe12fbba",
    "idx": 58,
    "time": "2020-11-17T10:29:24.775Z",
    "type": "execution"
   },
   {
    "id": "81d8bef10ac54b34b9a3672abe12fbba",
    "time": "2020-11-17T10:29:24.859Z",
    "type": "completion"
   },
   {
    "code": "!Y_train\n",
    "id": "81d8bef10ac54b34b9a3672abe12fbba",
    "idx": 58,
    "time": "2020-11-17T10:29:30.163Z",
    "type": "execution"
   },
   {
    "id": "81d8bef10ac54b34b9a3672abe12fbba",
    "time": "2020-11-17T10:29:30.922Z",
    "type": "completion"
   },
   {
    "code": "not Y_train\n",
    "id": "81d8bef10ac54b34b9a3672abe12fbba",
    "idx": 58,
    "time": "2020-11-17T10:29:38.598Z",
    "type": "execution"
   },
   {
    "id": "81d8bef10ac54b34b9a3672abe12fbba",
    "time": "2020-11-17T10:29:38.701Z",
    "type": "completion"
   },
   {
    "code": "^Y_train\n",
    "id": "81d8bef10ac54b34b9a3672abe12fbba",
    "idx": 58,
    "time": "2020-11-17T10:30:11.590Z",
    "type": "execution"
   },
   {
    "id": "81d8bef10ac54b34b9a3672abe12fbba",
    "time": "2020-11-17T10:30:11.664Z",
    "type": "completion"
   },
   {
    "code": "~Y_train\n",
    "id": "81d8bef10ac54b34b9a3672abe12fbba",
    "idx": 58,
    "time": "2020-11-17T10:30:18.876Z",
    "type": "execution"
   },
   {
    "id": "81d8bef10ac54b34b9a3672abe12fbba",
    "time": "2020-11-17T10:30:18.960Z",
    "type": "completion"
   },
   {
    "code": "Y_train\n",
    "id": "81d8bef10ac54b34b9a3672abe12fbba",
    "idx": 58,
    "time": "2020-11-17T10:30:26.932Z",
    "type": "execution"
   },
   {
    "id": "81d8bef10ac54b34b9a3672abe12fbba",
    "time": "2020-11-17T10:30:27.001Z",
    "type": "completion"
   },
   {
    "code": "Y_train==0\n",
    "id": "81d8bef10ac54b34b9a3672abe12fbba",
    "idx": 58,
    "time": "2020-11-17T10:30:45.999Z",
    "type": "execution"
   },
   {
    "id": "81d8bef10ac54b34b9a3672abe12fbba",
    "time": "2020-11-17T10:30:46.070Z",
    "type": "completion"
   },
   {
    "code": "(Y_train==0) & (predict==1)\n",
    "id": "81d8bef10ac54b34b9a3672abe12fbba",
    "idx": 58,
    "time": "2020-11-17T10:31:56.007Z",
    "type": "execution"
   },
   {
    "id": "81d8bef10ac54b34b9a3672abe12fbba",
    "time": "2020-11-17T10:31:56.087Z",
    "type": "completion"
   },
   {
    "code": "np.sum((Y_train==0) & (predict==1))\n",
    "id": "81d8bef10ac54b34b9a3672abe12fbba",
    "idx": 58,
    "time": "2020-11-17T10:32:51.996Z",
    "type": "execution"
   },
   {
    "id": "81d8bef10ac54b34b9a3672abe12fbba",
    "time": "2020-11-17T10:32:52.077Z",
    "type": "completion"
   },
   {
    "code": "tp=np.sum(predict&Y_train)\nfp=np.sum((Y_train==0) & (predict==1))\n\nlogistic_predictor_precision = tp/np.sum(predict)\nlogistic_predictor_recall = tp/np.sum(Y_train)\nlogistic_predictor_far = fp",
    "id": "82a434771d13463f828d36ff2b2b972f",
    "idx": 59,
    "time": "2020-11-17T10:33:56.996Z",
    "type": "execution"
   },
   {
    "id": "82a434771d13463f828d36ff2b2b972f",
    "time": "2020-11-17T10:33:57.068Z",
    "type": "completion"
   },
   {
    "code": "tp=np.sum(predict&Y_train)\nfp=np.sum((Y_train==0) & (predict==1))\n\nlogistic_predictor_precision = tp/np.sum(predict)\nlogistic_predictor_recall = tp/np.sum(Y_train)\nlogistic_predictor_far = fp",
    "id": "82a434771d13463f828d36ff2b2b972f",
    "idx": 59,
    "time": "2020-11-17T10:33:58.590Z",
    "type": "execution"
   },
   {
    "id": "82a434771d13463f828d36ff2b2b972f",
    "time": "2020-11-17T10:33:58.663Z",
    "type": "completion"
   },
   {
    "code": "grader.check(\"q6d\")",
    "id": "b675a87ed79f40728cb36789715cf6a5",
    "idx": 60,
    "time": "2020-11-17T10:33:59.006Z",
    "type": "execution"
   },
   {
    "id": "b675a87ed79f40728cb36789715cf6a5",
    "time": "2020-11-17T10:33:59.109Z",
    "type": "completion"
   },
   {
    "code": "tp=np.sum(predict&Y_train)\nfp=np.sum((Y_train==0) & (predict==1))\n\nlogistic_predictor_precision = tp/np.sum(predict)\nlogistic_predictor_recall = tp/np.sum(Y_train)\nlogistic_predictor_far = fp+1",
    "id": "82a434771d13463f828d36ff2b2b972f",
    "idx": 59,
    "time": "2020-11-17T10:34:02.284Z",
    "type": "execution"
   },
   {
    "id": "82a434771d13463f828d36ff2b2b972f",
    "time": "2020-11-17T10:34:02.354Z",
    "type": "completion"
   },
   {
    "code": "tp=np.sum(predict&Y_train)\nfp=np.sum((Y_train==0) & (predict==1))\n\nlogistic_predictor_precision = tp/np.sum(predict)\nlogistic_predictor_recall = tp/np.sum(Y_train)\nlogistic_predictor_far = fp+1",
    "id": "82a434771d13463f828d36ff2b2b972f",
    "idx": 59,
    "time": "2020-11-17T10:34:02.628Z",
    "type": "execution"
   },
   {
    "id": "82a434771d13463f828d36ff2b2b972f",
    "time": "2020-11-17T10:34:02.696Z",
    "type": "completion"
   },
   {
    "code": "grader.check(\"q6d\")",
    "id": "b675a87ed79f40728cb36789715cf6a5",
    "idx": 60,
    "time": "2020-11-17T10:34:02.875Z",
    "type": "execution"
   },
   {
    "id": "b675a87ed79f40728cb36789715cf6a5",
    "time": "2020-11-17T10:34:02.952Z",
    "type": "completion"
   },
   {
    "code": "tp=np.sum(predict&Y_train)\nfp=np.sum((Y_train==0) & (predict==1))\n\nlogistic_predictor_precision = tp/np.sum(predict)\nlogistic_predictor_recall = tp/np.sum(Y_train)\nlogistic_predictor_far = fp",
    "id": "82a434771d13463f828d36ff2b2b972f",
    "idx": 59,
    "time": "2020-11-17T10:34:05.837Z",
    "type": "execution"
   },
   {
    "id": "82a434771d13463f828d36ff2b2b972f",
    "time": "2020-11-17T10:34:05.906Z",
    "type": "completion"
   },
   {
    "code": "tp=np.sum(predict&Y_train)\nfp=np.sum((Y_train==0) & (predict==1))\n\nlogistic_predictor_precision = tp/np.sum(predict)\nlogistic_predictor_recall = tp/np.sum(Y_train)\nlogistic_predictor_far = fp",
    "id": "82a434771d13463f828d36ff2b2b972f",
    "idx": 59,
    "time": "2020-11-17T10:34:06.282Z",
    "type": "execution"
   },
   {
    "id": "82a434771d13463f828d36ff2b2b972f",
    "time": "2020-11-17T10:34:06.350Z",
    "type": "completion"
   },
   {
    "code": "grader.check(\"q6d\")",
    "id": "b675a87ed79f40728cb36789715cf6a5",
    "idx": 60,
    "time": "2020-11-17T10:34:06.567Z",
    "type": "execution"
   },
   {
    "id": "b675a87ed79f40728cb36789715cf6a5",
    "time": "2020-11-17T10:34:06.646Z",
    "type": "completion"
   },
   {
    "code": "tp=np.sum(predict&Y_train)\nfp=np.sum((Y_train==0) & (predict==1))\n\nlogistic_predictor_precision = tp/np.sum(predict)\nlogistic_predictor_recall = tp/np.sum(Y_train)\nlogistic_predictor_far = fp\nlogistic_predictor_precision,logistic_predictor_recall,logistic_predictor_far",
    "id": "82a434771d13463f828d36ff2b2b972f",
    "idx": 59,
    "time": "2020-11-17T10:34:20.212Z",
    "type": "execution"
   },
   {
    "id": "82a434771d13463f828d36ff2b2b972f",
    "time": "2020-11-17T10:34:20.295Z",
    "type": "completion"
   },
   {
    "code": "tp=np.sum(predict&Y_train)\nfp=np.sum((Y_train==0) & (predict==1))\ntn = np.sum((Y_train==0) & (predict==0))\nlogistic_predictor_precision = tp/np.sum(predict)\nlogistic_predictor_recall = tp/np.sum(Y_train)\nlogistic_predictor_far = fp/(fp+tn)\nlogistic_predictor_precision,logistic_predictor_recall,logistic_predictor_far",
    "id": "82a434771d13463f828d36ff2b2b972f",
    "idx": 59,
    "time": "2020-11-17T10:35:30.132Z",
    "type": "execution"
   },
   {
    "id": "82a434771d13463f828d36ff2b2b972f",
    "time": "2020-11-17T10:35:30.205Z",
    "type": "completion"
   },
   {
    "code": "tp=np.sum(predict&Y_train)\nfp=np.sum((Y_train==0) & (predict==1))\ntn = np.sum((Y_train==0) & (predict==0))\nlogistic_predictor_precision = tp/np.sum(predict)\nlogistic_predictor_recall = tp/np.sum(Y_train)\nlogistic_predictor_far = fp/(fp+tn)\nlogistic_predictor_precision,logistic_predictor_recall,logistic_predictor_far",
    "id": "82a434771d13463f828d36ff2b2b972f",
    "idx": 59,
    "time": "2020-11-17T10:35:34.575Z",
    "type": "execution"
   },
   {
    "id": "82a434771d13463f828d36ff2b2b972f",
    "time": "2020-11-17T10:35:34.644Z",
    "type": "completion"
   },
   {
    "code": "grader.check(\"q6d\")",
    "id": "b675a87ed79f40728cb36789715cf6a5",
    "idx": 60,
    "time": "2020-11-17T10:35:34.827Z",
    "type": "execution"
   },
   {
    "id": "b675a87ed79f40728cb36789715cf6a5",
    "time": "2020-11-17T10:35:34.905Z",
    "type": "completion"
   }
  ],
  "kernelspec": {
   "display_name": "Python 3 (ipykernel)",
   "language": "python",
   "name": "python3"
  },
  "language_info": {
   "codemirror_mode": {
    "name": "ipython",
    "version": 3
   },
   "file_extension": ".py",
   "mimetype": "text/x-python",
   "name": "python",
   "nbconvert_exporter": "python",
   "pygments_lexer": "ipython3",
   "version": "3.9.7"
  }
 },
 "nbformat": 4,
 "nbformat_minor": 2
}
